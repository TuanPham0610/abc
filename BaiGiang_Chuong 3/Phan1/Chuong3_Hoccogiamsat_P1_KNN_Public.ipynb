{
 "cells": [
  {
   "cell_type": "markdown",
   "metadata": {},
   "source": [
    "<h2 align='center'> MÔN HỌC: <br> HỌC MÁY (MACHINE LEARNING) </h2>\n",
    "\n",
    "---\n",
    "\n",
    "\n",
    "### CHƯƠNG 3: HỌC CÓ GIÁM SÁT - Phần 01 - KNN\n",
    "\n",
    "---\n",
    "Một thuật toán học máy được gọi là học có giám sát (supervised learning) nếu việc xây dựng mô hình dự đoán mối quan hệ giữa đầu vào và đầu ra được thực hiện dựa trên các cặp (đầu vào - input, đầu ra - label) đã biết trong tập huấn luyện. Đây là nhóm thuật toán phổ biến nhất trong các thuật toán machine learning.\n",
    "\n",
    "Tập dữ liệu học (Training data) bao gồm các quan sát (Examples, Observations), mà mỗi quan sát được gắn kèm với một giá trị đầu ra mong muốn (Label)\n",
    "<img src='pic/label.png' width='600px'>\n",
    "\n",
    "Học có giám sát bao gồm 2 loại:\n",
    "* Phân loại (Classification): Nếu nhãn (y – Target) thuộc tập rời rạc và hữu hạn\n",
    "* Hồi quy (Regression): Nếu nhãn (y – Target) là biến liên tục (các số thực) ví dụ như dự báo nhiệt độ, giá nhà, mức tiêu thụ điện năng…\n",
    "\n",
    "<img src='pic/type.png' width='500px'>"
   ]
  },
  {
   "cell_type": "markdown",
   "metadata": {},
   "source": [
    "### I) GIỚI THIỆU THUẬT TOÁN KNN\n",
    "---\n",
    "Bản chất, KNN là thuật toán đi tìm đầu ra cuả một điểm dữ liệu mới bằng cách chỉ dựa trên thông tin của K điểm dữ liệu trong tập huấn luyện gần nó nhất (K-lân cận)\n",
    "\n",
    "<img src='pic/knn.png' width='200px'>\n",
    "\n",
    "**Xác định người láng giềng gần nhất:**\n",
    "<img src='pic/knn1.png' width='300px'>\n",
    "\n",
    "**Tính khoảng cách giữa 2 điểm A-B:**\n",
    "<img src='pic/distance1_knn.png' width='400px'>\n",
    "<img src='pic/distance2_knn.png' width='200px'>\n",
    "\n",
    "Ưu điểm:\n",
    "* Độ phức tạp tính toán trong quá trình huấn luyện bằng 0\n",
    "* Việc dự đoán kết quả của dữ liệu mới rất đơn giản\n",
    "* Không cần giả sử gì về phân phối của các class\n",
    "\n",
    "Nhược điểm:\n",
    "* KNN rất nhạy với nhiễu khi K nhỏ.\n",
    "* Tính toán khoảng cách tới từng điểm dữ liệu trong trong tập huấn luyện tốn rất nhiều thời gian, đặc biệt với các CSDL có số chiều lớn và có nhiều điểm dữ liệu. K càng lớn thì độ phức tạp càng tăng.\n",
    "* Lưu toàn bộ dữ liệu trong bộ nhớ ảnh hưởng tới hiệu năng của KNN"
   ]
  },
  {
   "cell_type": "markdown",
   "metadata": {},
   "source": [
    "### II. THỰC HÀNH MÔ HÌNH KNN CHO BÀI TOÁN TITANIC:\n",
    "---\n",
    " Xây dựng model học máy dự đoán khả năng không được cứu (0) - được cứu (1) của hành khách dựa trên các thông tin liên quan\n",
    "\n",
    "<img src='Pic/titanic.jpg'>"
   ]
  },
  {
   "cell_type": "code",
   "execution_count": 13,
   "metadata": {},
   "outputs": [],
   "source": [
    "#Gọi các thư viện sử dụng cho Project:\n",
    "# Data analysis and wrangling:\n",
    "import pandas as pd\n",
    "import numpy as np\n",
    "\n",
    "# visualization:\n",
    "import matplotlib.pyplot as plt\n",
    "%matplotlib inline\n",
    "#---------------------------------------\n",
    "import warnings\n",
    "warnings.filterwarnings('ignore')"
   ]
  },
  {
   "cell_type": "markdown",
   "metadata": {},
   "source": [
    "### 1. Đọc dữ liệu đã chuẩn hóa:\n",
    "---"
   ]
  },
  {
   "cell_type": "code",
   "execution_count": 16,
   "metadata": {},
   "outputs": [
    {
     "name": "stdout",
     "output_type": "stream",
     "text": [
      "      Survived  Pclass  Sex  Age  SibSp  Parch  Embarked\n",
      "0            0       3    0    1      1      0         0\n",
      "1            1       1    1    2      1      0         1\n",
      "2            1       3    1    1      0      0         0\n",
      "3            1       1    1    2      1      0         0\n",
      "4            0       3    0    2      0      0         0\n",
      "...        ...     ...  ...  ...    ...    ...       ...\n",
      "1304         0       3    0    1      0      0         0\n",
      "1305         1       1    1    2      0      0         1\n",
      "1306         0       3    0    2      0      0         0\n",
      "1307         0       3    0    1      0      0         0\n",
      "1308         0       3    0    1      1      1         1\n",
      "\n",
      "[1309 rows x 7 columns]\n"
     ]
    }
   ],
   "source": [
    "#Đọc tập dữ liệu đã xử lý:\n",
    "df_titanic = pd.read_excel(\"Data/Data_Titanic_OK.xlsx\")\n",
    "print(df_titanic)\n"
   ]
  },
  {
   "cell_type": "code",
   "execution_count": 15,
   "metadata": {},
   "outputs": [
    {
     "name": "stdout",
     "output_type": "stream",
     "text": [
      "<class 'pandas.core.frame.DataFrame'>\n",
      "RangeIndex: 1309 entries, 0 to 1308\n",
      "Data columns (total 7 columns):\n",
      " #   Column    Non-Null Count  Dtype\n",
      "---  ------    --------------  -----\n",
      " 0   Survived  1309 non-null   int64\n",
      " 1   Pclass    1309 non-null   int64\n",
      " 2   Sex       1309 non-null   int64\n",
      " 3   Age       1309 non-null   int64\n",
      " 4   SibSp     1309 non-null   int64\n",
      " 5   Parch     1309 non-null   int64\n",
      " 6   Embarked  1309 non-null   int64\n",
      "dtypes: int64(7)\n",
      "memory usage: 71.7 KB\n"
     ]
    }
   ],
   "source": [
    "#Hiển thị dữ liệu Titanic:\n",
    "df_titanic.info()"
   ]
  },
  {
   "cell_type": "markdown",
   "metadata": {},
   "source": [
    "## Mô tả các thuộc tính:\n",
    "---\n",
    "* 1.Survived: 0: Không được cứu - 1: Được cứu\n",
    "* 2.Pclass: Hạng vé( 1 - hạng nhất, 2 - hạng 2, 3 - hạng 3)\n",
    "* 3.Sex: Giới tính (0 - Male, 1 - Nữ)\n",
    "* 4.Age: Độ tuổi\n",
    "        * 0: Tuổi từ 0 - 16 tuổi\n",
    "        * 1: Tuổi từ 17 - 32 tuổi\n",
    "        * 2: Tuổi từ 32 - 48 tuổi\n",
    "        * 3: Tuổi từ 48 - 64 tuổi\n",
    "        * 4: Tuổi từ 64 tuổi trở lên\n",
    "* 5.SibSp: Số lượng anh chị em đi cùng\n",
    "* 6.Parch: Số lượng con cái, ba mẹ đi cùng\n",
    "* 7.Emberked: Cảng lên tàu (0: Cảng S, 1: Cảng C, 2: Cảng Q\n",
    "    \n"
   ]
  },
  {
   "cell_type": "code",
   "execution_count": 20,
   "metadata": {},
   "outputs": [
    {
     "name": "stdout",
     "output_type": "stream",
     "text": [
      "0    815\n",
      "1    494\n",
      "Name: Survived, dtype: int64\n"
     ]
    },
    {
     "data": {
      "image/png": "[encoded data removed]",
      "text/plain": [
       "<Figure size 1000x500 with 2 Axes>"
      ]
     },
     "metadata": {},
     "output_type": "display_data"
    }
   ],
   "source": [
    "#Kiểm tra cân bằng dữ liệu\n",
    "check = df_titanic[\"Survived\"].value_counts()\n",
    "print(check)\n",
    "\n",
    "#Trực quan hóa dữ liệu\n",
    "plt.figure(figsize=(10,5))\n",
    "plt.subplot(1,2,1) #Biểu đồ cột\n",
    "plt.bar([\"0: Không được cứu\", \"1: Được cứu\"],\n",
    "       check.values)\n",
    "plt.grid(ls='--')\n",
    "\n",
    "plt.subplot(1,2,2) # Biểu đồ tròn\n",
    "plt.pie(check.values,\n",
    "       labels=[\"0: Không được cứu\", \"1: Được cứu\"],\n",
    "       autopct='%.1f%%')\n",
    "plt.show()\n",
    "\n",
    "#Nhận xét: Tập dữ liệu mất cân bằng nhẹ về lớp 0. Không cần xử lý"
   ]
  },
  {
   "cell_type": "markdown",
   "metadata": {},
   "source": [
    "## Cân bằng dữ liệu\n",
    "- Cân bằng  (~ tương đương nhau )\n",
    "- Mất cân bằng (70 -30 )\n",
    "- Mất cân bằng trung bình ( 5% - 20 %)\n",
    "- Mất cân bằng cực đoan ( < 5%)"
   ]
  },
  {
   "cell_type": "markdown",
   "metadata": {},
   "source": [
    "### 2. Phân tách Biến Đầu vào: X - Biến phụ thuộc (Nhãn): y\n",
    "---\n",
    "\n",
    "* Biến độc lập X: 'Pclass', 'Sex', 'Age', 'SibSp', 'Parch', 'Embarked'\n",
    "* Biến phụ thuộc (nhãn) y: 'Survived'"
   ]
  },
  {
   "cell_type": "code",
   "execution_count": 21,
   "metadata": {},
   "outputs": [
    {
     "data": {
      "text/html": [
       "<div>\n",
       "<style scoped>\n",
       "    .dataframe tbody tr th:only-of-type {\n",
       "        vertical-align: middle;\n",
       "    }\n",
       "\n",
       "    .dataframe tbody tr th {\n",
       "        vertical-align: top;\n",
       "    }\n",
       "\n",
       "    .dataframe thead th {\n",
       "        text-align: right;\n",
       "    }\n",
       "</style>\n",
       "<table border=\"1\" class=\"dataframe\">\n",
       "  <thead>\n",
       "    <tr style=\"text-align: right;\">\n",
       "      <th></th>\n",
       "      <th>Survived</th>\n",
       "      <th>Pclass</th>\n",
       "      <th>Sex</th>\n",
       "      <th>Age</th>\n",
       "      <th>SibSp</th>\n",
       "      <th>Parch</th>\n",
       "      <th>Embarked</th>\n",
       "    </tr>\n",
       "  </thead>\n",
       "  <tbody>\n",
       "    <tr>\n",
       "      <th>0</th>\n",
       "      <td>0</td>\n",
       "      <td>3</td>\n",
       "      <td>0</td>\n",
       "      <td>1</td>\n",
       "      <td>1</td>\n",
       "      <td>0</td>\n",
       "      <td>0</td>\n",
       "    </tr>\n",
       "    <tr>\n",
       "      <th>1</th>\n",
       "      <td>1</td>\n",
       "      <td>1</td>\n",
       "      <td>1</td>\n",
       "      <td>2</td>\n",
       "      <td>1</td>\n",
       "      <td>0</td>\n",
       "      <td>1</td>\n",
       "    </tr>\n",
       "    <tr>\n",
       "      <th>2</th>\n",
       "      <td>1</td>\n",
       "      <td>3</td>\n",
       "      <td>1</td>\n",
       "      <td>1</td>\n",
       "      <td>0</td>\n",
       "      <td>0</td>\n",
       "      <td>0</td>\n",
       "    </tr>\n",
       "    <tr>\n",
       "      <th>3</th>\n",
       "      <td>1</td>\n",
       "      <td>1</td>\n",
       "      <td>1</td>\n",
       "      <td>2</td>\n",
       "      <td>1</td>\n",
       "      <td>0</td>\n",
       "      <td>0</td>\n",
       "    </tr>\n",
       "    <tr>\n",
       "      <th>4</th>\n",
       "      <td>0</td>\n",
       "      <td>3</td>\n",
       "      <td>0</td>\n",
       "      <td>2</td>\n",
       "      <td>0</td>\n",
       "      <td>0</td>\n",
       "      <td>0</td>\n",
       "    </tr>\n",
       "  </tbody>\n",
       "</table>\n",
       "</div>"
      ],
      "text/plain": [
       "   Survived  Pclass  Sex  Age  SibSp  Parch  Embarked\n",
       "0         0       3    0    1      1      0         0\n",
       "1         1       1    1    2      1      0         1\n",
       "2         1       3    1    1      0      0         0\n",
       "3         1       1    1    2      1      0         0\n",
       "4         0       3    0    2      0      0         0"
      ]
     },
     "execution_count": 21,
     "metadata": {},
     "output_type": "execute_result"
    }
   ],
   "source": [
    "df_titanic.head(5)"
   ]
  },
  {
   "cell_type": "code",
   "execution_count": 29,
   "metadata": {},
   "outputs": [
    {
     "data": {
      "text/plain": [
       "array([[3, 0, 1, 1, 0, 0],\n",
       "       [1, 1, 2, 1, 0, 1],\n",
       "       [3, 1, 1, 0, 0, 0],\n",
       "       ...,\n",
       "       [3, 0, 2, 0, 0, 0],\n",
       "       [3, 0, 1, 0, 0, 0],\n",
       "       [3, 0, 1, 1, 1, 1]], dtype=int64)"
      ]
     },
     "execution_count": 29,
     "metadata": {},
     "output_type": "execute_result"
    }
   ],
   "source": [
    "#Tách lấy biến độc lập - đầu vào mô hình X\n",
    "x = df_titanic.loc[:,['Pclass', 'Sex', 'Age', 'SibSp', 'Parch', 'Embarked']].values\n",
    "x"
   ]
  },
  {
   "cell_type": "code",
   "execution_count": 30,
   "metadata": {},
   "outputs": [
    {
     "data": {
      "text/plain": [
       "(1309, 6)"
      ]
     },
     "execution_count": 30,
     "metadata": {},
     "output_type": "execute_result"
    }
   ],
   "source": [
    "x.shape"
   ]
  },
  {
   "cell_type": "code",
   "execution_count": 34,
   "metadata": {},
   "outputs": [
    {
     "data": {
      "text/plain": [
       "array([0, 1, 1, ..., 0, 0, 0], dtype=int64)"
      ]
     },
     "execution_count": 34,
     "metadata": {},
     "output_type": "execute_result"
    }
   ],
   "source": [
    "#Tách lấy biến phụ thuộc - Đầu ra mô hình y:\n",
    "y = df_titanic.loc[:,'Survived'].values\n",
    "y"
   ]
  },
  {
   "cell_type": "code",
   "execution_count": 36,
   "metadata": {},
   "outputs": [
    {
     "data": {
      "text/plain": [
       "(1309,)"
      ]
     },
     "execution_count": 36,
     "metadata": {},
     "output_type": "execute_result"
    }
   ],
   "source": [
    "y.shape"
   ]
  },
  {
   "cell_type": "markdown",
   "metadata": {},
   "source": [
    "### 3. Tách tập dữ liệu ra tập Training - Test: \n",
    "---\n",
    "1. Biến độc lập X --> X_train, X_test\n",
    "2. Biến phụ thuộc y --> y_train, y_test\n",
    "\n",
    "* Tập Training set (X_train, y_train): dùng để huấn luyện mô hình (80%)\n",
    "* Tập Test set (X_test, y_test): dùng để kiểm thử mô hình (20%)"
   ]
  },
  {
   "cell_type": "code",
   "execution_count": 42,
   "metadata": {},
   "outputs": [
    {
     "name": "stdout",
     "output_type": "stream",
     "text": [
      "Tổng số mẫu dữ liệu:  1309\n",
      "Số mãu trong tập Train:  1047\n",
      "Số mẫu trong tập Test:  262\n"
     ]
    }
   ],
   "source": [
    "#Gọi hàm tách dữ liệu train_test_split trong thư viện sklearn.model_selection:\n",
    "\n",
    "#train_size = 0.8\n",
    "#test_size = 0.2\n",
    "\n",
    "from sklearn.model_selection import train_test_split\n",
    "\n",
    "#Thực hiện tách theo tỷ lệ 80 - 20\n",
    "x_train, x_test, y_train, y_test = train_test_split(x,y,\n",
    "                                                   train_size=0.8, #Kích thước\n",
    "                                                   shuffle=True) #Trộn dữ liệu, lấy ngẫu nhiên\n",
    "print(\"Tổng số mẫu dữ liệu: \", len(y))\n",
    "print(\"Số mãu trong tập Train: \", len(y_train))\n",
    "print(\"Số mẫu trong tập Test: \", len(y_test))\n",
    "\n"
   ]
  },
  {
   "cell_type": "code",
   "execution_count": 46,
   "metadata": {},
   "outputs": [
    {
     "name": "stdout",
     "output_type": "stream",
     "text": [
      "[[3 0 1 2 0 2]\n",
      " [2 1 1 0 1 0]\n",
      " [3 1 1 0 0 2]\n",
      " ...\n",
      " [2 0 1 0 0 0]\n",
      " [3 0 1 0 0 0]\n",
      " [1 1 2 0 0 1]]\n",
      "Kích thước x_train:  (1047, 6)\n"
     ]
    }
   ],
   "source": [
    "#Dữ liệu X_train\n",
    "print(x_train)\n",
    "\n",
    "print(\"Kích thước x_train: \", x_train.shape)"
   ]
  },
  {
   "cell_type": "code",
   "execution_count": 47,
   "metadata": {},
   "outputs": [
    {
     "name": "stdout",
     "output_type": "stream",
     "text": [
      "[1 1 1 ... 0 0 1]\n",
      "Kích thước y_train:  (1047,)\n"
     ]
    }
   ],
   "source": [
    "#Dữ liệu y_train\n",
    "print(y_train)\n",
    "\n",
    "print(\"Kích thước y_train: \", y_train.shape)\n"
   ]
  },
  {
   "cell_type": "code",
   "execution_count": 48,
   "metadata": {},
   "outputs": [
    {
     "name": "stdout",
     "output_type": "stream",
     "text": [
      "[[2 0 1 1 1 0]\n",
      " [3 0 1 0 0 0]\n",
      " [2 0 1 0 0 0]\n",
      " ...\n",
      " [3 1 1 0 0 2]\n",
      " [1 0 0 0 2 1]\n",
      " [3 0 0 3 2 0]]\n",
      "Kích thước x_test:  (262, 6)\n"
     ]
    }
   ],
   "source": [
    "#Dữ liệu x_test\n",
    "print(x_test)\n",
    "\n",
    "print(\"Kích thước x_test: \", x_test.shape)"
   ]
  },
  {
   "cell_type": "code",
   "execution_count": 49,
   "metadata": {},
   "outputs": [
    {
     "name": "stdout",
     "output_type": "stream",
     "text": [
      "[0 0 0 1 0 0 0 1 0 1 0 0 1 0 1 0 0 0 0 0 0 0 0 0 1 0 1 1 0 0 0 1 0 1 0 0 1\n",
      " 0 1 1 0 0 0 0 1 1 0 0 1 1 0 0 1 0 0 0 0 1 1 1 0 0 0 0 0 1 1 0 1 0 0 0 0 0\n",
      " 0 0 0 0 1 1 1 1 0 1 0 0 1 1 1 1 0 0 0 0 1 0 0 1 1 0 0 0 1 1 0 0 1 0 1 1 0\n",
      " 0 0 1 0 0 0 1 0 0 1 0 0 0 1 0 0 1 0 1 0 1 1 1 1 0 0 0 0 1 1 1 1 1 0 1 1 1\n",
      " 0 1 0 0 0 0 0 0 0 1 0 1 0 0 1 0 0 1 0 1 0 1 0 1 0 1 0 0 1 1 1 0 0 0 0 0 0\n",
      " 0 1 0 0 1 1 0 1 0 0 1 0 0 1 0 1 0 0 1 0 0 1 0 0 0 1 1 0 0 0 0 0 0 0 1 0 0\n",
      " 1 0 1 0 0 0 1 0 0 1 1 0 1 0 1 0 1 1 0 1 1 1 1 0 0 0 0 0 0 1 0 0 1 1 1 1 0\n",
      " 0 0 0]\n",
      "Kích thước y_test:  (262,)\n"
     ]
    }
   ],
   "source": [
    "#Dữ liệu y_test\n",
    "print(y_test)\n",
    "\n",
    "print(\"Kích thước y_test: \", y_test.shape)"
   ]
  },
  {
   "cell_type": "markdown",
   "metadata": {},
   "source": [
    "### 4. Xây dựng mô hình KNN cho bài toán phân lớp\n",
    "---\n",
    "Khai báo model KNN sử dụng thư viện sklearn:\n",
    "sklearn.neighbors --> KNeighborsClassifier"
   ]
  },
  {
   "cell_type": "code",
   "execution_count": 51,
   "metadata": {},
   "outputs": [
    {
     "data": {
      "text/plain": [
       "{'algorithm': 'auto',\n",
       " 'leaf_size': 30,\n",
       " 'metric': 'minkowski',\n",
       " 'metric_params': None,\n",
       " 'n_jobs': None,\n",
       " 'n_neighbors': 5,\n",
       " 'p': 2,\n",
       " 'weights': 'uniform'}"
      ]
     },
     "execution_count": 51,
     "metadata": {},
     "output_type": "execute_result"
    }
   ],
   "source": [
    "#Gọi thư viện sklearn với thuật toán phân lớp KNN\n",
    "\n",
    "from sklearn.neighbors import KNeighborsClassifier\n",
    "\n",
    "\n",
    "#Khai báo model KNN sử dụng các tham số mặc định\n",
    "KNN_titanic1 = KNeighborsClassifier(n_neighbors=5)\n",
    "\n",
    "#Hiển thị danh sách tham số: Model.get_params()\n",
    "KNN_titanic1.get_params()\n",
    "\n"
   ]
  },
  {
   "cell_type": "markdown",
   "metadata": {},
   "source": [
    "### Một số tham số quan trọng của thuật toán KNN trong thư viện sklearn:\n",
    "Tham khảo KNN của thư viện sklearn:\n",
    "https://scikit-learn.org/stable/modules/generated/sklearn.neighbors.KNeighborsClassifier.html\n",
    "\n",
    "\n",
    "1. n_neighbors: số điểm lân cận sử dụng (default = 5)\n",
    "2. weights: có tính trọng số của các điểm lân cận hay không?\n",
    "    * uniform: Tất cả các điểm lân cận đều có trọng số như nhau (default)\n",
    "    * distance: Các điểm lân cận gần hơn sẽ được đánh trọng số cao hơn\n",
    "3. algorithm: Thuật toán sử dụng để tính các điểm lân cận: ball_tree, kd_tree, brute, auto (default)\n",
    "4. p: xác định khoảng cách tính theo manhattan (p=1) hay tính theo euclidean (p=2 default)\n"
   ]
  },
  {
   "cell_type": "markdown",
   "metadata": {},
   "source": [
    "### 5. Huấn luyện mô hình\n",
    "---\n",
    "Sử dụng tập dữ liệu Training set để huấn luyện mô hình"
   ]
  },
  {
   "cell_type": "code",
   "execution_count": 52,
   "metadata": {},
   "outputs": [
    {
     "data": {
      "text/plain": [
       "KNeighborsClassifier()"
      ]
     },
     "execution_count": 52,
     "metadata": {},
     "output_type": "execute_result"
    }
   ],
   "source": [
    "#Thực hiện huấn luyện với dữ liệu tập train: Model.fit(X_train,y_train)\n",
    "KNN_titanic1.fit(x_train, y_train)\n",
    "\n"
   ]
  },
  {
   "cell_type": "code",
   "execution_count": 59,
   "metadata": {},
   "outputs": [
    {
     "name": "stdout",
     "output_type": "stream",
     "text": [
      "Độ chính xác trên tập Train:  0.8624641833810889\n",
      "Độ chính xác trên tập Train (%):  86.25 %\n"
     ]
    }
   ],
   "source": [
    "#Độ chính xác của Model trên tập Huấn luyện: Model.score(X_train,y_train)\n",
    "acc1_train = KNN_titanic1.score(x_train, y_train)\n",
    "print(\"Độ chính xác trên tập Train: \", acc1_train)\n",
    "print(\"Độ chính xác trên tập Train (%): \", round(acc1_train * 100,2), '%')\n",
    "\n",
    "\n",
    "\n"
   ]
  },
  {
   "cell_type": "markdown",
   "metadata": {},
   "source": [
    "### 6. Đánh giá độ chính xác của mô hình trên tập Test\n",
    "---"
   ]
  },
  {
   "cell_type": "code",
   "execution_count": 60,
   "metadata": {},
   "outputs": [
    {
     "data": {
      "text/plain": [
       "array([0, 0, 0, 1, 0, 0, 0, 1, 0, 1, 0, 0, 1, 0, 0, 0, 0, 0, 0, 0, 0, 0,\n",
       "       0, 0, 1, 0, 1, 1, 0, 0, 0, 1, 1, 1, 1, 1, 1, 0, 1, 0, 0, 0, 0, 0,\n",
       "       1, 1, 0, 0, 0, 0, 0, 0, 1, 0, 0, 1, 0, 1, 1, 0, 0, 0, 0, 0, 0, 0,\n",
       "       1, 0, 1, 0, 0, 0, 0, 0, 0, 0, 0, 1, 1, 0, 1, 1, 1, 0, 0, 1, 1, 0,\n",
       "       1, 1, 0, 0, 0, 0, 1, 0, 0, 0, 1, 0, 0, 0, 1, 1, 0, 0, 1, 0, 1, 1,\n",
       "       0, 0, 0, 1, 0, 0, 0, 0, 0, 0, 0, 0, 0, 0, 1, 0, 0, 1, 0, 1, 0, 1,\n",
       "       1, 1, 1, 0, 1, 1, 0, 1, 1, 0, 1, 0, 0, 0, 1, 1, 0, 0, 0, 0, 0, 1,\n",
       "       0, 0, 0, 1, 0, 1, 0, 0, 0, 0, 0, 0, 0, 1, 1, 0, 1, 0, 0, 1, 1, 0,\n",
       "       1, 1, 1, 1, 0, 0, 0, 0, 0, 0, 1, 0, 1, 1, 1, 0, 0, 0, 0, 0, 0, 0,\n",
       "       1, 0, 1, 0, 0, 1, 0, 0, 0, 0, 0, 0, 1, 1, 0, 0, 0, 1, 0, 0, 0, 1,\n",
       "       0, 0, 0, 0, 1, 0, 0, 0, 1, 0, 1, 1, 1, 0, 1, 0, 1, 0, 1, 1, 0, 1,\n",
       "       1, 0, 1, 0, 0, 0, 0, 0, 0, 1, 0, 0, 1, 0, 1, 0, 0, 1, 1, 0],\n",
       "      dtype=int64)"
      ]
     },
     "execution_count": 60,
     "metadata": {},
     "output_type": "execute_result"
    }
   ],
   "source": [
    "#Sử dụng mô hình huấn luyện dự đoán trên tập dữ liệu Test: Model.predict(X_test)\n",
    "\n",
    "y_pred1 = KNN_titanic1.predict(x_test)\n"
   ]
  },
  {
   "cell_type": "code",
   "execution_count": 62,
   "metadata": {},
   "outputs": [
    {
     "name": "stdout",
     "output_type": "stream",
     "text": [
      "Số đáp án dự đoán:  262\n",
      "[0 0 0 1 0 0 0 1 0 1 0 0 1 0 0 0 0 0 0 0 0 0 0 0 1 0 1 1 0 0 0 1 1 1 1 1 1\n",
      " 0 1 0 0 0 0 0 1 1 0 0 0 0 0 0 1 0 0 1 0 1 1 0 0 0 0 0 0 0 1 0 1 0 0 0 0 0\n",
      " 0 0 0 1 1 0 1 1 1 0 0 1 1 0 1 1 0 0 0 0 1 0 0 0 1 0 0 0 1 1 0 0 1 0 1 1 0\n",
      " 0 0 1 0 0 0 0 0 0 0 0 0 0 1 0 0 1 0 1 0 1 1 1 1 0 1 1 0 1 1 0 1 0 0 0 1 1\n",
      " 0 0 0 0 0 1 0 0 0 1 0 1 0 0 0 0 0 0 0 1 1 0 1 0 0 1 1 0 1 1 1 1 0 0 0 0 0\n",
      " 0 1 0 1 1 1 0 0 0 0 0 0 0 1 0 1 0 0 1 0 0 0 0 0 0 1 1 0 0 0 1 0 0 0 1 0 0\n",
      " 0 0 1 0 0 0 1 0 1 1 1 0 1 0 1 0 1 1 0 1 1 0 1 0 0 0 0 0 0 1 0 0 1 0 1 0 0\n",
      " 1 1 0]\n"
     ]
    }
   ],
   "source": [
    "#Kết quả dự đoán của mô hình trên tập test:\n",
    "print(\"Số đáp án dự đoán: \", len(y_pred1))\n",
    "print(y_pred1)"
   ]
  },
  {
   "cell_type": "code",
   "execution_count": 63,
   "metadata": {},
   "outputs": [
    {
     "name": "stdout",
     "output_type": "stream",
     "text": [
      "Số hành khách trong tập Test:  262\n",
      "[0 0 0 1 0 0 0 1 0 1 0 0 1 0 1 0 0 0 0 0 0 0 0 0 1 0 1 1 0 0 0 1 0 1 0 0 1\n",
      " 0 1 1 0 0 0 0 1 1 0 0 1 1 0 0 1 0 0 0 0 1 1 1 0 0 0 0 0 1 1 0 1 0 0 0 0 0\n",
      " 0 0 0 0 1 1 1 1 0 1 0 0 1 1 1 1 0 0 0 0 1 0 0 1 1 0 0 0 1 1 0 0 1 0 1 1 0\n",
      " 0 0 1 0 0 0 1 0 0 1 0 0 0 1 0 0 1 0 1 0 1 1 1 1 0 0 0 0 1 1 1 1 1 0 1 1 1\n",
      " 0 1 0 0 0 0 0 0 0 1 0 1 0 0 1 0 0 1 0 1 0 1 0 1 0 1 0 0 1 1 1 0 0 0 0 0 0\n",
      " 0 1 0 0 1 1 0 1 0 0 1 0 0 1 0 1 0 0 1 0 0 1 0 0 0 1 1 0 0 0 0 0 0 0 1 0 0\n",
      " 1 0 1 0 0 0 1 0 0 1 1 0 1 0 1 0 1 1 0 1 1 1 1 0 0 0 0 0 0 1 0 0 1 1 1 1 0\n",
      " 0 0 0]\n"
     ]
    }
   ],
   "source": [
    "#Dữ liệu thật của hành khách trong tập test\n",
    "print(\"Số hành khách trong tập Test: \", len(y_test))\n",
    "print(y_test)"
   ]
  },
  {
   "cell_type": "code",
   "execution_count": 64,
   "metadata": {},
   "outputs": [
    {
     "name": "stdout",
     "output_type": "stream",
     "text": [
      "Giá trị thật (Ground Truth):  [0 0 0 1 0 0 0 1 0 1 0 0 1 0 1 0 0 0 0 0]\n",
      "Mô hình dự đoán : [0 0 0 1 0 0 0 1 0 1 0 0 1 0 0 0 0 0 0 0]\n"
     ]
    }
   ],
   "source": [
    "#So sánh kết quả dự đoán với kết quả thật với 20 hành khách đầu tiên:\n",
    "\n",
    "print(\"Giá trị thật (Ground Truth): \", y_test[:20])\n",
    "print(\"Mô hình dự đoán :\", y_pred1[:20])"
   ]
  },
  {
   "cell_type": "code",
   "execution_count": null,
   "metadata": {},
   "outputs": [],
   "source": []
  },
  {
   "cell_type": "code",
   "execution_count": null,
   "metadata": {},
   "outputs": [],
   "source": []
  },
  {
   "cell_type": "markdown",
   "metadata": {},
   "source": [
    "**Thông số để đánh giá độ chính xác mô hình phân lớp:**\n",
    "\n",
    "---\n",
    "1. Đếm số lượng mẫu dự đoán đúng trong tổng số mẫu của tập test:\n",
    "2. Accauracy: là cách đơn giản và hay được sử dụng nhất; Tính tỷ lệ % giữa số điểm được dự đoán đúng và tổng số điểm trong tập dữ liệu kiểm thử.\n",
    "3. Sử dụng ma trận nhầm lẫn (Confusion matrix)"
   ]
  },
  {
   "cell_type": "code",
   "execution_count": 65,
   "metadata": {},
   "outputs": [
    {
     "name": "stdout",
     "output_type": "stream",
     "text": [
      "Tổng số mẫu trong tập Test:  262\n",
      "Số mẫu dự đoán đúng:  216\n",
      "Số mẫu dự đoán sai:  46\n"
     ]
    }
   ],
   "source": [
    "#Import module accuracy_score trong thư viện sklearn.metrics để đánh giá độ chính xác:\n",
    "from sklearn.metrics import accuracy_score\n",
    "\n",
    "#1. Đếm tổng số mẫu dự đoán đúng trên tập Test: normalize=False\n",
    "acc1_test1 = accuracy_score(y_test, y_pred1,\n",
    "                           normalize=False)\n",
    "print(\"Tổng số mẫu trong tập Test: \", len(y_test))\n",
    "\n",
    "print(\"Số mẫu dự đoán đúng: \", acc1_test1)\n",
    "\n",
    "print(\"Số mẫu dự đoán sai: \", len(y_test) - acc1_test1)\n",
    "\n",
    "\n"
   ]
  },
  {
   "cell_type": "code",
   "execution_count": null,
   "metadata": {},
   "outputs": [],
   "source": []
  },
  {
   "cell_type": "code",
   "execution_count": null,
   "metadata": {},
   "outputs": [],
   "source": []
  },
  {
   "cell_type": "raw",
   "metadata": {},
   "source": []
  },
  {
   "cell_type": "code",
   "execution_count": 69,
   "metadata": {},
   "outputs": [
    {
     "name": "stdout",
     "output_type": "stream",
     "text": [
      "Độ chính xác trên tập test:  0.8244274809160306\n",
      "Độ chính xác trên tập test:  82\n"
     ]
    }
   ],
   "source": [
    "#2.Độ chính xác (Accuracy) theo tỷ lệ % \n",
    "#(số mẫu dự đoán đúng/tổng số mẫu của tập test): normalize=True\n",
    "acc1_test2 = accuracy_score(y_test, y_pred1,\n",
    "                            normalize=True)\n",
    "\n",
    "print(\"Độ chính xác trên tập test: \", acc1_test2)\n",
    "print(\"Độ chính xác trên tập test: \", round(acc1_test2 * 100))\n",
    "\n"
   ]
  },
  {
   "cell_type": "markdown",
   "metadata": {},
   "source": [
    "#### Sử dụng Confusion matrix kiểm tra độ chính xác của model\n",
    "---\n",
    "Cách tính sử dụng accuracy như ở trên chỉ cho chúng ta biết được bao nhiêu phần trăm lượng dữ liệu được phân loại đúng (hoặc tổng có bao nhiêu mẫu phân loại đúng) mà không chỉ ra được cụ thể mỗi loại được phân loại như thế nào, lớp nào được phân loại đúng nhiều nhất, và dữ liệu thuộc lớp nào thường bị phân loại nhầm vào lớp khác. Để có thể đánh giá được các giá trị này, chúng ta sử dụng một ma trận được gọi là confusion matrix.\n",
    "\n",
    "<img src='Pic/confusionmarix.jpg' width='400px'>"
   ]
  },
  {
   "cell_type": "code",
   "execution_count": 70,
   "metadata": {},
   "outputs": [
    {
     "data": {
      "image/png": "[encoded data removed]",
      "text/plain": [
       "<Figure size 640x480 with 2 Axes>"
      ]
     },
     "metadata": {},
     "output_type": "display_data"
    }
   ],
   "source": [
    "#3.Sử dụng ma trận confussion matrix kiểm tra kết quả:\n",
    "from sklearn.metrics import confusion_matrix, ConfusionMatrixDisplay\n",
    "\n",
    "#Tính ma trận confusion matrix:\n",
    "cnf_matrix_titanic = confusion_matrix(y_test,y_pred1)\n",
    "\n",
    "#Hiển thị ma trận:\n",
    "ConfusionMatrixDisplay.from_predictions(y_test, y_pred1)\n",
    "plt.title('Confusion matrix Test Set - Titanic:')\n",
    "plt.show()"
   ]
  },
  {
   "cell_type": "markdown",
   "metadata": {},
   "source": [
    "**NHẬN XÉT:**\n",
    "\n",
    "----\n",
    "Mô hình ở trạng thái underfitting ( Đọ chính xác thấp) và nghiêng về lớp 0 cao hơn\n",
    "Sử dụng các biện pháp để tăng độ chính xác:\n"
   ]
  },
  {
   "cell_type": "markdown",
   "metadata": {},
   "source": [
    "### 7. Thay đổi tham số của mô hình\n",
    "---\n",
    "* n_neighbors: số điểm lân cận (K nên chọn là số lẻ)\n",
    "* weights: Đánh trọng số cho các điểm lân cận**\n",
    "    * Trong kỹ thuật major voting bên trên, mỗi trong 11 điểm gần nhất được coi là có vai trò như nhau và giá trị lá phiếu của mỗi điểm này là như nhau. Trong thực tế ta thấy rằng những điểm gần hơn nên có trọng số cao hơn (càng thân cận thì càng tin tưởng). Vậy nên sẽ đánh trọng số khác nhau cho mỗi trong 11 điểm gần nhất này. Cách đánh trọng số phải thoải mãn điều kiện là một điểm càng gần điểm test data thì phải được đánh trọng số càng cao (tin tưởng hơn).\n",
    "\n",
    "    * Scikit-learn giúp chúng ta đơn giản hóa việc này bằng cách gán gía trị weights = 'distance'. (Giá trị mặc định của weights là 'uniform', tương ứng với việc coi tất cả các điểm lân cận có giá trị như nhau như ở trên)."
   ]
  },
  {
   "cell_type": "code",
   "execution_count": 72,
   "metadata": {},
   "outputs": [
    {
     "data": {
      "text/plain": [
       "{'algorithm': 'auto',\n",
       " 'leaf_size': 30,\n",
       " 'metric': 'minkowski',\n",
       " 'metric_params': None,\n",
       " 'n_jobs': None,\n",
       " 'n_neighbors': 11,\n",
       " 'p': 1,\n",
       " 'weights': 'distance'}"
      ]
     },
     "execution_count": 72,
     "metadata": {},
     "output_type": "execute_result"
    }
   ],
   "source": [
    "# Khai bảo mô hình mới bằng cách Thay đổi tham số n_neighbors, weights:\n",
    "KNN_titanic2 = KNeighborsClassifier(n_neighbors=11,\n",
    "                                   weights='distance',\n",
    "                                   p=1)\n",
    "\n",
    "#Các tham số mới của Model:\n",
    "KNN_titanic2.get_params()"
   ]
  },
  {
   "cell_type": "code",
   "execution_count": 75,
   "metadata": {},
   "outputs": [
    {
     "name": "stdout",
     "output_type": "stream",
     "text": [
      "Độ chính xác trên tập huấn luyện:  86\n"
     ]
    }
   ],
   "source": [
    "#Thực hiện huấn luyện với dữ liệu tập train\n",
    "KNN_titanic2.fit(x_train, y_train)\n",
    "\n",
    "print(\"Độ chính xác trên tập huấn luyện: \", round(acc1_train * 100))\n"
   ]
  },
  {
   "cell_type": "code",
   "execution_count": null,
   "metadata": {},
   "outputs": [],
   "source": [
    "#Độ chính xác của Model trên tập Huấn luyện\n",
    "acc_train = KNN_titanic2.score(X_train,y_train)\n",
    "\n",
    "print('Độ chính xác trên tập huấn luyện:', round(acc_train*100,2))"
   ]
  },
  {
   "cell_type": "code",
   "execution_count": null,
   "metadata": {},
   "outputs": [],
   "source": []
  },
  {
   "cell_type": "code",
   "execution_count": 77,
   "metadata": {},
   "outputs": [
    {
     "name": "stdout",
     "output_type": "stream",
     "text": [
      "Kết quả dự đoán hành khách được cứu hay không được cứu trên tập dữ liệu TEST:\n",
      "Kết quả cho 20 hành khách đầu tiên:\n",
      "Predicted labels:  [0 0 0 1 0 0 0 1 0 1 0 0 1 0 0 0 0 0 0 0]\n",
      "Ground truth    :  [0 0 0 1 0 0 0 1 0 1 0 0 1 0 1 0 0 0 0 0]\n"
     ]
    }
   ],
   "source": [
    "#Sử dụng mô hình huấn luyện dự đoán trên tập dữ liệu Test\n",
    "y_pred2 = KNN_titanic2.predict(x_test)\n",
    "\n",
    "print(\"Kết quả dự đoán hành khách được cứu hay không được cứu trên tập dữ liệu TEST:\")\n",
    "print(\"Kết quả cho 20 hành khách đầu tiên:\")\n",
    "print(\"Predicted labels: \", y_pred2[:20])\n",
    "print(\"Ground truth    : \", y_test[:20])"
   ]
  },
  {
   "cell_type": "code",
   "execution_count": 78,
   "metadata": {},
   "outputs": [
    {
     "name": "stdout",
     "output_type": "stream",
     "text": [
      "Tổng số mẫu dự đoán đúng: 219  / 262\n"
     ]
    }
   ],
   "source": [
    "#1.Đếm số mẫu dự đoán đúng:\n",
    "acc21 = accuracy_score(y_test, y_pred2, \n",
    "                       normalize=False)\n",
    "print('Tổng số mẫu dự đoán đúng:', acc21, ' /', len(y_test))"
   ]
  },
  {
   "cell_type": "code",
   "execution_count": 79,
   "metadata": {},
   "outputs": [
    {
     "name": "stdout",
     "output_type": "stream",
     "text": [
      "Độ chính xác của mô hình(k=11, weights=distance): 0.8358778625954199\n",
      "Độ chính xác theo %: 83.59\n"
     ]
    }
   ],
   "source": [
    "#2.Tính độ chính xác %:\n",
    "acc22 = accuracy_score(y_test, y_pred2,\n",
    "                       normalize=True)\n",
    "\n",
    "print('Độ chính xác của mô hình(k=11, weights=distance):', acc22)\n",
    "print('Độ chính xác theo %:', round(acc22*100,2))"
   ]
  },
  {
   "cell_type": "code",
   "execution_count": 80,
   "metadata": {},
   "outputs": [
    {
     "name": "stdout",
     "output_type": "stream",
     "text": [
      "Confusion matrix - Titanic:\n",
      "[[144  17]\n",
      " [ 26  75]]\n"
     ]
    },
    {
     "data": {
      "image/png": "[encoded data removed]",
      "text/plain": [
       "<Figure size 640x480 with 2 Axes>"
      ]
     },
     "metadata": {},
     "output_type": "display_data"
    }
   ],
   "source": [
    "#3.Sử dụng ma trận confussion matrix kiểm tra kết quả:\n",
    "from sklearn.metrics import confusion_matrix, ConfusionMatrixDisplay\n",
    "#Tính toán ma trận\n",
    "cnf_matrix_titanic = confusion_matrix(y_test,y_pred2)\n",
    "\n",
    "#Hiển thị ma trân:\n",
    "print('Confusion matrix - Titanic:')\n",
    "print(cnf_matrix_titanic)\n",
    "ConfusionMatrixDisplay.from_predictions(y_test, y_pred2)\n",
    "plt.show()"
   ]
  },
  {
   "cell_type": "code",
   "execution_count": 81,
   "metadata": {},
   "outputs": [],
   "source": [
    "#Giả sử mô hình KNN_TITANIC2 đạt độ chính xác yêu cầu\n",
    "#--> Đạt trạng thái Best fit sử dụng model KNN_Titanic2 để đi dự đoán"
   ]
  },
  {
   "cell_type": "markdown",
   "metadata": {},
   "source": [
    "## 8. Sử dụng mô hình\n",
    "---\n",
    "* Pclass: Hạng vé( 1 - hạng nhất, 2 - hạng 2, 3 - hạng 3)\n",
    "* Sex: Giới tính (0 - Male, 1 - Nữ)\n",
    "* Age: Độ tuổi\n",
    "        * 0: Tuổi từ 0 - 16 tuổi\n",
    "        * 1: Tuổi từ 17 - 32 tuổi\n",
    "        * 2: Tuổi từ 32 - 48 tuổi\n",
    "        * 3: Tuổi từ 48 - 64 tuổi\n",
    "        * 4: Tuổi từ 64 tuổi trở lên\n",
    "* SibSp: Số lượng anh chị em đi cùng\n",
    "* Parch: Số lượng con cái, ba mẹ đi cùng\n",
    "* Emberked: Cảng lên tàu (0: Cảng S, 1: Cảng C, 2: Cảng Q)"
   ]
  },
  {
   "cell_type": "code",
   "execution_count": 82,
   "metadata": {},
   "outputs": [
    {
     "data": {
      "text/html": [
       "<div>\n",
       "<style scoped>\n",
       "    .dataframe tbody tr th:only-of-type {\n",
       "        vertical-align: middle;\n",
       "    }\n",
       "\n",
       "    .dataframe tbody tr th {\n",
       "        vertical-align: top;\n",
       "    }\n",
       "\n",
       "    .dataframe thead th {\n",
       "        text-align: right;\n",
       "    }\n",
       "</style>\n",
       "<table border=\"1\" class=\"dataframe\">\n",
       "  <thead>\n",
       "    <tr style=\"text-align: right;\">\n",
       "      <th></th>\n",
       "      <th>Survived</th>\n",
       "      <th>Pclass</th>\n",
       "      <th>Sex</th>\n",
       "      <th>Age</th>\n",
       "      <th>SibSp</th>\n",
       "      <th>Parch</th>\n",
       "      <th>Embarked</th>\n",
       "    </tr>\n",
       "  </thead>\n",
       "  <tbody>\n",
       "    <tr>\n",
       "      <th>0</th>\n",
       "      <td>0</td>\n",
       "      <td>3</td>\n",
       "      <td>0</td>\n",
       "      <td>1</td>\n",
       "      <td>1</td>\n",
       "      <td>0</td>\n",
       "      <td>0</td>\n",
       "    </tr>\n",
       "    <tr>\n",
       "      <th>1</th>\n",
       "      <td>1</td>\n",
       "      <td>1</td>\n",
       "      <td>1</td>\n",
       "      <td>2</td>\n",
       "      <td>1</td>\n",
       "      <td>0</td>\n",
       "      <td>1</td>\n",
       "    </tr>\n",
       "    <tr>\n",
       "      <th>2</th>\n",
       "      <td>1</td>\n",
       "      <td>3</td>\n",
       "      <td>1</td>\n",
       "      <td>1</td>\n",
       "      <td>0</td>\n",
       "      <td>0</td>\n",
       "      <td>0</td>\n",
       "    </tr>\n",
       "    <tr>\n",
       "      <th>3</th>\n",
       "      <td>1</td>\n",
       "      <td>1</td>\n",
       "      <td>1</td>\n",
       "      <td>2</td>\n",
       "      <td>1</td>\n",
       "      <td>0</td>\n",
       "      <td>0</td>\n",
       "    </tr>\n",
       "    <tr>\n",
       "      <th>4</th>\n",
       "      <td>0</td>\n",
       "      <td>3</td>\n",
       "      <td>0</td>\n",
       "      <td>2</td>\n",
       "      <td>0</td>\n",
       "      <td>0</td>\n",
       "      <td>0</td>\n",
       "    </tr>\n",
       "  </tbody>\n",
       "</table>\n",
       "</div>"
      ],
      "text/plain": [
       "   Survived  Pclass  Sex  Age  SibSp  Parch  Embarked\n",
       "0         0       3    0    1      1      0         0\n",
       "1         1       1    1    2      1      0         1\n",
       "2         1       3    1    1      0      0         0\n",
       "3         1       1    1    2      1      0         0\n",
       "4         0       3    0    2      0      0         0"
      ]
     },
     "execution_count": 82,
     "metadata": {},
     "output_type": "execute_result"
    }
   ],
   "source": [
    "df_titanic.head()"
   ]
  },
  {
   "cell_type": "markdown",
   "metadata": {},
   "source": [
    "### Example 1:\n",
    "---\n",
    "Cho biết Hành khách số 1 là một cô gái, 22 tuổi, mua vé hạng 3, đi tàu một mình, lên tàu ở cảng Q ---> Cho biết hành khách này Được cứu hay không được cứu?"
   ]
  },
  {
   "cell_type": "code",
   "execution_count": 89,
   "metadata": {},
   "outputs": [
    {
     "name": "stdout",
     "output_type": "stream",
     "text": [
      "Thông tin hành khách:  [[3 1 1 0 0 2]]\n"
     ]
    }
   ],
   "source": [
    "#Khai báo Dữ liệu hành khách 1:\n",
    "\n",
    "pclass = 3 # Hạng vé là 3\n",
    "sex = 1\n",
    "age = 1\n",
    "sibsp = 0 \n",
    "parch = 0\n",
    "emberked = 2\n",
    "\n",
    "customer1 = np.array([pclass, sex, age, sibsp, parch, emberked]).reshape(1, -1) # Reshape the array to be a 2D array\n",
    "print(\"Thông tin hành khách: \",customer1)\n",
    "\n",
    "\n",
    "\n"
   ]
  },
  {
   "cell_type": "code",
   "execution_count": 90,
   "metadata": {},
   "outputs": [
    {
     "name": "stdout",
     "output_type": "stream",
     "text": [
      "[1]\n",
      "Chúc mừng\n"
     ]
    }
   ],
   "source": [
    "#Sử dụng mô hình để dự đoán cho hành khách 1:\n",
    "\n",
    "pred_customer1 = KNN_titanic2.predict(customer1)\n",
    "print(pred_customer1)\n",
    "if (pred_customer1 ==0):\n",
    "    print(\"Hết cứuuu\")\n",
    "else:\n",
    "    print(\"Chúc mừng\")\n",
    "\n",
    "\n",
    "\n"
   ]
  },
  {
   "cell_type": "code",
   "execution_count": null,
   "metadata": {},
   "outputs": [],
   "source": []
  },
  {
   "cell_type": "markdown",
   "metadata": {},
   "source": [
    "### Example 2:\n",
    "---\n",
    "Cho biết Hành khách số 2 là một người đàn ông trung niên, 40 tuổi, mua vé hạng 1, đi tàu với vợ, lên tàu ở cảng S ---> Cho biết hành khách này Được cứu hay không được cứu?\n"
   ]
  },
  {
   "cell_type": "code",
   "execution_count": 91,
   "metadata": {},
   "outputs": [
    {
     "name": "stdout",
     "output_type": "stream",
     "text": [
      "Thông tin hành khách:  [[1 0 2 0 1 1]]\n"
     ]
    }
   ],
   "source": [
    "#Khai báo Dữ liệu hành khách 2:\n",
    "\n",
    "pclass = 1 # Hạng vé là 3\n",
    "sex = 0\n",
    "age = 2\n",
    "sibsp = 0\n",
    "parch = 1\n",
    "emberked = 1\n",
    "\n",
    "customer2 = np.array([pclass, sex, age, sibsp, parch, emberked]).reshape(1, -1) # Reshape the array to be a 2D array\n",
    "print(\"Thông tin hành khách: \",customer2)\n",
    "\n",
    "\n",
    "\n",
    "\n"
   ]
  },
  {
   "cell_type": "code",
   "execution_count": 93,
   "metadata": {},
   "outputs": [
    {
     "name": "stdout",
     "output_type": "stream",
     "text": [
      "[0]\n",
      "Hết cứuuu\n"
     ]
    }
   ],
   "source": [
    "#Sử dụng mô hình để dự đoán cho hành khách 2:\n",
    "\n",
    "\n",
    "#Sử dụng mô hình để dự đoán cho hành khách 1:\n",
    "\n",
    "pred_customer2 = KNN_titanic2.predict(customer2)\n",
    "print(pred_customer2)\n",
    "if (pred_customer2 ==0):\n",
    "    print(\"Hết cứuuu\")\n",
    "else:\n",
    "    print(\"Chúc mừng\")\n",
    "\n",
    "\n",
    "\n",
    "\n",
    "\n"
   ]
  },
  {
   "cell_type": "code",
   "execution_count": null,
   "metadata": {},
   "outputs": [],
   "source": []
  },
  {
   "cell_type": "markdown",
   "metadata": {},
   "source": [
    "## BÀI TẬP:\n",
    "---\n",
    "Xây dựng mô hình học máy với thuật toán KNN dự đoán một bệnh nhân u vú là lành tính hay ác tính. Sinh viên sử dụng tập 961 bệnh nhân u vú đã xử lý ở Chương 2; \n",
    "\n",
    "1. Kiểm tra mức độ cân bằng dữ liệu\n",
    "\n",
    "2. Phân tách các biến Độc lập (X) - Phụ thuộc (Y) tương ứng\n",
    "\n",
    "3. Chia tập dữ liệu thành 2 phần Train - Test với tỷ lệ 75% - 25%\n",
    "\n",
    "4. Xây dựng model dự đoán bệnh nhân bị bệnh u vú lành tính - ác tính với thuật toán K người láng giềng gần nhất (KNN). Tùy chỉnh tham số n_neighbors, weight, p để thu được mô hình có độ chính xác tốt nhất trên tập Train và Test.\n",
    "\n",
    "**Hiển thị các kết quả sau của model:**\n",
    "\n",
    "    a)Độ chính xác của model (accuracy) trên tập Train – Test\n",
    "    b)Tổng số mẫu dự đoán đúng - sai trên tập Test \n",
    "    c)Ma trận confusion matrix trên tập Test\n",
    "\n",
    "5. Dự đoán với mô hình xây dựng được\n",
    "- Bệnh nhân 1 có các thông số như sau:\n",
    "\n",
    "    * Age:  20 tuổi;\n",
    "    * Weight: 65 Kg\n",
    "    * Shape: Round;\n",
    "    * Margin: Circumscribed\n",
    "    * Density: Low\n",
    "\n",
    "- Bệnh nhân 2 có các thông số như sau:  \n",
    "    * Age:  64 tuổi;\n",
    "    * Weight: 75 kg\n",
    "    * Shape: Round;\n",
    "    * Margin: Circumscribed\n",
    "    * Density: High\n",
    "\n",
    "Sử dụng model ở trên dự đoán xem bệnh nhân 1, 2  này bị u lành tính  hay ác tính;\n",
    "\n",
    "NOTE: Sinh viên làm tiếp vào file bài tập chương 2, sau đó đặt lại tên: **Manhom_MaSV_Hoten_Baitap_KNN** và nộp bài theo link bài nộp:\n",
    "https://docs.google.com/forms/d/e/1FAIpQLSdU-u9a3Hf5dRcZJv1T6sk0cVLqnKTUEha1dgNxNsjjSPyYGA/viewform\n"
   ]
  },
  {
   "cell_type": "code",
   "execution_count": null,
   "metadata": {},
   "outputs": [],
   "source": []
  }
 ],
 "metadata": {
  "kernelspec": {
   "display_name": "Python 3 (ipykernel)",
   "language": "python",
   "name": "python3"
  },
  "language_info": {
   "codemirror_mode": {
    "name": "ipython",
    "version": 3
   },
   "file_extension": ".py",
   "mimetype": "text/x-python",
   "name": "python",
   "nbconvert_exporter": "python",
   "pygments_lexer": "ipython3",
   "version": "3.9.13"
  }
 },
 "nbformat": 4,
 "nbformat_minor": 2
}
