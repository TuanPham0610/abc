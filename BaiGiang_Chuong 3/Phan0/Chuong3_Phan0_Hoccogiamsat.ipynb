{
 "cells": [
  {
   "cell_type": "markdown",
   "id": "f3876a1c",
   "metadata": {},
   "source": [
    "<center>\n",
    "    <h2>CHƯƠNG 3: HỌC CÓ GIÁM SÁT</h2>\n",
    "    <h3>Phân loại dữ liệu và bài toán</h3>\n",
    "<center>\n",
    "\n",
    "--- \n",
    "**NỘI DUNG BÀI HỌC**\n",
    "1. Tìm hiểu các tập dữ liệu mẫu, xác đinh biến độc lập X - biến phụ thuộc y\n",
    "2. Xác định lớp thuật toán học có giám sát ứng với tập dữ liệu"
   ]
  },
  {
   "cell_type": "code",
   "execution_count": 5,
   "id": "044339fd",
   "metadata": {},
   "outputs": [],
   "source": [
    "import pandas as pd\n",
    "import numpy as np\n",
    "import matplotlib as plt"
   ]
  },
  {
   "cell_type": "markdown",
   "id": "0c5637f6",
   "metadata": {},
   "source": [
    "## Bài toán số 1: Tập dữ liệu Titanic\n",
    "Xây dựng mô hình học máy có khả năng dự đoán một hành khách đi tàu được dự đoán được cứu (1)\n"
   ]
  },
  {
   "cell_type": "code",
   "execution_count": 6,
   "id": "e928cd1d",
   "metadata": {},
   "outputs": [
    {
     "name": "stdout",
     "output_type": "stream",
     "text": [
      "<class 'pandas.core.frame.DataFrame'>\n",
      "RangeIndex: 1309 entries, 0 to 1308\n",
      "Data columns (total 7 columns):\n",
      " #   Column    Non-Null Count  Dtype  \n",
      "---  ------    --------------  -----  \n",
      " 0   Survived  1309 non-null   int64  \n",
      " 1   Pclass    1309 non-null   int64  \n",
      " 2   Sex       1309 non-null   object \n",
      " 3   Age       1046 non-null   float64\n",
      " 4   SibSp     1309 non-null   int64  \n",
      " 5   Parch     1309 non-null   int64  \n",
      " 6   Embarked  1307 non-null   object \n",
      "dtypes: float64(1), int64(4), object(2)\n",
      "memory usage: 71.7+ KB\n"
     ]
    }
   ],
   "source": [
    "data_titanic = pd.read_csv(\"Data/Data_Titanic.csv\")\n",
    "data_titanic.info()"
   ]
  },
  {
   "cell_type": "code",
   "execution_count": 8,
   "id": "2af6acb3",
   "metadata": {},
   "outputs": [
    {
     "data": {
      "text/html": [
       "<div>\n",
       "<style scoped>\n",
       "    .dataframe tbody tr th:only-of-type {\n",
       "        vertical-align: middle;\n",
       "    }\n",
       "\n",
       "    .dataframe tbody tr th {\n",
       "        vertical-align: top;\n",
       "    }\n",
       "\n",
       "    .dataframe thead th {\n",
       "        text-align: right;\n",
       "    }\n",
       "</style>\n",
       "<table border=\"1\" class=\"dataframe\">\n",
       "  <thead>\n",
       "    <tr style=\"text-align: right;\">\n",
       "      <th></th>\n",
       "      <th>Survived</th>\n",
       "      <th>Pclass</th>\n",
       "      <th>Sex</th>\n",
       "      <th>Age</th>\n",
       "      <th>SibSp</th>\n",
       "      <th>Parch</th>\n",
       "      <th>Embarked</th>\n",
       "    </tr>\n",
       "  </thead>\n",
       "  <tbody>\n",
       "    <tr>\n",
       "      <th>0</th>\n",
       "      <td>0</td>\n",
       "      <td>3</td>\n",
       "      <td>male</td>\n",
       "      <td>22.0</td>\n",
       "      <td>1</td>\n",
       "      <td>0</td>\n",
       "      <td>S</td>\n",
       "    </tr>\n",
       "    <tr>\n",
       "      <th>1</th>\n",
       "      <td>1</td>\n",
       "      <td>1</td>\n",
       "      <td>female</td>\n",
       "      <td>38.0</td>\n",
       "      <td>1</td>\n",
       "      <td>0</td>\n",
       "      <td>C</td>\n",
       "    </tr>\n",
       "  </tbody>\n",
       "</table>\n",
       "</div>"
      ],
      "text/plain": [
       "   Survived  Pclass     Sex   Age  SibSp  Parch Embarked\n",
       "0         0       3    male  22.0      1      0        S\n",
       "1         1       1  female  38.0      1      0        C"
      ]
     },
     "execution_count": 8,
     "metadata": {},
     "output_type": "execute_result"
    }
   ],
   "source": [
    "data_titanic.head(2)"
   ]
  },
  {
   "cell_type": "markdown",
   "id": "cfeac4b6",
   "metadata": {},
   "source": [
    "**Xác định biến đầu vào (x) - Biến đầu ra (Y)**\n",
    "- Biến đầu vào (X - Biến độc lập):\n",
    "    * Pclass: Hạng vé\n",
    "    * Sex:Giới tính\n",
    "    * SibSp: Số lượng anh/chị/em, vợ/chồng đi cùng\n",
    "    * Parch: Số lượng con cái đi cùng\n",
    "    * Embarked: Cảng lên tàu\n",
    "- Biến đầu ra (Y - Biến phụ thuộc)\n"
   ]
  },
  {
   "cell_type": "code",
   "execution_count": 9,
   "id": "e5916c51",
   "metadata": {},
   "outputs": [
    {
     "data": {
      "text/plain": [
       "<bound method IndexOpsMixin.value_counts of 0       0\n",
       "1       1\n",
       "2       1\n",
       "3       1\n",
       "4       0\n",
       "       ..\n",
       "1304    0\n",
       "1305    1\n",
       "1306    0\n",
       "1307    0\n",
       "1308    0\n",
       "Name: Survived, Length: 1309, dtype: int64>"
      ]
     },
     "execution_count": 9,
     "metadata": {},
     "output_type": "execute_result"
    }
   ],
   "source": [
    "#Khỏa sát biến biến phụ thuộc\n",
    "data_titanic[\"Survived\"].value_counts"
   ]
  },
  {
   "cell_type": "markdown",
   "id": "a5a1eac0",
   "metadata": {},
   "source": [
    "**Nhận xét**\n",
    "---\n",
    "- Biến phụ thuộc y là rời rạc và hữu hạn\n",
    "- y là tối đa với 2 giá trị khác nhau( 0 hoặc 1)"
   ]
  },
  {
   "cell_type": "markdown",
   "id": "6abe4869",
   "metadata": {},
   "source": [
    "**Nhận xét**\n",
    "---\n",
    "\n",
    "- Biến phụ y là Rời rạc và Hữu hạn\n",
    "- y là tối đa 2 giá trị khác nhau (Chỉ nhận 0 và 1)"
   ]
  },
  {
   "cell_type": "markdown",
   "id": "cb4c4a1a",
   "metadata": {},
   "source": [
    "## Bài toán Titanic thuộc lớp học có giám sát  --> Phân loại"
   ]
  },
  {
   "cell_type": "markdown",
   "id": "8da0e810",
   "metadata": {},
   "source": [
    "## Bài toán số 2: Tập dữ liệu Iris\n",
    "---\n",
    "Xây dựng mô hình học máy có khả năg dự đoán 1 bông hoa lan thuộc loài hoa lan nào dựa vào thông tin chiều dài, chiều rộng của cánh và đài hoa"
   ]
  },
  {
   "cell_type": "code",
   "execution_count": 10,
   "id": "30c6ec28",
   "metadata": {},
   "outputs": [
    {
     "name": "stdout",
     "output_type": "stream",
     "text": [
      "<class 'pandas.core.frame.DataFrame'>\n",
      "RangeIndex: 150 entries, 0 to 149\n",
      "Data columns (total 5 columns):\n",
      " #   Column        Non-Null Count  Dtype  \n",
      "---  ------        --------------  -----  \n",
      " 0   sepal_length  150 non-null    float64\n",
      " 1   sepal_width   150 non-null    float64\n",
      " 2   petal_length  150 non-null    float64\n",
      " 3   petal_width   150 non-null    float64\n",
      " 4   species       150 non-null    object \n",
      "dtypes: float64(4), object(1)\n",
      "memory usage: 6.0+ KB\n"
     ]
    }
   ],
   "source": [
    "df_iris = pd.read_csv(\"Data/Data_Iris.csv\")\n",
    "df_iris.info()"
   ]
  },
  {
   "cell_type": "code",
   "execution_count": 12,
   "id": "dd55d3a7",
   "metadata": {},
   "outputs": [
    {
     "data": {
      "text/html": [
       "<div>\n",
       "<style scoped>\n",
       "    .dataframe tbody tr th:only-of-type {\n",
       "        vertical-align: middle;\n",
       "    }\n",
       "\n",
       "    .dataframe tbody tr th {\n",
       "        vertical-align: top;\n",
       "    }\n",
       "\n",
       "    .dataframe thead th {\n",
       "        text-align: right;\n",
       "    }\n",
       "</style>\n",
       "<table border=\"1\" class=\"dataframe\">\n",
       "  <thead>\n",
       "    <tr style=\"text-align: right;\">\n",
       "      <th></th>\n",
       "      <th>sepal_length</th>\n",
       "      <th>sepal_width</th>\n",
       "      <th>petal_length</th>\n",
       "      <th>petal_width</th>\n",
       "      <th>species</th>\n",
       "    </tr>\n",
       "  </thead>\n",
       "  <tbody>\n",
       "    <tr>\n",
       "      <th>18</th>\n",
       "      <td>5.7</td>\n",
       "      <td>3.8</td>\n",
       "      <td>1.7</td>\n",
       "      <td>0.3</td>\n",
       "      <td>Iris-setosa</td>\n",
       "    </tr>\n",
       "    <tr>\n",
       "      <th>117</th>\n",
       "      <td>7.7</td>\n",
       "      <td>3.8</td>\n",
       "      <td>6.7</td>\n",
       "      <td>2.2</td>\n",
       "      <td>Iris-virginica</td>\n",
       "    </tr>\n",
       "    <tr>\n",
       "      <th>11</th>\n",
       "      <td>4.8</td>\n",
       "      <td>3.4</td>\n",
       "      <td>1.6</td>\n",
       "      <td>0.2</td>\n",
       "      <td>Iris-setosa</td>\n",
       "    </tr>\n",
       "    <tr>\n",
       "      <th>49</th>\n",
       "      <td>5.0</td>\n",
       "      <td>3.3</td>\n",
       "      <td>1.4</td>\n",
       "      <td>0.2</td>\n",
       "      <td>Iris-setosa</td>\n",
       "    </tr>\n",
       "    <tr>\n",
       "      <th>52</th>\n",
       "      <td>6.9</td>\n",
       "      <td>3.1</td>\n",
       "      <td>4.9</td>\n",
       "      <td>1.5</td>\n",
       "      <td>Iris-versicolor</td>\n",
       "    </tr>\n",
       "  </tbody>\n",
       "</table>\n",
       "</div>"
      ],
      "text/plain": [
       "     sepal_length  sepal_width  petal_length  petal_width          species\n",
       "18            5.7          3.8           1.7          0.3      Iris-setosa\n",
       "117           7.7          3.8           6.7          2.2   Iris-virginica\n",
       "11            4.8          3.4           1.6          0.2      Iris-setosa\n",
       "49            5.0          3.3           1.4          0.2      Iris-setosa\n",
       "52            6.9          3.1           4.9          1.5  Iris-versicolor"
      ]
     },
     "execution_count": 12,
     "metadata": {},
     "output_type": "execute_result"
    }
   ],
   "source": [
    "df_iris.sample(5)"
   ]
  },
  {
   "cell_type": "markdown",
   "id": "cd946a6e",
   "metadata": {},
   "source": [
    "**Xác định biến đầu vào X - Biến đầu ra Y:**\n",
    "---\n",
    "- Biến đầu vào X ( Biến độc lập): Gồm 4 thuộc tính\n",
    "    * sepal_lenght: Chiều dài cánh hoa\n",
    "    * sepla_wight: Chiều rộng cánh hoa\n",
    "    * petal_lenght: Chiều dài đài hoa\n",
    "    * petal_wight: Chiều rộng đài hoa\n",
    "    \n",
    "- Biến đầu ra y (Biến phụ thuộc): gồm 1 thuộc tính\n",
    "    * species: Hoa lan thuộc loại hoa nào \n",
    " \n",
    "--> Tập dữ liệu là tập dữ liệu có gán nhãn (Nhãn y - Thuộc tính species)"
   ]
  },
  {
   "cell_type": "code",
   "execution_count": 14,
   "id": "7206c2c9",
   "metadata": {},
   "outputs": [
    {
     "data": {
      "text/plain": [
       "Iris-setosa        50\n",
       "Iris-versicolor    50\n",
       "Iris-virginica     50\n",
       "Name: species, dtype: int64"
      ]
     },
     "execution_count": 14,
     "metadata": {},
     "output_type": "execute_result"
    }
   ],
   "source": [
    " df_iris[\"species\"].value_counts()"
   ]
  },
  {
   "cell_type": "markdown",
   "id": "132a879b",
   "metadata": {},
   "source": [
    "**Nhận xét**\n",
    "- Biến phụ thuộc là hữu hạn và rời rạc\n",
    "- Biến y có 3 giá trị khác nhau ( Iris-setosa | Iris-versicolor | Iris-virginica ) "
   ]
  },
  {
   "cell_type": "markdown",
   "id": "95128bf9",
   "metadata": {},
   "source": [
    "## Nhận xét: Bài toán Hoa lan Iris thuộc lớp học có giám sát  --> Phân loại --> Phân loại đa lớp"
   ]
  },
  {
   "cell_type": "markdown",
   "id": "7d8fe1ee",
   "metadata": {},
   "source": [
    "## Bài toán số 3: Tập dữ liệu kim cương\n",
    "---\n",
    "\n",
    "Xây dựng mô hình học máy có khả năng dự đoán giá 1 viên kim cương khi biết trọng lượng của nó"
   ]
  },
  {
   "cell_type": "code",
   "execution_count": 15,
   "id": "5a08db5e",
   "metadata": {},
   "outputs": [
    {
     "name": "stdout",
     "output_type": "stream",
     "text": [
      "<class 'pandas.core.frame.DataFrame'>\n",
      "RangeIndex: 50 entries, 0 to 49\n",
      "Data columns (total 2 columns):\n",
      " #   Column         Non-Null Count  Dtype  \n",
      "---  ------         --------------  -----  \n",
      " 0   Weight(Carat)  50 non-null     float64\n",
      " 1   Price(USD)     50 non-null     int64  \n",
      "dtypes: float64(1), int64(1)\n",
      "memory usage: 928.0 bytes\n"
     ]
    }
   ],
   "source": [
    "df_diamond = pd.read_csv(\"Data/Data_Diamond.csv\")\n",
    "df_diamond.info()"
   ]
  },
  {
   "cell_type": "code",
   "execution_count": 16,
   "id": "17cc349a",
   "metadata": {},
   "outputs": [
    {
     "data": {
      "text/html": [
       "<div>\n",
       "<style scoped>\n",
       "    .dataframe tbody tr th:only-of-type {\n",
       "        vertical-align: middle;\n",
       "    }\n",
       "\n",
       "    .dataframe tbody tr th {\n",
       "        vertical-align: top;\n",
       "    }\n",
       "\n",
       "    .dataframe thead th {\n",
       "        text-align: right;\n",
       "    }\n",
       "</style>\n",
       "<table border=\"1\" class=\"dataframe\">\n",
       "  <thead>\n",
       "    <tr style=\"text-align: right;\">\n",
       "      <th></th>\n",
       "      <th>Weight(Carat)</th>\n",
       "      <th>Price(USD)</th>\n",
       "    </tr>\n",
       "  </thead>\n",
       "  <tbody>\n",
       "    <tr>\n",
       "      <th>29</th>\n",
       "      <td>1.23</td>\n",
       "      <td>6165</td>\n",
       "    </tr>\n",
       "    <tr>\n",
       "      <th>45</th>\n",
       "      <td>0.41</td>\n",
       "      <td>827</td>\n",
       "    </tr>\n",
       "    <tr>\n",
       "      <th>5</th>\n",
       "      <td>1.14</td>\n",
       "      <td>4212</td>\n",
       "    </tr>\n",
       "    <tr>\n",
       "      <th>35</th>\n",
       "      <td>1.79</td>\n",
       "      <td>10108</td>\n",
       "    </tr>\n",
       "    <tr>\n",
       "      <th>23</th>\n",
       "      <td>4.50</td>\n",
       "      <td>18531</td>\n",
       "    </tr>\n",
       "  </tbody>\n",
       "</table>\n",
       "</div>"
      ],
      "text/plain": [
       "    Weight(Carat)  Price(USD)\n",
       "29           1.23        6165\n",
       "45           0.41         827\n",
       "5            1.14        4212\n",
       "35           1.79       10108\n",
       "23           4.50       18531"
      ]
     },
     "execution_count": 16,
     "metadata": {},
     "output_type": "execute_result"
    }
   ],
   "source": [
    "df_diamond.sample(5)"
   ]
  },
  {
   "cell_type": "markdown",
   "id": "36ee8b67",
   "metadata": {},
   "source": [
    "**XÁC ĐỊNH BIẾN ĐẦU VÀO X - BIẾN DẦU RA Y:**\n",
    "- Biến đầu vào X (Biến đọc lập): 1 thuộc tính\n",
    "    * Weight(Carat): Trọng lương viên kim cương\n",
    "- Biến dầu ra y(BIến phụ thuộc): 1 thuộc tính\n",
    "    * Price(USD): Giá bán viên kim cương\n",
    " --> Tập dữ liệu có gán nhãn ( Nhãn y - THuộc tính Price)"
   ]
  },
  {
   "cell_type": "code",
   "execution_count": 19,
   "id": "be55eb74",
   "metadata": {},
   "outputs": [
    {
     "data": {
      "text/plain": [
       "count       50.000000\n",
       "mean      7550.780000\n",
       "std       5038.766934\n",
       "min        345.000000\n",
       "25%       3560.750000\n",
       "50%       6796.000000\n",
       "75%      11452.500000\n",
       "max      18531.000000\n",
       "Name: Price(USD), dtype: float64"
      ]
     },
     "execution_count": 19,
     "metadata": {},
     "output_type": "execute_result"
    }
   ],
   "source": [
    "df_diamond[\"Price(USD)\"].describe()"
   ]
  },
  {
   "cell_type": "markdown",
   "id": "fb4dd853",
   "metadata": {},
   "source": [
    "**Nhận xét**\n",
    " * Biến phụ thuộc y là vô hạn các giá trị"
   ]
  },
  {
   "cell_type": "markdown",
   "id": "a29fb7ae",
   "metadata": {},
   "source": [
    "## Nhận xét: Bài toán Kim cương thuộc lớp học có giám sát  --> Hồi quy"
   ]
  },
  {
   "cell_type": "markdown",
   "id": "2094367a",
   "metadata": {},
   "source": [
    "## Sinh viên thực hiện tương tự cho 2 tập dữ liệu còn lại\n",
    "1. Data_Comment.csv ( Comment chứa ngôn ngữ độc hại)\n",
    "2. Data_Housing.csv (Bán nhà)\n"
   ]
  },
  {
   "cell_type": "code",
   "execution_count": null,
   "id": "e131de27",
   "metadata": {},
   "outputs": [],
   "source": []
  }
 ],
 "metadata": {
  "kernelspec": {
   "display_name": "Python 3 (ipykernel)",
   "language": "python",
   "name": "python3"
  },
  "language_info": {
   "codemirror_mode": {
    "name": "ipython",
    "version": 3
   },
   "file_extension": ".py",
   "mimetype": "text/x-python",
   "name": "python",
   "nbconvert_exporter": "python",
   "pygments_lexer": "ipython3",
   "version": "3.9.13"
  }
 },
 "nbformat": 4,
 "nbformat_minor": 5
}
