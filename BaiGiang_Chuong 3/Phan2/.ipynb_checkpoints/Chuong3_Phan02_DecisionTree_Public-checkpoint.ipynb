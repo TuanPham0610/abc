{
 "cells": [
  {
   "cell_type": "markdown",
   "metadata": {},
   "source": [
    "<center>\n",
    "    <h2>CHƯƠNG 3 - HỌC CÓ GIÁM SÁT - PHẦN 2: </h2> \n",
    "    <h2> THUẬT TOÁN CÂY QUYẾT ĐỊNH (DECISION TREE) </h2>\n",
    "</center>\n",
    "\n",
    "---\n",
    "**NỘI DUNG BÀI HỌC:**\n",
    "1. Thuật toán Cây quyết định (Decision Tree)\n",
    "2. Ứng dụng Decision Tree cho bài toán phân lớp hoa lan\n",
    "3. Tham số đánh giá hệ thống phân lớp (Accuracy, Confusion Matrix)\n",
    "4. Bài tập Thực hành\n",
    "\n",
    "---\n",
    "Copyright @dangvannam - FIT.HUMG.2023"
   ]
  },
  {
   "cell_type": "markdown",
   "metadata": {},
   "source": [
    "# 1. THUẬT TOÁN CÂY QUYẾT ĐỊNH (DECISION TREE)\n",
    "---\n",
    "* Việc quan sát, suy nghĩ và ra các quyết định của con người thường được bắt đầu từ các câu hỏi. Machine learning cũng có một mô hình ra quyết định dựa trên các câu hỏi. Mô hình này có tên là cây quyết định (decision tree).\n",
    "\n",
    "* Decision tree là một mô hình học có giám sát, có thể được áp dụng vào cả hai bài toán classification và regression. \n",
    "\n",
    "<img src='pic/decisiontree.png' width='400px'>\n",
    "\n",
    "* Dùng cấu trúc cây để đưa ra một hàm phân lớp cần học (hàm mục tiêu có giá trị rời rạc)\n",
    "* Một cây quyết định có thể được biểu diễn (diễn giải) bằng một tập các luật IF-THEN (dễ đọc và dễ hiểu)\n",
    "* Được áp dụng thành công trong rất nhiều các bài toán ứng dụng thực tế\n",
    "\n",
    "**Các độ đo lựa chọn thuộc tính:**\n",
    "* Một độ đo lựa chọn thuộc tính là một phương pháp tiên nghiệm (heuristic) để lựa chọn tiêu chí phân chia để phân tách tốt nhất phần dữ liệu D đã cho\n",
    "* Một cách lý tưởng\n",
    "    - Mỗi phần được chia ra nên thuần nhất\n",
    "    - Mỗi phần thuần nhất là phần chứa các mẫu cùng thuộc một lớp\n",
    "* Các độ đo phân chia thuộc tính (các luật phân chia)\n",
    "    - Xác định các mẫu ở một node được phân chia thế nào\n",
    "    - Đưa ra cách xếp hạng các thuộc tính\n",
    "    - Thuộc tính với điểm cao nhất được lựa chọn\n",
    "    - Xác định một điểm phân chia hoặc một tập con phân chia\n",
    "* Các phương pháp\n",
    "    - Information gain\n",
    "    - Gain ratio\n",
    "    - Gini Index\n",
    "    \n",
    "**NHẬN XÉT CÂY QUYẾT ĐỊNH:**\n",
    "* Cây quyết định có tốc độ học tương đối nhanh so với các phương pháp khác\n",
    "* Đơn giản và dễ hiểu các luật phân loại trong cây ra quyết định\n",
    "* Information Gain, Gain Ratio, và Gini Index là những phương pháp lựa chọn thuộc tính thông dụng nhất\n",
    "* Cắt tỉa cây là cần thiết để loại bỏ những nhánh không tin cậy"
   ]
  },
  {
   "cell_type": "markdown",
   "metadata": {},
   "source": [
    "### Một số vấn đê về xây dựng cây\n",
    "---\n",
    "Gốc của cây chứa tất cả dữ liệu, các node trung gian, các node lá.\n",
    "- Các node được chia nhị phân: \n",
    "    - Chọn một thuộc tính $X_i$\n",
    "    - Chọn một điểm chia $t_j$\n",
    "\n",
    "- Độ sâu của cây?\n",
    "- Số mẫu trong mỗi node lá?\n",
    "- Số node lá lớn nhất?"
   ]
  },
  {
   "cell_type": "markdown",
   "metadata": {},
   "source": [
    "**Root node (Nút gốc)**: Chứa toàn bộ dữ liệu mẫu. Dữ liệu này được chia thành các nhóm nhỏ hơn\n",
    "\n",
    "**Splitting (Phân nhóm)**: Là quá trình chia các nhóm thành các nhóm nhỏ hơn\n",
    "\n",
    "**Decision node (Nút quyết định)**: Là các nút tiếp tục được phân chia\n",
    "\n",
    "**Leaf node (Nút lá)**: Là các nút không được phân chia\n",
    "\n",
    "**Prunning (Tỉa cành)**: Loại bỏ một số nút phụ của cây\n",
    "\n",
    "**Sub-Tree (nhánh)**: Là một bộ phận của cây\n",
    "\n",
    "**Parent and Child node (Nút cha và nút con)**: Nút bị chia thành các nút phụ gọi là nút cha, các nút phụ của nút cha gọi là nút con"
   ]
  },
  {
   "cell_type": "markdown",
   "metadata": {},
   "source": [
    "### Ưu và nhược điểm của cây quyết định\n",
    "\n",
    "- **Ưu điểm:**\n",
    "    - Dễ hiểu: Cây biểu diễn trực quan\n",
    "    - Hữu ích: Xác định được các biến quan trọng\n",
    "    - Phi tham số: không cần giả định về phân phối\n",
    "    - Không phục thuộc vào dữ liệu: Có thể áp dụng cả dữ liệu phân loại và liên tục\n",
    "- **Nhược điểm:**\n",
    "    - Dễ bị quá khớp (overfitting)"
   ]
  },
  {
   "cell_type": "markdown",
   "metadata": {},
   "source": [
    "## Phân loại dựa trên cây quyết định\n",
    "- Cho dữ liệu $(x_i,y_i)$ với $y_i\\in \\{1,2,\\dots,K\\}$ chia thành $K$ nhóm.\n",
    "- Với mỗi nút $m$ biểu diễn bởi miền $R_m$ với $N_m$ quan sát. Ta tính $p_{mk}$ là tỷ lệ các quan sát thuộc nhóm $k$ tại nút $m$: $$p_{mk}=\\dfrac{1}{N_m}\\sum\\limits_{x_i\\in R_m}I_{[y_i=k]} $$\n",
    "- Nút $m$ phân loại thành nhóm có tỷ lệ cao nhất $$k(m)=\\arg\\max_k \\{p_{mk}\\}$$"
   ]
  },
  {
   "cell_type": "markdown",
   "metadata": {},
   "source": [
    "**Độ đo đồng nhất cho mỗi nút**\n",
    "- Với mỗi nút $m$ ta đo độ đồng nhất của mỗi nút\n",
    "    - Xác suất phân loại sai (missclassification error): $$Q_m=\\dfrac{1}{N_m}\\sum\\limits_{x_i\\in R_m}I_{[y_i\\ne k]}=1-p_{kk(m)}  $$\n",
    "    - Chỉ số Gini: $$Q_m=\\sum\\limits_{k\\ne l} p_{mk}p_{ml}=\\sum\\limits_{k=1}^K p_{mk}(1-p_{mk})=1-\\sum\\limits_{k=1}^K p^2_{mk} $$\n",
    "    - Entropy chéo (cross-entropy): $$ Q_m=-\\sum\\limits_{k=1}^K p_{mk}\\log p_{mk}$$"
   ]
  },
  {
   "cell_type": "markdown",
   "metadata": {},
   "source": [
    "**Thuật toán:**\n",
    "- Với mỗi nút ( không phải nút lá):\n",
    "    - Với mỗi biến $X_k$:\n",
    "        - Tìm điểm cắt tối ưu $s$ $$s=\\arg\\min_s \\big[Q(X_k,s)=Q(x_{ik}\\le s)+Q(x_{ik}> s)\\big], $$  \n",
    "    - Chọn biến $X_k$ và $s$ với $Q(X_k,s)$ bé nhất\n",
    "- Lặp đến khi đạt đến điều kiện dừng"
   ]
  },
  {
   "cell_type": "markdown",
   "metadata": {},
   "source": [
    "\n",
    "## 2. XÂY DỰNG MÔ HÌNH HỌC MÁY PHÂN LỚP HOA LAN VỚI THUẬT TOÁN DECISION TREE\n",
    "---\n",
    "Tập dữ liệu bao gồm 150 mẫu về thông số chiều rộng, chiều dài của lá hóa và cánh hoa của 3 loại hoa Lan được gán nhãn:\n",
    "* 0 - Setosa (50 mẫu)\n",
    "* 1 - Vericolor (50 mẫu)\n",
    "* 2 - Virginica (50 mẫu)\n",
    "\n",
    "<img src='pic/iris.png' width='400px'>"
   ]
  },
  {
   "cell_type": "code",
   "execution_count": 33,
   "metadata": {},
   "outputs": [],
   "source": [
    "#Gọi các thư viện sử dụng:\n",
    "import pandas as pd\n",
    "import numpy as np\n",
    "import matplotlib.pyplot as plt\n",
    "#-----------------------------------------\n",
    "import warnings\n",
    "warnings.filterwarnings('ignore')"
   ]
  },
  {
   "cell_type": "markdown",
   "metadata": {},
   "source": [
    "### 2.1. Đọc dữ liệu\n",
    "---"
   ]
  },
  {
   "cell_type": "code",
   "execution_count": 34,
   "metadata": {},
   "outputs": [
    {
     "name": "stdout",
     "output_type": "stream",
     "text": [
      "<class 'pandas.core.frame.DataFrame'>\n",
      "RangeIndex: 150 entries, 0 to 149\n",
      "Data columns (total 5 columns):\n",
      " #   Column        Non-Null Count  Dtype  \n",
      "---  ------        --------------  -----  \n",
      " 0   sepal_length  150 non-null    float64\n",
      " 1   sepal_width   150 non-null    float64\n",
      " 2   petal_length  150 non-null    float64\n",
      " 3   petal_width   150 non-null    float64\n",
      " 4   species       150 non-null    object \n",
      "dtypes: float64(4), object(1)\n",
      "memory usage: 6.0+ KB\n"
     ]
    }
   ],
   "source": [
    "#Đọc tập dữ liệu Iris Dataset\n",
    "df_iris = pd.read_csv(\"Data\\Data_Iris.csv\")\n",
    "df_iris.info()"
   ]
  },
  {
   "cell_type": "code",
   "execution_count": 35,
   "metadata": {},
   "outputs": [
    {
     "data": {
      "text/html": [
       "<div>\n",
       "<style scoped>\n",
       "    .dataframe tbody tr th:only-of-type {\n",
       "        vertical-align: middle;\n",
       "    }\n",
       "\n",
       "    .dataframe tbody tr th {\n",
       "        vertical-align: top;\n",
       "    }\n",
       "\n",
       "    .dataframe thead th {\n",
       "        text-align: right;\n",
       "    }\n",
       "</style>\n",
       "<table border=\"1\" class=\"dataframe\">\n",
       "  <thead>\n",
       "    <tr style=\"text-align: right;\">\n",
       "      <th></th>\n",
       "      <th>sepal_length</th>\n",
       "      <th>sepal_width</th>\n",
       "      <th>petal_length</th>\n",
       "      <th>petal_width</th>\n",
       "      <th>species</th>\n",
       "    </tr>\n",
       "  </thead>\n",
       "  <tbody>\n",
       "    <tr>\n",
       "      <th>131</th>\n",
       "      <td>7.9</td>\n",
       "      <td>3.8</td>\n",
       "      <td>6.4</td>\n",
       "      <td>2.0</td>\n",
       "      <td>Iris-virginica</td>\n",
       "    </tr>\n",
       "    <tr>\n",
       "      <th>135</th>\n",
       "      <td>7.7</td>\n",
       "      <td>3.0</td>\n",
       "      <td>6.1</td>\n",
       "      <td>2.3</td>\n",
       "      <td>Iris-virginica</td>\n",
       "    </tr>\n",
       "    <tr>\n",
       "      <th>123</th>\n",
       "      <td>6.3</td>\n",
       "      <td>2.7</td>\n",
       "      <td>4.9</td>\n",
       "      <td>1.8</td>\n",
       "      <td>Iris-virginica</td>\n",
       "    </tr>\n",
       "    <tr>\n",
       "      <th>65</th>\n",
       "      <td>6.7</td>\n",
       "      <td>3.1</td>\n",
       "      <td>4.4</td>\n",
       "      <td>1.4</td>\n",
       "      <td>Iris-versicolor</td>\n",
       "    </tr>\n",
       "    <tr>\n",
       "      <th>95</th>\n",
       "      <td>5.7</td>\n",
       "      <td>3.0</td>\n",
       "      <td>4.2</td>\n",
       "      <td>1.2</td>\n",
       "      <td>Iris-versicolor</td>\n",
       "    </tr>\n",
       "  </tbody>\n",
       "</table>\n",
       "</div>"
      ],
      "text/plain": [
       "     sepal_length  sepal_width  petal_length  petal_width          species\n",
       "131           7.9          3.8           6.4          2.0   Iris-virginica\n",
       "135           7.7          3.0           6.1          2.3   Iris-virginica\n",
       "123           6.3          2.7           4.9          1.8   Iris-virginica\n",
       "65            6.7          3.1           4.4          1.4  Iris-versicolor\n",
       "95            5.7          3.0           4.2          1.2  Iris-versicolor"
      ]
     },
     "execution_count": 35,
     "metadata": {},
     "output_type": "execute_result"
    }
   ],
   "source": [
    "#Hiện thị ngẫu nhiên 5 mẫu:\n",
    "df_iris.sample(5)"
   ]
  },
  {
   "cell_type": "code",
   "execution_count": 36,
   "metadata": {},
   "outputs": [
    {
     "name": "stdout",
     "output_type": "stream",
     "text": [
      "Iris-setosa        50\n",
      "Iris-versicolor    50\n",
      "Iris-virginica     50\n",
      "Name: species, dtype: int64\n"
     ]
    },
    {
     "data": {
      "image/png": "[encoded data removed]",
      "text/plain": [
       "<Figure size 1000x400 with 2 Axes>"
      ]
     },
     "metadata": {},
     "output_type": "display_data"
    }
   ],
   "source": [
    "#Kiểm tra cân bằng dữ liệu\n",
    "\n",
    "#Kiểm tra cân bằng dữ liệu\n",
    "check = df_iris[\"species\"].value_counts()\n",
    "print(check)\n",
    "\n",
    "#Truc quan hoa\n",
    "plt.figure(figsize=(10,4))\n",
    "plt.subplot(1,2,1)\n",
    "plt.bar(check.index, check.values,\n",
    "       color='brown')\n",
    "plt.grid(ls=\"--\")\n",
    "\n",
    "plt.subplot(1,2,2) #Bỏ dòng này thì 2 biểu đồ sẽ chồng vào nhau\n",
    "plt.pie(check.values, labels=check.index,\n",
    "       autopct=\"%.2f%%\")\n",
    "plt.show()\n",
    "\n",
    "#Nhận xét: Tập dữ liệu cân bằng"
   ]
  },
  {
   "cell_type": "markdown",
   "metadata": {},
   "source": [
    "### 2.2 Phân tách biến đầu vào (X) - Nhãn y\n",
    "---\n",
    "- Biến đầu vào - Biến độc lập (X): 04 - sepal_length,sepal_width,petal_length, petal_width\n",
    "- Biến đầu ra - Nhãn (y): 01 - species"
   ]
  },
  {
   "cell_type": "code",
   "execution_count": 37,
   "metadata": {},
   "outputs": [
    {
     "data": {
      "text/html": [
       "<div>\n",
       "<style scoped>\n",
       "    .dataframe tbody tr th:only-of-type {\n",
       "        vertical-align: middle;\n",
       "    }\n",
       "\n",
       "    .dataframe tbody tr th {\n",
       "        vertical-align: top;\n",
       "    }\n",
       "\n",
       "    .dataframe thead th {\n",
       "        text-align: right;\n",
       "    }\n",
       "</style>\n",
       "<table border=\"1\" class=\"dataframe\">\n",
       "  <thead>\n",
       "    <tr style=\"text-align: right;\">\n",
       "      <th></th>\n",
       "      <th>sepal_length</th>\n",
       "      <th>sepal_width</th>\n",
       "      <th>petal_length</th>\n",
       "      <th>petal_width</th>\n",
       "      <th>species</th>\n",
       "    </tr>\n",
       "  </thead>\n",
       "  <tbody>\n",
       "    <tr>\n",
       "      <th>0</th>\n",
       "      <td>5.1</td>\n",
       "      <td>3.5</td>\n",
       "      <td>1.4</td>\n",
       "      <td>0.2</td>\n",
       "      <td>Iris-setosa</td>\n",
       "    </tr>\n",
       "    <tr>\n",
       "      <th>50</th>\n",
       "      <td>7.0</td>\n",
       "      <td>3.2</td>\n",
       "      <td>4.7</td>\n",
       "      <td>1.4</td>\n",
       "      <td>Iris-versicolor</td>\n",
       "    </tr>\n",
       "    <tr>\n",
       "      <th>120</th>\n",
       "      <td>6.9</td>\n",
       "      <td>3.2</td>\n",
       "      <td>5.7</td>\n",
       "      <td>2.3</td>\n",
       "      <td>Iris-virginica</td>\n",
       "    </tr>\n",
       "  </tbody>\n",
       "</table>\n",
       "</div>"
      ],
      "text/plain": [
       "     sepal_length  sepal_width  petal_length  petal_width          species\n",
       "0             5.1          3.5           1.4          0.2      Iris-setosa\n",
       "50            7.0          3.2           4.7          1.4  Iris-versicolor\n",
       "120           6.9          3.2           5.7          2.3   Iris-virginica"
      ]
     },
     "execution_count": 37,
     "metadata": {},
     "output_type": "execute_result"
    }
   ],
   "source": [
    "#Dữ liệu ban đầu:\n",
    "df_iris.iloc[[0, 50, 120],:]\n"
   ]
  },
  {
   "cell_type": "code",
   "execution_count": 39,
   "metadata": {},
   "outputs": [
    {
     "data": {
      "text/html": [
       "<div>\n",
       "<style scoped>\n",
       "    .dataframe tbody tr th:only-of-type {\n",
       "        vertical-align: middle;\n",
       "    }\n",
       "\n",
       "    .dataframe tbody tr th {\n",
       "        vertical-align: top;\n",
       "    }\n",
       "\n",
       "    .dataframe thead th {\n",
       "        text-align: right;\n",
       "    }\n",
       "</style>\n",
       "<table border=\"1\" class=\"dataframe\">\n",
       "  <thead>\n",
       "    <tr style=\"text-align: right;\">\n",
       "      <th></th>\n",
       "      <th>sepal_length</th>\n",
       "      <th>sepal_width</th>\n",
       "      <th>petal_length</th>\n",
       "      <th>petal_width</th>\n",
       "      <th>species</th>\n",
       "    </tr>\n",
       "  </thead>\n",
       "  <tbody>\n",
       "    <tr>\n",
       "      <th>0</th>\n",
       "      <td>5.1</td>\n",
       "      <td>3.5</td>\n",
       "      <td>1.4</td>\n",
       "      <td>0.2</td>\n",
       "      <td>0</td>\n",
       "    </tr>\n",
       "    <tr>\n",
       "      <th>50</th>\n",
       "      <td>7.0</td>\n",
       "      <td>3.2</td>\n",
       "      <td>4.7</td>\n",
       "      <td>1.4</td>\n",
       "      <td>1</td>\n",
       "    </tr>\n",
       "    <tr>\n",
       "      <th>120</th>\n",
       "      <td>6.9</td>\n",
       "      <td>3.2</td>\n",
       "      <td>5.7</td>\n",
       "      <td>2.3</td>\n",
       "      <td>2</td>\n",
       "    </tr>\n",
       "  </tbody>\n",
       "</table>\n",
       "</div>"
      ],
      "text/plain": [
       "     sepal_length  sepal_width  petal_length  petal_width  species\n",
       "0             5.1          3.5           1.4          0.2        0\n",
       "50            7.0          3.2           4.7          1.4        1\n",
       "120           6.9          3.2           5.7          2.3        2"
      ]
     },
     "execution_count": 39,
     "metadata": {},
     "output_type": "execute_result"
    }
   ],
   "source": [
    "#Thực hiện chuyển đổi nhãn y --> số:\n",
    "df_iris['species'] = df_iris['species'].map({'Iris-setosa':0,\n",
    "                                            'Iris-versicolor':1,\n",
    "                                            'Iris-virginica':2}).astype(int)\n",
    "df_iris.iloc[[0,50,120],:]\n"
   ]
  },
  {
   "cell_type": "code",
   "execution_count": 42,
   "metadata": {},
   "outputs": [
    {
     "data": {
      "text/plain": [
       "array([[5.1, 3.5, 1.4, 0.2],\n",
       "       [4.9, 3. , 1.4, 0.2],\n",
       "       [4.7, 3.2, 1.3, 0.2],\n",
       "       [4.6, 3.1, 1.5, 0.2],\n",
       "       [5. , 3.6, 1.4, 0.2],\n",
       "       [5.4, 3.9, 1.7, 0.4],\n",
       "       [4.6, 3.4, 1.4, 0.3],\n",
       "       [5. , 3.4, 1.5, 0.2],\n",
       "       [4.4, 2.9, 1.4, 0.2],\n",
       "       [4.9, 3.1, 1.5, 0.1],\n",
       "       [5.4, 3.7, 1.5, 0.2],\n",
       "       [4.8, 3.4, 1.6, 0.2],\n",
       "       [4.8, 3. , 1.4, 0.1],\n",
       "       [4.3, 3. , 1.1, 0.1],\n",
       "       [5.8, 4. , 1.2, 0.2],\n",
       "       [5.7, 4.4, 1.5, 0.4],\n",
       "       [5.4, 3.9, 1.3, 0.4],\n",
       "       [5.1, 3.5, 1.4, 0.3],\n",
       "       [5.7, 3.8, 1.7, 0.3],\n",
       "       [5.1, 3.8, 1.5, 0.3],\n",
       "       [5.4, 3.4, 1.7, 0.2],\n",
       "       [5.1, 3.7, 1.5, 0.4],\n",
       "       [4.6, 3.6, 1. , 0.2],\n",
       "       [5.1, 3.3, 1.7, 0.5],\n",
       "       [4.8, 3.4, 1.9, 0.2],\n",
       "       [5. , 3. , 1.6, 0.2],\n",
       "       [5. , 3.4, 1.6, 0.4],\n",
       "       [5.2, 3.5, 1.5, 0.2],\n",
       "       [5.2, 3.4, 1.4, 0.2],\n",
       "       [4.7, 3.2, 1.6, 0.2],\n",
       "       [4.8, 3.1, 1.6, 0.2],\n",
       "       [5.4, 3.4, 1.5, 0.4],\n",
       "       [5.2, 4.1, 1.5, 0.1],\n",
       "       [5.5, 4.2, 1.4, 0.2],\n",
       "       [4.9, 3.1, 1.5, 0.1],\n",
       "       [5. , 3.2, 1.2, 0.2],\n",
       "       [5.5, 3.5, 1.3, 0.2],\n",
       "       [4.9, 3.1, 1.5, 0.1],\n",
       "       [4.4, 3. , 1.3, 0.2],\n",
       "       [5.1, 3.4, 1.5, 0.2],\n",
       "       [5. , 3.5, 1.3, 0.3],\n",
       "       [4.5, 2.3, 1.3, 0.3],\n",
       "       [4.4, 3.2, 1.3, 0.2],\n",
       "       [5. , 3.5, 1.6, 0.6],\n",
       "       [5.1, 3.8, 1.9, 0.4],\n",
       "       [4.8, 3. , 1.4, 0.3],\n",
       "       [5.1, 3.8, 1.6, 0.2],\n",
       "       [4.6, 3.2, 1.4, 0.2],\n",
       "       [5.3, 3.7, 1.5, 0.2],\n",
       "       [5. , 3.3, 1.4, 0.2],\n",
       "       [7. , 3.2, 4.7, 1.4],\n",
       "       [6.4, 3.2, 4.5, 1.5],\n",
       "       [6.9, 3.1, 4.9, 1.5],\n",
       "       [5.5, 2.3, 4. , 1.3],\n",
       "       [6.5, 2.8, 4.6, 1.5],\n",
       "       [5.7, 2.8, 4.5, 1.3],\n",
       "       [6.3, 3.3, 4.7, 1.6],\n",
       "       [4.9, 2.4, 3.3, 1. ],\n",
       "       [6.6, 2.9, 4.6, 1.3],\n",
       "       [5.2, 2.7, 3.9, 1.4],\n",
       "       [5. , 2. , 3.5, 1. ],\n",
       "       [5.9, 3. , 4.2, 1.5],\n",
       "       [6. , 2.2, 4. , 1. ],\n",
       "       [6.1, 2.9, 4.7, 1.4],\n",
       "       [5.6, 2.9, 3.6, 1.3],\n",
       "       [6.7, 3.1, 4.4, 1.4],\n",
       "       [5.6, 3. , 4.5, 1.5],\n",
       "       [5.8, 2.7, 4.1, 1. ],\n",
       "       [6.2, 2.2, 4.5, 1.5],\n",
       "       [5.6, 2.5, 3.9, 1.1],\n",
       "       [5.9, 3.2, 4.8, 1.8],\n",
       "       [6.1, 2.8, 4. , 1.3],\n",
       "       [6.3, 2.5, 4.9, 1.5],\n",
       "       [6.1, 2.8, 4.7, 1.2],\n",
       "       [6.4, 2.9, 4.3, 1.3],\n",
       "       [6.6, 3. , 4.4, 1.4],\n",
       "       [6.8, 2.8, 4.8, 1.4],\n",
       "       [6.7, 3. , 5. , 1.7],\n",
       "       [6. , 2.9, 4.5, 1.5],\n",
       "       [5.7, 2.6, 3.5, 1. ],\n",
       "       [5.5, 2.4, 3.8, 1.1],\n",
       "       [5.5, 2.4, 3.7, 1. ],\n",
       "       [5.8, 2.7, 3.9, 1.2],\n",
       "       [6. , 2.7, 5.1, 1.6],\n",
       "       [5.4, 3. , 4.5, 1.5],\n",
       "       [6. , 3.4, 4.5, 1.6],\n",
       "       [6.7, 3.1, 4.7, 1.5],\n",
       "       [6.3, 2.3, 4.4, 1.3],\n",
       "       [5.6, 3. , 4.1, 1.3],\n",
       "       [5.5, 2.5, 4. , 1.3],\n",
       "       [5.5, 2.6, 4.4, 1.2],\n",
       "       [6.1, 3. , 4.6, 1.4],\n",
       "       [5.8, 2.6, 4. , 1.2],\n",
       "       [5. , 2.3, 3.3, 1. ],\n",
       "       [5.6, 2.7, 4.2, 1.3],\n",
       "       [5.7, 3. , 4.2, 1.2],\n",
       "       [5.7, 2.9, 4.2, 1.3],\n",
       "       [6.2, 2.9, 4.3, 1.3],\n",
       "       [5.1, 2.5, 3. , 1.1],\n",
       "       [5.7, 2.8, 4.1, 1.3],\n",
       "       [6.3, 3.3, 6. , 2.5],\n",
       "       [5.8, 2.7, 5.1, 1.9],\n",
       "       [7.1, 3. , 5.9, 2.1],\n",
       "       [6.3, 2.9, 5.6, 1.8],\n",
       "       [6.5, 3. , 5.8, 2.2],\n",
       "       [7.6, 3. , 6.6, 2.1],\n",
       "       [4.9, 2.5, 4.5, 1.7],\n",
       "       [7.3, 2.9, 6.3, 1.8],\n",
       "       [6.7, 2.5, 5.8, 1.8],\n",
       "       [7.2, 3.6, 6.1, 2.5],\n",
       "       [6.5, 3.2, 5.1, 2. ],\n",
       "       [6.4, 2.7, 5.3, 1.9],\n",
       "       [6.8, 3. , 5.5, 2.1],\n",
       "       [5.7, 2.5, 5. , 2. ],\n",
       "       [5.8, 2.8, 5.1, 2.4],\n",
       "       [6.4, 3.2, 5.3, 2.3],\n",
       "       [6.5, 3. , 5.5, 1.8],\n",
       "       [7.7, 3.8, 6.7, 2.2],\n",
       "       [7.7, 2.6, 6.9, 2.3],\n",
       "       [6. , 2.2, 5. , 1.5],\n",
       "       [6.9, 3.2, 5.7, 2.3],\n",
       "       [5.6, 2.8, 4.9, 2. ],\n",
       "       [7.7, 2.8, 6.7, 2. ],\n",
       "       [6.3, 2.7, 4.9, 1.8],\n",
       "       [6.7, 3.3, 5.7, 2.1],\n",
       "       [7.2, 3.2, 6. , 1.8],\n",
       "       [6.2, 2.8, 4.8, 1.8],\n",
       "       [6.1, 3. , 4.9, 1.8],\n",
       "       [6.4, 2.8, 5.6, 2.1],\n",
       "       [7.2, 3. , 5.8, 1.6],\n",
       "       [7.4, 2.8, 6.1, 1.9],\n",
       "       [7.9, 3.8, 6.4, 2. ],\n",
       "       [6.4, 2.8, 5.6, 2.2],\n",
       "       [6.3, 2.8, 5.1, 1.5],\n",
       "       [6.1, 2.6, 5.6, 1.4],\n",
       "       [7.7, 3. , 6.1, 2.3],\n",
       "       [6.3, 3.4, 5.6, 2.4],\n",
       "       [6.4, 3.1, 5.5, 1.8],\n",
       "       [6. , 3. , 4.8, 1.8],\n",
       "       [6.9, 3.1, 5.4, 2.1],\n",
       "       [6.7, 3.1, 5.6, 2.4],\n",
       "       [6.9, 3.1, 5.1, 2.3],\n",
       "       [5.8, 2.7, 5.1, 1.9],\n",
       "       [6.8, 3.2, 5.9, 2.3],\n",
       "       [6.7, 3.3, 5.7, 2.5],\n",
       "       [6.7, 3. , 5.2, 2.3],\n",
       "       [6.3, 2.5, 5. , 1.9],\n",
       "       [6.5, 3. , 5.2, 2. ],\n",
       "       [6.2, 3.4, 5.4, 2.3],\n",
       "       [5.9, 3. , 5.1, 1.8]])"
      ]
     },
     "execution_count": 42,
     "metadata": {},
     "output_type": "execute_result"
    }
   ],
   "source": [
    "#Tách biến độc lập - biến phụ thuộc\n",
    "#iloc lấy theo chỉ số \n",
    "#loc lấy theo tên\n",
    "x = df_iris.iloc[:,0:4].values\n",
    "x"
   ]
  },
  {
   "cell_type": "code",
   "execution_count": 44,
   "metadata": {},
   "outputs": [
    {
     "data": {
      "text/plain": [
       "array([0, 0, 0, 0, 0, 0, 0, 0, 0, 0, 0, 0, 0, 0, 0, 0, 0, 0, 0, 0, 0, 0,\n",
       "       0, 0, 0, 0, 0, 0, 0, 0, 0, 0, 0, 0, 0, 0, 0, 0, 0, 0, 0, 0, 0, 0,\n",
       "       0, 0, 0, 0, 0, 0, 1, 1, 1, 1, 1, 1, 1, 1, 1, 1, 1, 1, 1, 1, 1, 1,\n",
       "       1, 1, 1, 1, 1, 1, 1, 1, 1, 1, 1, 1, 1, 1, 1, 1, 1, 1, 1, 1, 1, 1,\n",
       "       1, 1, 1, 1, 1, 1, 1, 1, 1, 1, 1, 1, 2, 2, 2, 2, 2, 2, 2, 2, 2, 2,\n",
       "       2, 2, 2, 2, 2, 2, 2, 2, 2, 2, 2, 2, 2, 2, 2, 2, 2, 2, 2, 2, 2, 2,\n",
       "       2, 2, 2, 2, 2, 2, 2, 2, 2, 2, 2, 2, 2, 2, 2, 2, 2, 2])"
      ]
     },
     "execution_count": 44,
     "metadata": {},
     "output_type": "execute_result"
    }
   ],
   "source": [
    "#Lấy biến phụ thuộc y\n",
    "y = df_iris.iloc[:,-1].values\n",
    "y"
   ]
  },
  {
   "cell_type": "markdown",
   "metadata": {},
   "source": [
    "### 2.3. Tách tập dữ liệu ra tập Training - Test: \n",
    "---\n",
    "* Training: dùng để huấn luyện mô hình (70%)\n",
    "* Test: dùng để kiểm thử mô hình (30%)"
   ]
  },
  {
   "cell_type": "code",
   "execution_count": 45,
   "metadata": {},
   "outputs": [
    {
     "ename": "NameError",
     "evalue": "name 'x_train_imputed' is not defined",
     "output_type": "error",
     "traceback": [
      "\u001b[1;31m---------------------------------------------------------------------------\u001b[0m",
      "\u001b[1;31mNameError\u001b[0m                                 Traceback (most recent call last)",
      "\u001b[1;32m~\\AppData\\Local\\Temp\\ipykernel_18056\\4107798409.py\u001b[0m in \u001b[0;36m<module>\u001b[1;34m\u001b[0m\n\u001b[0;32m      2\u001b[0m \u001b[1;32mfrom\u001b[0m \u001b[0msklearn\u001b[0m\u001b[1;33m.\u001b[0m\u001b[0mmodel_selection\u001b[0m \u001b[1;32mimport\u001b[0m \u001b[0mtrain_test_split\u001b[0m\u001b[1;33m\u001b[0m\u001b[1;33m\u001b[0m\u001b[0m\n\u001b[0;32m      3\u001b[0m \u001b[1;33m\u001b[0m\u001b[0m\n\u001b[1;32m----> 4\u001b[1;33m \u001b[0mx_train_imputed\u001b[0m \u001b[1;33m=\u001b[0m \u001b[0mnp\u001b[0m\u001b[1;33m.\u001b[0m\u001b[0mwhere\u001b[0m\u001b[1;33m(\u001b[0m\u001b[0mnp\u001b[0m\u001b[1;33m.\u001b[0m\u001b[0misinf\u001b[0m\u001b[1;33m(\u001b[0m\u001b[0mx_train_imputed\u001b[0m\u001b[1;33m)\u001b[0m\u001b[1;33m,\u001b[0m \u001b[0mnp\u001b[0m\u001b[1;33m.\u001b[0m\u001b[0mnan\u001b[0m\u001b[1;33m,\u001b[0m \u001b[0mx_train_imputed\u001b[0m\u001b[1;33m)\u001b[0m\u001b[1;33m\u001b[0m\u001b[1;33m\u001b[0m\u001b[0m\n\u001b[0m\u001b[0;32m      5\u001b[0m \u001b[1;33m\u001b[0m\u001b[0m\n\u001b[0;32m      6\u001b[0m \u001b[1;33m\u001b[0m\u001b[0m\n",
      "\u001b[1;31mNameError\u001b[0m: name 'x_train_imputed' is not defined"
     ]
    }
   ],
   "source": [
    "#Phân tách Train - Test:\n",
    "from sklearn.model_selection import train_test_split\n",
    "\n",
    "x_train, x_test, y_train, y_test = train_t"
   ]
  },
  {
   "cell_type": "code",
   "execution_count": null,
   "metadata": {},
   "outputs": [],
   "source": [
    "#Các loại hoa lan trong tập Train:\n"
   ]
  },
  {
   "cell_type": "code",
   "execution_count": null,
   "metadata": {},
   "outputs": [],
   "source": [
    "#Các loại hoa lan trong tập Test:\n"
   ]
  },
  {
   "cell_type": "code",
   "execution_count": null,
   "metadata": {},
   "outputs": [],
   "source": []
  },
  {
   "cell_type": "markdown",
   "metadata": {},
   "source": [
    "### 2.3. Sử dụng thuật toán Decision Tree để phân lớp\n",
    "---"
   ]
  },
  {
   "cell_type": "code",
   "execution_count": null,
   "metadata": {},
   "outputs": [],
   "source": [
    "#Gọi thư viên thuật toán DecisionTree\n"
   ]
  },
  {
   "cell_type": "markdown",
   "metadata": {},
   "source": [
    "### Một số tham số quan trọng của thuật toán Decision Tree trong thư viện sklearn:\n",
    "Tham khảo DecisionTree của thư viện sklearn:\n",
    "https://scikit-learn.org/stable/modules/generated/sklearn.tree.DecisionTreeClassifier.html?highlight=sklearn%20tree%20decisiontreeclassifier#sklearn.tree.DecisionTreeClassifier\n",
    "\n",
    "\n",
    "1. criterion: Xác định phương pháp đo để lựa chọn thuộc tính quan trọng của cây- {\"gini\", \"entropy\" } (default = gini)\n",
    "2. splitter: phương pháp lựa chọn tách mỗi node - {“best”, “random”}, default=”best”\n",
    "3. max_depth: Chiều sâu tối đa của cây - int, default=None (các node được mở rộng đến khi phân được hết các lá)\n",
    "4. min_samples_split:(int or float, default=2) Số lượng mẫu tối thiểu cần thiết để phân tách một nút trong.\n",
    "    * If int, then consider min_samples_split as the minimum number.\n",
    "    * If float, then min_samples_split is a fraction and ceil(min_samples_split * n_samples) are the minimum number of samples for each split.\n",
    "5. min_samples_leaf: (int or float, default=1): Số lượng mẫu tối thiểu cần thiết để có ở một node lá. Một điểm tách ở độ sâu bất kỳ sẽ chỉ được xem xét nếu để lại ít nhất số lượng mẫu tối thiểu bằng giá trị min_samples_leaf trong mỗi nhánh bên trái hoặc bên phải.\n",
    "6. max_features: (int, float or {“auto”, “sqrt”, “log2”}, default=None): Số lượng các biến độc lập (features) xem xét khi tìm kiếm thuộc tính tốt nhất để tách. None: Xem xét tất cả các đặc trưng X\n",
    "7. max_leaf_nodes: (int, default=None): Xác định số node lá tối đa của cây."
   ]
  },
  {
   "cell_type": "code",
   "execution_count": null,
   "metadata": {},
   "outputs": [],
   "source": [
    "# Huấn luyện mô hình với dữ liệu huấn luyện:\n",
    "\n"
   ]
  },
  {
   "cell_type": "code",
   "execution_count": null,
   "metadata": {},
   "outputs": [],
   "source": [
    "#Đánh giá độ chính xác trên tập Huấn luyện:\n",
    "\n"
   ]
  },
  {
   "cell_type": "markdown",
   "metadata": {},
   "source": [
    "### Hiển thị cây quyết định:\n",
    "---\n",
    "Trực quan hóa cây quyết định thu được từ model đã huấn luyện trên tập Train"
   ]
  },
  {
   "cell_type": "code",
   "execution_count": null,
   "metadata": {},
   "outputs": [],
   "source": [
    "#Đặt tên cho các thuộc tính và các lớp hoa iris:\n",
    "feature_names = ['sepal length (cm)',\n",
    "                 'sepal width (cm)',\n",
    "                 'petal length (cm)',\n",
    "                 'petal width (cm)']\n",
    "\n",
    "target_names = ['0: Setosa', '1: Versicolor', '2:Virginica']"
   ]
  },
  {
   "cell_type": "code",
   "execution_count": null,
   "metadata": {},
   "outputs": [],
   "source": [
    "from sklearn import tree\n",
    "import matplotlib.pyplot as plt\n",
    "fig = plt.figure(figsize=(25,20))\n",
    "\n",
    "#Hiển thị cây quyết định\n",
    "tree.plot_tree(Tree_iris, \n",
    "                   feature_names=feature_names,  \n",
    "                   class_names=target_names,\n",
    "                   filled=True)\n",
    "plt.show()"
   ]
  },
  {
   "cell_type": "code",
   "execution_count": null,
   "metadata": {},
   "outputs": [],
   "source": [
    "#Xác định mực độ quan trọng của các thuộc tính độc lập:\n",
    "print(feature_names)\n",
    "print(Tree_iris.feature_importances_)\n",
    "\n",
    "#Trực quan hóa\n",
    "plt.figure(figsize=(8,4))\n",
    "plt.barh(feature_names,Tree_iris.feature_importances_)\n",
    "\n",
    "plt.title('MỨC ĐỘ QUAN TRỌNG CỦA CÁC THỘC TÍNH')\n",
    "plt.ylabel('Danh sách thuộc tính')\n",
    "plt.xlabel('Độ quan trọng')\n",
    "plt.grid(True)\n",
    "plt.show()"
   ]
  },
  {
   "cell_type": "code",
   "execution_count": null,
   "metadata": {},
   "outputs": [],
   "source": [
    "#Xác định độ sâu của cây: Khoảng cách tối đa giữa gốc và lá\n",
    "print('Độ sâu của cây quyết định:',\n",
    "      Tree_iris.get_depth())\n",
    "\n",
    "#Xác định số lượng nút lá của cây quyết định:\n",
    "print('Số nút lá của cây quyết định:',\n",
    "      Tree_iris.get_n_leaves())"
   ]
  },
  {
   "cell_type": "code",
   "execution_count": null,
   "metadata": {},
   "outputs": [],
   "source": []
  },
  {
   "cell_type": "markdown",
   "metadata": {},
   "source": [
    "## 2.4. Đánh giá model trên tập kiểm thử:\n",
    "---\n",
    "Sử dụng model dự đoán trên tập Test và đánh giá độ chính xác"
   ]
  },
  {
   "cell_type": "code",
   "execution_count": null,
   "metadata": {},
   "outputs": [],
   "source": [
    "#Tập test gồm 45 mẫu:\n",
    "X_test"
   ]
  },
  {
   "cell_type": "code",
   "execution_count": null,
   "metadata": {},
   "outputs": [],
   "source": [
    "#Phân loại hoa lan trên tập kiểm thử\n",
    "y_pred = Tree_iris.predict(X_test)\n",
    "\n",
    "print(\"Kết quả phân loại hoa lan trên tập dữ liệu TEST:\")\n",
    "print(\"Predicted labels: \", y_pred)\n",
    "print(\"Ground truth    : \", y_test)"
   ]
  },
  {
   "cell_type": "code",
   "execution_count": null,
   "metadata": {},
   "outputs": [],
   "source": [
    "#Đánh giá độ chính xác trên tập Test:\n",
    "from sklearn.metrics import accuracy_score\n",
    "acc_num = accuracy_score(y_test, y_pred, normalize=False)\n",
    "acc = accuracy_score(y_test, y_pred, normalize=True)\n",
    "\n",
    "print(\"1.Tổng số mẫu dự đoán đúng:\",acc_num, '/', len(y_test))\n",
    "print(\"2.Độ chính xác đạt của model trên tập Test:\", round(acc*100,2))"
   ]
  },
  {
   "cell_type": "code",
   "execution_count": null,
   "metadata": {},
   "outputs": [],
   "source": [
    "#3.Sử dụng ma trận confussion matrix kiểm tra kết quả:\n",
    "from sklearn.metrics import confusion_matrix, ConfusionMatrixDisplay\n",
    "cnf_matrix_titanic = confusion_matrix(y_test,y_pred)\n",
    "\n",
    "#Hiển thị ma trận:\n",
    "ConfusionMatrixDisplay.from_predictions(y_test, y_pred)\n",
    "plt.title('Confusion matrix Test Set - Iris:')\n",
    "plt.show()"
   ]
  },
  {
   "cell_type": "code",
   "execution_count": null,
   "metadata": {},
   "outputs": [],
   "source": []
  },
  {
   "cell_type": "markdown",
   "metadata": {},
   "source": [
    "## 2.4. Sử dụng model được huấn luyện dự đoán cho bộ dữ liệu mới\n",
    "---\n",
    "<img src='pic/iris1.png' width='180px'>\n",
    "Giả sử một bông hoa lan có thông số như sau:\n",
    "\n",
    "    - sepal length (cm): 5.2\n",
    "    - sepal width (cm) : 3.1\n",
    "    - petal length (cm): 3.9\n",
    "    - petal width (cm) : 1.2\n",
    "\n",
    "--> Bông hoa lan này thuộc lớp nào?"
   ]
  },
  {
   "cell_type": "code",
   "execution_count": null,
   "metadata": {},
   "outputs": [],
   "source": [
    "#Khai báo thông số hoa lan mới:\n",
    "\n",
    "\n"
   ]
  },
  {
   "cell_type": "code",
   "execution_count": null,
   "metadata": {},
   "outputs": [],
   "source": [
    "#Xác định lớp của hoa dựa vào các thông số này trên model đã huấn luyện\n",
    "\n",
    "\n"
   ]
  },
  {
   "cell_type": "code",
   "execution_count": null,
   "metadata": {},
   "outputs": [],
   "source": []
  },
  {
   "cell_type": "markdown",
   "metadata": {},
   "source": [
    "## 2.6. Thay đổi tham số của mô hình\n",
    "---\n",
    "**Tham số mặc định:**\n",
    " * 'ccp_alpha': 0.0,\n",
    " * 'class_weight': None,\n",
    " * 'criterion': 'gini',\n",
    " * 'max_depth': None,\n",
    " * 'max_features': None,\n",
    " * 'max_leaf_nodes': None,\n",
    " * 'min_impurity_decrease': 0.0,\n",
    " * 'min_impurity_split': None,\n",
    " * 'min_samples_leaf': 1,\n",
    " * 'min_samples_split': 2,\n",
    " * 'min_weight_fraction_leaf': 0.0,\n",
    " * 'random_state': None,\n",
    " * 'splitter': 'best'"
   ]
  },
  {
   "cell_type": "code",
   "execution_count": null,
   "metadata": {},
   "outputs": [],
   "source": [
    "#Khai báo mô hình mới:\n",
    "Tree_iris1  = DecisionTreeClassifier(criterion= 'entropy', \n",
    "                                     splitter='random', \n",
    "                                     max_features = 3,\n",
    "                                     random_state=1)\n",
    "\n",
    "Tree_iris1.get_params()"
   ]
  },
  {
   "cell_type": "code",
   "execution_count": null,
   "metadata": {},
   "outputs": [],
   "source": [
    "# Huấn luyên mô hình mới với dữ liệu huấn luyện\n",
    "Tree_iris1.fit(X_train, y_train)\n",
    "\n",
    "print(\"Độ chính xác của tập huấn luyện:\",round(Tree_iris1.score(X_train, y_train)*100,2))"
   ]
  },
  {
   "cell_type": "code",
   "execution_count": null,
   "metadata": {},
   "outputs": [],
   "source": [
    "import matplotlib.pyplot as plt\n",
    "fig = plt.figure(figsize=(25,20))\n",
    "\n",
    "#Hiển thị cây quyết định:\n",
    "tree.plot_tree(Tree_iris1, \n",
    "                   feature_names=feature_names,  \n",
    "                   class_names=target_names,\n",
    "                   filled=True)\n",
    "plt.show()"
   ]
  },
  {
   "cell_type": "code",
   "execution_count": null,
   "metadata": {},
   "outputs": [],
   "source": [
    "#Xác định mực độ quan trọng của các thuộc tính độc lập:\n",
    "print(feature_names)\n",
    "print(Tree_iris1.feature_importances_)\n",
    "\n",
    "#Trực quan hóa độ quan trọng của các thuộc tính\n",
    "plt.figure(figsize=(8,4))\n",
    "plt.barh(feature_names,Tree_iris1.feature_importances_)\n",
    "\n",
    "plt.title('MỨC ĐỘ QUAN TRỌNG CỦA CÁC THỘC TÍNH')\n",
    "plt.ylabel('Danh sách thuộc tính')\n",
    "plt.xlabel('Độ quan trọng')\n",
    "plt.grid(True)\n",
    "plt.show()"
   ]
  },
  {
   "cell_type": "code",
   "execution_count": null,
   "metadata": {},
   "outputs": [],
   "source": [
    "#Xác định độ sâu của cây: Khoảng cách tối đa giữa gốc và lá\n",
    "print('Độ sâu của cây quyết định:',\n",
    "      Tree_iris1.get_depth())\n",
    "\n",
    "#Xác định số lượng nút lá của cây quyết định:\n",
    "print('Số nút lá của cây quyết định:',\n",
    "      Tree_iris1.get_n_leaves())"
   ]
  },
  {
   "cell_type": "code",
   "execution_count": null,
   "metadata": {},
   "outputs": [],
   "source": [
    "#Phân loại hoa lan trên tập kiểm thử\n",
    "y_pred1 = Tree_iris1.predict(X_test)\n",
    "\n",
    "print(\"Kết quả phân loại hoa lan trên tập dữ liệu TEST:\")\n",
    "print(\"Predicted labels: \", y_pred1)\n",
    "print(\"Ground truth    : \", y_test)"
   ]
  },
  {
   "cell_type": "code",
   "execution_count": null,
   "metadata": {},
   "outputs": [],
   "source": [
    "#Đánh giá độ chính xác:\n",
    "from sklearn.metrics import accuracy_score\n",
    "acc1 = accuracy_score(y_test, y_pred1, normalize=True)\n",
    "acc1_num = accuracy_score(y_test, y_pred1, normalize=False)\n",
    "print(\"Độ chính xác của mô hình trên tập TEST:\", round(acc1*100,2), '%')\n",
    "print(\"Tổng số mẫu dự đoán đúng:\",acc1_num, '/', len(y_test))"
   ]
  },
  {
   "cell_type": "code",
   "execution_count": null,
   "metadata": {},
   "outputs": [],
   "source": [
    "#3.Sử dụng ma trận confussion matrix kiểm tra kết quả:\n",
    "from sklearn.metrics import confusion_matrix, ConfusionMatrixDisplay\n",
    "cnf_matrix_titanic = confusion_matrix(y_test,y_pred1)\n",
    "\n",
    "#Hiển thị ma trận:\n",
    "ConfusionMatrixDisplay.from_predictions(y_test, y_pred1)\n",
    "plt.title('Confusion matrix Test Set - Titanic:')\n",
    "plt.show()"
   ]
  },
  {
   "cell_type": "code",
   "execution_count": null,
   "metadata": {},
   "outputs": [],
   "source": []
  },
  {
   "cell_type": "code",
   "execution_count": null,
   "metadata": {},
   "outputs": [],
   "source": []
  },
  {
   "cell_type": "markdown",
   "metadata": {},
   "source": [
    "## B. THỰC HÀNH TRÊN LỚP\n",
    "---\n",
    "\n",
    "Thực hiện thuật toán Cây quyết định trên tập dữ liệu Titanic:\n",
    "<img src='pic/titanic.jpg' width='500px'>\n",
    "\n",
    "**Mô tả các thuộc tính:**\n",
    "\n",
    "* 1.Survived: 0: Không được cứu - 1: Được cứu\n",
    "* 2.Pclass: Hạng vé( 1 - hạng nhất, 2 - hạng 2, 3 - hạng 3)\n",
    "* 3.Sex: Giới tính (0 - Male, 1 - Nữ)\n",
    "* 4.Age: Độ tuổi\n",
    "        * 0: Tuổi từ 0 - 16 tuổi\n",
    "        * 1: Tuổi từ 17 - 32 tuổi\n",
    "        * 2: Tuổi từ 32 - 48 tuổi\n",
    "        * 3: Tuổi từ 48 - 64 tuổi\n",
    "        * 4: Tuổi từ 64 tuổi trở lên\n",
    "* 5.SibSp: Số lượng anh chị em đi cùng\n",
    "* 6.Parch: Số lượng con cái, ba mẹ đi cùng\n",
    "* 7.Emberked: Cảng lên tàu (0: Cảng S, 1: Cảng C, 2: Cảng Q\n",
    "    "
   ]
  },
  {
   "cell_type": "code",
   "execution_count": null,
   "metadata": {},
   "outputs": [],
   "source": [
    "#Đọc dữ liệu:\n"
   ]
  },
  {
   "cell_type": "code",
   "execution_count": null,
   "metadata": {},
   "outputs": [],
   "source": [
    "#hiển thị 5 dòng dữ liệu:\n"
   ]
  },
  {
   "cell_type": "code",
   "execution_count": null,
   "metadata": {},
   "outputs": [],
   "source": [
    "#Tách biến độc lập và biến phụ thuộc:\n"
   ]
  },
  {
   "cell_type": "code",
   "execution_count": null,
   "metadata": {},
   "outputs": [],
   "source": [
    "#Tách dữ liệu thành 2 phần Train - Test: 75 - 25\n"
   ]
  },
  {
   "cell_type": "code",
   "execution_count": null,
   "metadata": {},
   "outputs": [],
   "source": [
    "#Khai báo model phân lớp sử dụng cây quyết định:\n"
   ]
  },
  {
   "cell_type": "code",
   "execution_count": null,
   "metadata": {},
   "outputs": [],
   "source": [
    "#Huấn luyện mô hình:\n"
   ]
  },
  {
   "cell_type": "code",
   "execution_count": null,
   "metadata": {},
   "outputs": [],
   "source": [
    "#Đánh giá độ chính xác trên tập huấn luyện:\n"
   ]
  },
  {
   "cell_type": "code",
   "execution_count": null,
   "metadata": {},
   "outputs": [],
   "source": [
    "#Đánh giá độ chính xác trên tập Kiểm tra:\n"
   ]
  },
  {
   "cell_type": "code",
   "execution_count": null,
   "metadata": {},
   "outputs": [],
   "source": [
    "#Trực quan hóa cây quyết định:\n",
    "\n"
   ]
  },
  {
   "cell_type": "code",
   "execution_count": null,
   "metadata": {},
   "outputs": [],
   "source": [
    "#Xác định mức độ quan trọng của từng thuộc tính:\n",
    "\n"
   ]
  },
  {
   "cell_type": "markdown",
   "metadata": {},
   "source": [
    "## Sử dụng mô hình để dự đoán với dữ liệu mới:"
   ]
  },
  {
   "cell_type": "markdown",
   "metadata": {},
   "source": [
    "### Trường hợp 1:\n",
    "---\n",
    "Cho biết Hành khách số 1 là một cô gái, 22 tuổi, mua vé hạng 3, đi tàu một mình, lên tàu ở cảng Q ---> Cho biết hành khách này Được cứu hay không được cứu?"
   ]
  },
  {
   "cell_type": "code",
   "execution_count": null,
   "metadata": {},
   "outputs": [],
   "source": []
  },
  {
   "cell_type": "code",
   "execution_count": null,
   "metadata": {},
   "outputs": [],
   "source": []
  },
  {
   "cell_type": "code",
   "execution_count": null,
   "metadata": {},
   "outputs": [],
   "source": []
  },
  {
   "cell_type": "markdown",
   "metadata": {},
   "source": [
    "### Trường hợp 2:\n",
    "---\n",
    "Cho biết Hành khách số 2 là một người đàn ông trung niên, 40 tuổi, mua vé hạng 1, đi tàu với vợ, lên tàu ở cảng S ---> Cho biết hành khách này Được cứu hay không được cứu?\n"
   ]
  },
  {
   "cell_type": "code",
   "execution_count": null,
   "metadata": {},
   "outputs": [],
   "source": []
  },
  {
   "cell_type": "code",
   "execution_count": null,
   "metadata": {},
   "outputs": [],
   "source": []
  },
  {
   "cell_type": "code",
   "execution_count": null,
   "metadata": {},
   "outputs": [],
   "source": []
  },
  {
   "cell_type": "code",
   "execution_count": null,
   "metadata": {},
   "outputs": [],
   "source": []
  },
  {
   "cell_type": "code",
   "execution_count": null,
   "metadata": {},
   "outputs": [],
   "source": []
  },
  {
   "cell_type": "markdown",
   "metadata": {},
   "source": [
    "## C. BÀI TẬP:\n",
    "---\n",
    "Xây dựng mô hình học máy với thuật toán Cây quyết định (Decision Tree) dự đoán một bệnh nhân u vú là lành tính hay ác tính. Sinh viên sử dụng tập 961 bệnh nhân u vú đã xử lý ở Chương 2; \n",
    "\n",
    "1. Đọc tập dữ liệu đã chuẩn hóa ở chương 2\n",
    "\n",
    "2. Phân tách các biến Độc lập (X) - Phụ thuộc (Y) tương ứng\n",
    "\n",
    "3. Chia tập dữ liệu thành 2 phần Train - Test với tỷ lệ 70% - 30%\n",
    "\n",
    "4. Xây dựng model dự đoán bệnh nhân bị bệnh u vú lành tính - ác tính với thuật toán cây quyết định (Decision Tree), Sử dụng model với các tham số mặc định để huấn luyện và kiểm thử trên Train – Test.\n",
    "\n",
    "**Hiển thị các kết quả sau của model:**\n",
    "\n",
    "    a)Xác định và trực quan hóa độ quan trọng của các thuộc tính độc lập trong tập huấn luyện\n",
    "    b)Hiển thị cây quyết định trên tập Huấn luyện.\n",
    "    c)Độ chính xác của model (accuracy) trên tập Train – Test\n",
    "    d)Tổng số mẫu dự đoán đúng - sai trên tập Test \n",
    "    e)Ma trận confusion matrix trên tập Test\n",
    "\n",
    "\n",
    "5. Dự đoán với mô hình xây dựng được\n",
    "- Bệnh nhân 1 có các thông số như sau:\n",
    "\n",
    "    * Age:  40 tuổi;\n",
    "    * Weight: 60 Kg\n",
    "    * Shape: Round;\n",
    "    * Margin: Obscured!\n",
    "    * Density: Low\n",
    "\n",
    "- Bệnh nhân 2 có các thông số như sau:  \n",
    "    * Age:  64 tuổi;\n",
    "    * Weight: 70 kg\n",
    "    * Shape: Round;\n",
    "    * Margin: Circumscribed\n",
    "    * Density: Iso\n",
    "\n",
    "Sử dụng model ở trên dự đoán xem bệnh nhân 1, 2  này bị u lành tính  hay ác tính;\n",
    "\n",
    "NOTE: Sinh viên làm tiếp vào file bài tập chương 2, sau đó đặt lại tên: **Manhom_MaSV_Hoten_Baitap_DecisionTree** và nộp bài theo link bài nộp:\n",
    "https://docs.google.com/forms/d/e/1FAIpQLSdU-u9a3Hf5dRcZJv1T6sk0cVLqnKTUEha1dgNxNsjjSPyYGA/viewform\n"
   ]
  },
  {
   "cell_type": "code",
   "execution_count": null,
   "metadata": {},
   "outputs": [],
   "source": []
  }
 ],
 "metadata": {
  "kernelspec": {
   "display_name": "Python 3 (ipykernel)",
   "language": "python",
   "name": "python3"
  },
  "language_info": {
   "codemirror_mode": {
    "name": "ipython",
    "version": 3
   },
   "file_extension": ".py",
   "mimetype": "text/x-python",
   "name": "python",
   "nbconvert_exporter": "python",
   "pygments_lexer": "ipython3",
   "version": "3.9.13"
  }
 },
 "nbformat": 4,
 "nbformat_minor": 2
}
