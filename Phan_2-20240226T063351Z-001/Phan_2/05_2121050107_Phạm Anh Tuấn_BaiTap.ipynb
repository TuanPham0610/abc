{
 "cells": [
  {
   "cell_type": "markdown",
   "metadata": {},
   "source": [
    "<center>\n",
    "    \n",
    "<h2>BÀI TẬP MÔN HỌC </h2>\n",
    "    \n",
    "</center>\n",
    " \n",
    "---\n",
    "**Thông tin sinh viên:**\n",
    "1. Họ tên SV: Phạm Anh Tuấn\n",
    "2. Mã Sinh viên: 2121050107\n",
    "3. Lớp: DCCTKH66\n",
    "4. Nhóm môn học:\n",
    "\n",
    "\n",
    "---\n",
    "\n",
    "**Mô tả tập dữ liệu:**\n",
    "\n",
    "Tập dữ liệu Data_Practice_ML.xlsx chứa dữ liệu của các bệnh nhân bị u vú. (chi tiết trong slide bài giảng)\n",
    "\n",
    "Mỗi bản ghi tương ứng với một bệnh nhân, Bao gồm 8 thuộc tính:\n",
    "1. PatienID: Thuộc tính cho biết mã số của bệnh nhân\n",
    "2. Sex: Thuộc tính cho biết giới tính bệnh nhân\n",
    "3. Age: Thuộc tính cho biết tuổi của bệnh nhân, dữ liệu số\n",
    "4. Weight: Thuộc tính cho biết cân nặng của bệnh nhân (Kg)\n",
    "5. Shape: Thuộc tính cho biết hình dạng của khối u, bao gồm 4 giá trị: Round, Oval, Lobular, Irregular\n",
    "6. Margin: Thuộc tính cho biết dạng đường biên của khối u, bao gồm 5 giá trị: Circumscribed, Microlobulated, Obscured, ill-defined, Spiculated\n",
    "7. Density: Thuộc tính cho biết mật độ của khối u, bao gồm 4 giá trị: High, Iso, Low, Fat-containing\n",
    "8. Target: Thuộc tính cho biết khối u là lành tính (0) - hay ác tính (1)\n",
    " "
   ]
  },
  {
   "cell_type": "markdown",
   "metadata": {},
   "source": [
    "## PHẦN I: CHUẨN BỊ DỮ LIỆU\n",
    "---"
   ]
  },
  {
   "cell_type": "markdown",
   "metadata": {},
   "source": [
    "**Yêu cầu 1:**\n",
    "Đọc tập dữ liệu Data_Practice_ML.xlsx vào biến DataFrame,\n",
    "- Hiển thị thông tin của biến,\n",
    "- Hiển thị dữ liệu 5 bản ghi đầu tiên; 5 bản ghi cuối cùng, 5 bản ghi ngẫu nhiên\n",
    "- Thống kê dữ liệu các thuộc tính số, các thuộc tính Object; đưa ra các nhận xét về dữ liệu; Có thể sử dụng các biểu đồ để thể hiện trực quan"
   ]
  },
  {
   "cell_type": "code",
   "execution_count": 1,
   "metadata": {},
   "outputs": [
    {
     "name": "stdout",
     "output_type": "stream",
     "text": [
      "Hiển thị thông tin biến\n",
      "<class 'pandas.core.frame.DataFrame'>\n",
      "RangeIndex: 961 entries, 0 to 960\n",
      "Data columns (total 8 columns):\n",
      " #   Column     Non-Null Count  Dtype  \n",
      "---  ------     --------------  -----  \n",
      " 0   PatientID  961 non-null    object \n",
      " 1   Sex        961 non-null    object \n",
      " 2   Age        956 non-null    float64\n",
      " 3   Weight     961 non-null    int64  \n",
      " 4   Shape      930 non-null    object \n",
      " 5   Margin     913 non-null    object \n",
      " 6   Density    885 non-null    object \n",
      " 7   Target     961 non-null    int64  \n",
      "dtypes: float64(1), int64(2), object(5)\n",
      "memory usage: 60.2+ KB\n"
     ]
    }
   ],
   "source": [
    "import pandas as pd\n",
    "import numpy as np\n",
    "\n",
    "df_practice = pd.read_excel(\"Data\\Data_Practice_ML.xlsx\")\n",
    "\n",
    "print(\"Hiển thị thông tin biến\")\n",
    "df_practice.info() #hien thi thong tin bien"
   ]
  },
  {
   "cell_type": "code",
   "execution_count": 2,
   "metadata": {},
   "outputs": [
    {
     "name": "stdout",
     "output_type": "stream",
     "text": [
      "Hiển thị 5 bản ghi đầu tiên\n"
     ]
    },
    {
     "data": {
      "text/html": [
       "<div>\n",
       "<style scoped>\n",
       "    .dataframe tbody tr th:only-of-type {\n",
       "        vertical-align: middle;\n",
       "    }\n",
       "\n",
       "    .dataframe tbody tr th {\n",
       "        vertical-align: top;\n",
       "    }\n",
       "\n",
       "    .dataframe thead th {\n",
       "        text-align: right;\n",
       "    }\n",
       "</style>\n",
       "<table border=\"1\" class=\"dataframe\">\n",
       "  <thead>\n",
       "    <tr style=\"text-align: right;\">\n",
       "      <th></th>\n",
       "      <th>PatientID</th>\n",
       "      <th>Sex</th>\n",
       "      <th>Age</th>\n",
       "      <th>Weight</th>\n",
       "      <th>Shape</th>\n",
       "      <th>Margin</th>\n",
       "      <th>Density</th>\n",
       "      <th>Target</th>\n",
       "    </tr>\n",
       "  </thead>\n",
       "  <tbody>\n",
       "    <tr>\n",
       "      <th>0</th>\n",
       "      <td>P1</td>\n",
       "      <td>Female</td>\n",
       "      <td>67.0</td>\n",
       "      <td>46</td>\n",
       "      <td>Lobular</td>\n",
       "      <td>Spiculated</td>\n",
       "      <td>Low</td>\n",
       "      <td>1</td>\n",
       "    </tr>\n",
       "    <tr>\n",
       "      <th>1</th>\n",
       "      <td>P2</td>\n",
       "      <td>Female</td>\n",
       "      <td>43.0</td>\n",
       "      <td>66</td>\n",
       "      <td>Round</td>\n",
       "      <td>Circumscribed</td>\n",
       "      <td>NaN</td>\n",
       "      <td>1</td>\n",
       "    </tr>\n",
       "    <tr>\n",
       "      <th>2</th>\n",
       "      <td>P3</td>\n",
       "      <td>Female</td>\n",
       "      <td>58.0</td>\n",
       "      <td>80</td>\n",
       "      <td>Irregular</td>\n",
       "      <td>Spiculated</td>\n",
       "      <td>Low</td>\n",
       "      <td>1</td>\n",
       "    </tr>\n",
       "    <tr>\n",
       "      <th>3</th>\n",
       "      <td>P4</td>\n",
       "      <td>Female</td>\n",
       "      <td>28.0</td>\n",
       "      <td>51</td>\n",
       "      <td>Round</td>\n",
       "      <td>Circumscribed</td>\n",
       "      <td>Low</td>\n",
       "      <td>0</td>\n",
       "    </tr>\n",
       "    <tr>\n",
       "      <th>4</th>\n",
       "      <td>P5</td>\n",
       "      <td>Female</td>\n",
       "      <td>74.0</td>\n",
       "      <td>46</td>\n",
       "      <td>Round</td>\n",
       "      <td>Spiculated</td>\n",
       "      <td>NaN</td>\n",
       "      <td>1</td>\n",
       "    </tr>\n",
       "  </tbody>\n",
       "</table>\n",
       "</div>"
      ],
      "text/plain": [
       "  PatientID     Sex   Age  Weight      Shape         Margin Density  Target\n",
       "0        P1  Female  67.0      46    Lobular     Spiculated     Low       1\n",
       "1        P2  Female  43.0      66      Round  Circumscribed     NaN       1\n",
       "2        P3  Female  58.0      80  Irregular     Spiculated     Low       1\n",
       "3        P4  Female  28.0      51      Round  Circumscribed     Low       0\n",
       "4        P5  Female  74.0      46      Round     Spiculated     NaN       1"
      ]
     },
     "execution_count": 2,
     "metadata": {},
     "output_type": "execute_result"
    }
   ],
   "source": [
    "print(\"Hiển thị 5 bản ghi đầu tiên\")\n",
    "\n",
    "df_practice.head(5)"
   ]
  },
  {
   "cell_type": "code",
   "execution_count": 3,
   "metadata": {},
   "outputs": [
    {
     "name": "stdout",
     "output_type": "stream",
     "text": [
      "HIển thị 5 bản ghi cuối\n"
     ]
    },
    {
     "data": {
      "text/html": [
       "<div>\n",
       "<style scoped>\n",
       "    .dataframe tbody tr th:only-of-type {\n",
       "        vertical-align: middle;\n",
       "    }\n",
       "\n",
       "    .dataframe tbody tr th {\n",
       "        vertical-align: top;\n",
       "    }\n",
       "\n",
       "    .dataframe thead th {\n",
       "        text-align: right;\n",
       "    }\n",
       "</style>\n",
       "<table border=\"1\" class=\"dataframe\">\n",
       "  <thead>\n",
       "    <tr style=\"text-align: right;\">\n",
       "      <th></th>\n",
       "      <th>PatientID</th>\n",
       "      <th>Sex</th>\n",
       "      <th>Age</th>\n",
       "      <th>Weight</th>\n",
       "      <th>Shape</th>\n",
       "      <th>Margin</th>\n",
       "      <th>Density</th>\n",
       "      <th>Target</th>\n",
       "    </tr>\n",
       "  </thead>\n",
       "  <tbody>\n",
       "    <tr>\n",
       "      <th>956</th>\n",
       "      <td>P957</td>\n",
       "      <td>Female</td>\n",
       "      <td>47.0</td>\n",
       "      <td>72</td>\n",
       "      <td>Oval</td>\n",
       "      <td>Circumscribed</td>\n",
       "      <td>Low</td>\n",
       "      <td>0</td>\n",
       "    </tr>\n",
       "    <tr>\n",
       "      <th>957</th>\n",
       "      <td>P958</td>\n",
       "      <td>Female</td>\n",
       "      <td>56.0</td>\n",
       "      <td>64</td>\n",
       "      <td>Irregular</td>\n",
       "      <td>Spiculated</td>\n",
       "      <td>Low</td>\n",
       "      <td>1</td>\n",
       "    </tr>\n",
       "    <tr>\n",
       "      <th>958</th>\n",
       "      <td>P959</td>\n",
       "      <td>Female</td>\n",
       "      <td>64.0</td>\n",
       "      <td>75</td>\n",
       "      <td>Irregular</td>\n",
       "      <td>Spiculated</td>\n",
       "      <td>Low</td>\n",
       "      <td>0</td>\n",
       "    </tr>\n",
       "    <tr>\n",
       "      <th>959</th>\n",
       "      <td>P960</td>\n",
       "      <td>Female</td>\n",
       "      <td>66.0</td>\n",
       "      <td>56</td>\n",
       "      <td>Irregular</td>\n",
       "      <td>Spiculated</td>\n",
       "      <td>Low</td>\n",
       "      <td>1</td>\n",
       "    </tr>\n",
       "    <tr>\n",
       "      <th>960</th>\n",
       "      <td>P961</td>\n",
       "      <td>Female</td>\n",
       "      <td>62.0</td>\n",
       "      <td>51</td>\n",
       "      <td>Lobular</td>\n",
       "      <td>Obscured</td>\n",
       "      <td>Low</td>\n",
       "      <td>0</td>\n",
       "    </tr>\n",
       "  </tbody>\n",
       "</table>\n",
       "</div>"
      ],
      "text/plain": [
       "    PatientID     Sex   Age  Weight      Shape         Margin Density  Target\n",
       "956      P957  Female  47.0      72       Oval  Circumscribed     Low       0\n",
       "957      P958  Female  56.0      64  Irregular     Spiculated     Low       1\n",
       "958      P959  Female  64.0      75  Irregular     Spiculated     Low       0\n",
       "959      P960  Female  66.0      56  Irregular     Spiculated     Low       1\n",
       "960      P961  Female  62.0      51    Lobular       Obscured     Low       0"
      ]
     },
     "execution_count": 3,
     "metadata": {},
     "output_type": "execute_result"
    }
   ],
   "source": [
    "print(\"HIển thị 5 bản ghi cuối\")\n",
    "\n",
    "df_practice.tail(5)"
   ]
  },
  {
   "cell_type": "code",
   "execution_count": 4,
   "metadata": {},
   "outputs": [
    {
     "name": "stdout",
     "output_type": "stream",
     "text": [
      "Hiển thị 5 bản ghi ngẫu nhiên\n"
     ]
    },
    {
     "data": {
      "text/html": [
       "<div>\n",
       "<style scoped>\n",
       "    .dataframe tbody tr th:only-of-type {\n",
       "        vertical-align: middle;\n",
       "    }\n",
       "\n",
       "    .dataframe tbody tr th {\n",
       "        vertical-align: top;\n",
       "    }\n",
       "\n",
       "    .dataframe thead th {\n",
       "        text-align: right;\n",
       "    }\n",
       "</style>\n",
       "<table border=\"1\" class=\"dataframe\">\n",
       "  <thead>\n",
       "    <tr style=\"text-align: right;\">\n",
       "      <th></th>\n",
       "      <th>PatientID</th>\n",
       "      <th>Sex</th>\n",
       "      <th>Age</th>\n",
       "      <th>Weight</th>\n",
       "      <th>Shape</th>\n",
       "      <th>Margin</th>\n",
       "      <th>Density</th>\n",
       "      <th>Target</th>\n",
       "    </tr>\n",
       "  </thead>\n",
       "  <tbody>\n",
       "    <tr>\n",
       "      <th>214</th>\n",
       "      <td>P215</td>\n",
       "      <td>Female</td>\n",
       "      <td>76.0</td>\n",
       "      <td>56</td>\n",
       "      <td>Irregular</td>\n",
       "      <td>Spiculated</td>\n",
       "      <td>Low</td>\n",
       "      <td>1</td>\n",
       "    </tr>\n",
       "    <tr>\n",
       "      <th>839</th>\n",
       "      <td>P840</td>\n",
       "      <td>Female</td>\n",
       "      <td>50.0</td>\n",
       "      <td>51</td>\n",
       "      <td>Oval</td>\n",
       "      <td>Circumscribed</td>\n",
       "      <td>Low</td>\n",
       "      <td>0</td>\n",
       "    </tr>\n",
       "    <tr>\n",
       "      <th>917</th>\n",
       "      <td>P918</td>\n",
       "      <td>Female</td>\n",
       "      <td>42.0</td>\n",
       "      <td>68</td>\n",
       "      <td>Lobular</td>\n",
       "      <td>ill-defined</td>\n",
       "      <td>Low</td>\n",
       "      <td>1</td>\n",
       "    </tr>\n",
       "    <tr>\n",
       "      <th>561</th>\n",
       "      <td>P562</td>\n",
       "      <td>Female</td>\n",
       "      <td>59.0</td>\n",
       "      <td>53</td>\n",
       "      <td>NaN</td>\n",
       "      <td>ill-defined</td>\n",
       "      <td>Low</td>\n",
       "      <td>0</td>\n",
       "    </tr>\n",
       "    <tr>\n",
       "      <th>92</th>\n",
       "      <td>P93</td>\n",
       "      <td>Female</td>\n",
       "      <td>67.0</td>\n",
       "      <td>74</td>\n",
       "      <td>Round</td>\n",
       "      <td>Circumscribed</td>\n",
       "      <td>NaN</td>\n",
       "      <td>0</td>\n",
       "    </tr>\n",
       "  </tbody>\n",
       "</table>\n",
       "</div>"
      ],
      "text/plain": [
       "    PatientID     Sex   Age  Weight      Shape         Margin Density  Target\n",
       "214      P215  Female  76.0      56  Irregular     Spiculated     Low       1\n",
       "839      P840  Female  50.0      51       Oval  Circumscribed     Low       0\n",
       "917      P918  Female  42.0      68    Lobular    ill-defined     Low       1\n",
       "561      P562  Female  59.0      53        NaN    ill-defined     Low       0\n",
       "92        P93  Female  67.0      74      Round  Circumscribed     NaN       0"
      ]
     },
     "execution_count": 4,
     "metadata": {},
     "output_type": "execute_result"
    }
   ],
   "source": [
    "print(\"Hiển thị 5 bản ghi ngẫu nhiên\")\n",
    "\n",
    "df_practice.sample(5)"
   ]
  },
  {
   "cell_type": "code",
   "execution_count": 5,
   "metadata": {},
   "outputs": [
    {
     "name": "stdout",
     "output_type": "stream",
     "text": [
      "Thống kê dữ liệu các thuộc tính số\n"
     ]
    },
    {
     "data": {
      "text/html": [
       "<div>\n",
       "<style scoped>\n",
       "    .dataframe tbody tr th:only-of-type {\n",
       "        vertical-align: middle;\n",
       "    }\n",
       "\n",
       "    .dataframe tbody tr th {\n",
       "        vertical-align: top;\n",
       "    }\n",
       "\n",
       "    .dataframe thead th {\n",
       "        text-align: right;\n",
       "    }\n",
       "</style>\n",
       "<table border=\"1\" class=\"dataframe\">\n",
       "  <thead>\n",
       "    <tr style=\"text-align: right;\">\n",
       "      <th></th>\n",
       "      <th>Age</th>\n",
       "      <th>Weight</th>\n",
       "      <th>Target</th>\n",
       "    </tr>\n",
       "  </thead>\n",
       "  <tbody>\n",
       "    <tr>\n",
       "      <th>count</th>\n",
       "      <td>956.000000</td>\n",
       "      <td>961.000000</td>\n",
       "      <td>961.000000</td>\n",
       "    </tr>\n",
       "    <tr>\n",
       "      <th>mean</th>\n",
       "      <td>56.306485</td>\n",
       "      <td>62.609781</td>\n",
       "      <td>0.463059</td>\n",
       "    </tr>\n",
       "    <tr>\n",
       "      <th>std</th>\n",
       "      <td>30.044212</td>\n",
       "      <td>10.440240</td>\n",
       "      <td>0.498893</td>\n",
       "    </tr>\n",
       "    <tr>\n",
       "      <th>min</th>\n",
       "      <td>18.000000</td>\n",
       "      <td>45.000000</td>\n",
       "      <td>0.000000</td>\n",
       "    </tr>\n",
       "    <tr>\n",
       "      <th>25%</th>\n",
       "      <td>45.000000</td>\n",
       "      <td>53.000000</td>\n",
       "      <td>0.000000</td>\n",
       "    </tr>\n",
       "    <tr>\n",
       "      <th>50%</th>\n",
       "      <td>57.000000</td>\n",
       "      <td>62.000000</td>\n",
       "      <td>0.000000</td>\n",
       "    </tr>\n",
       "    <tr>\n",
       "      <th>75%</th>\n",
       "      <td>66.000000</td>\n",
       "      <td>71.000000</td>\n",
       "      <td>1.000000</td>\n",
       "    </tr>\n",
       "    <tr>\n",
       "      <th>max</th>\n",
       "      <td>870.000000</td>\n",
       "      <td>80.000000</td>\n",
       "      <td>1.000000</td>\n",
       "    </tr>\n",
       "  </tbody>\n",
       "</table>\n",
       "</div>"
      ],
      "text/plain": [
       "              Age      Weight      Target\n",
       "count  956.000000  961.000000  961.000000\n",
       "mean    56.306485   62.609781    0.463059\n",
       "std     30.044212   10.440240    0.498893\n",
       "min     18.000000   45.000000    0.000000\n",
       "25%     45.000000   53.000000    0.000000\n",
       "50%     57.000000   62.000000    0.000000\n",
       "75%     66.000000   71.000000    1.000000\n",
       "max    870.000000   80.000000    1.000000"
      ]
     },
     "execution_count": 5,
     "metadata": {},
     "output_type": "execute_result"
    }
   ],
   "source": [
    "print(\"Thống kê dữ liệu các thuộc tính số\")\n",
    "\n",
    "df_practice.describe()"
   ]
  },
  {
   "cell_type": "code",
   "execution_count": 6,
   "metadata": {},
   "outputs": [
    {
     "name": "stdout",
     "output_type": "stream",
     "text": [
      "Thống kê các thuộc tính Object\n"
     ]
    },
    {
     "data": {
      "text/html": [
       "<div>\n",
       "<style scoped>\n",
       "    .dataframe tbody tr th:only-of-type {\n",
       "        vertical-align: middle;\n",
       "    }\n",
       "\n",
       "    .dataframe tbody tr th {\n",
       "        vertical-align: top;\n",
       "    }\n",
       "\n",
       "    .dataframe thead th {\n",
       "        text-align: right;\n",
       "    }\n",
       "</style>\n",
       "<table border=\"1\" class=\"dataframe\">\n",
       "  <thead>\n",
       "    <tr style=\"text-align: right;\">\n",
       "      <th></th>\n",
       "      <th>PatientID</th>\n",
       "      <th>Sex</th>\n",
       "      <th>Shape</th>\n",
       "      <th>Margin</th>\n",
       "      <th>Density</th>\n",
       "    </tr>\n",
       "  </thead>\n",
       "  <tbody>\n",
       "    <tr>\n",
       "      <th>count</th>\n",
       "      <td>961</td>\n",
       "      <td>961</td>\n",
       "      <td>930</td>\n",
       "      <td>913</td>\n",
       "      <td>885</td>\n",
       "    </tr>\n",
       "    <tr>\n",
       "      <th>unique</th>\n",
       "      <td>961</td>\n",
       "      <td>2</td>\n",
       "      <td>5</td>\n",
       "      <td>6</td>\n",
       "      <td>5</td>\n",
       "    </tr>\n",
       "    <tr>\n",
       "      <th>top</th>\n",
       "      <td>P1</td>\n",
       "      <td>Female</td>\n",
       "      <td>Irregular</td>\n",
       "      <td>Circumscribed</td>\n",
       "      <td>Low</td>\n",
       "    </tr>\n",
       "    <tr>\n",
       "      <th>freq</th>\n",
       "      <td>1</td>\n",
       "      <td>960</td>\n",
       "      <td>399</td>\n",
       "      <td>357</td>\n",
       "      <td>797</td>\n",
       "    </tr>\n",
       "  </tbody>\n",
       "</table>\n",
       "</div>"
      ],
      "text/plain": [
       "       PatientID     Sex      Shape         Margin Density\n",
       "count        961     961        930            913     885\n",
       "unique       961       2          5              6       5\n",
       "top           P1  Female  Irregular  Circumscribed     Low\n",
       "freq           1     960        399            357     797"
      ]
     },
     "execution_count": 6,
     "metadata": {},
     "output_type": "execute_result"
    }
   ],
   "source": [
    "print(\"Thống kê các thuộc tính Object\") #Object Kiểu dữ liệu chuỗi\n",
    "df_practice.describe(include=\"O\")"
   ]
  },
  {
   "cell_type": "code",
   "execution_count": 7,
   "metadata": {},
   "outputs": [
    {
     "name": "stdout",
     "output_type": "stream",
     "text": [
      "Nhận xét về dữ liệu\n",
      "Những nhóm người có thể mắc bệnh u vú\n",
      "__________\n",
      "Giới tính\n",
      "Female    960\n",
      "FEMALE      1\n",
      "Name: Sex, dtype: int64\n",
      "Nhận xét: Giới tính có nguy cơ mắc u vú cao nhất là  Female\n",
      "__________\n",
      "Độ tuổi\n",
      "59.0     36\n",
      "67.0     32\n",
      "57.0     32\n",
      "66.0     31\n",
      "46.0     28\n",
      "         ..\n",
      "870.0     1\n",
      "82.0      1\n",
      "18.0      1\n",
      "88.0      1\n",
      "20.0      1\n",
      "Name: Age, Length: 74, dtype: int64\n",
      "Nhận xét: Độ tuổi có nguy cơ mắc u vú cao nhất là  59.0 tuổi\n",
      "__________\n",
      "Cân nặng\n",
      "49    40\n",
      "80    38\n",
      "69    36\n",
      "61    36\n",
      "57    35\n",
      "51    34\n",
      "70    33\n",
      "53    32\n",
      "50    31\n",
      "65    31\n",
      "68    30\n",
      "46    30\n",
      "78    28\n",
      "58    28\n",
      "77    28\n",
      "75    26\n",
      "73    26\n",
      "63    26\n",
      "79    26\n",
      "48    26\n",
      "56    25\n",
      "74    25\n",
      "59    25\n",
      "62    25\n",
      "54    25\n",
      "72    22\n",
      "66    22\n",
      "60    21\n",
      "67    21\n",
      "76    21\n",
      "64    20\n",
      "52    19\n",
      "47    18\n",
      "71    18\n",
      "55    17\n",
      "45    17\n",
      "Name: Weight, dtype: int64\n",
      "Nhận xét: Cân nặng có nguy cơ mắc u vú cao nhất là  49 kg\n"
     ]
    }
   ],
   "source": [
    "print(\"Nhận xét về dữ liệu\")\n",
    "print(\"Những nhóm người có thể mắc bệnh u vú\")\n",
    "print(\"__________\")\n",
    "\n",
    "print(\"Giới tính\")\n",
    "print(df_practice[\"Sex\"].value_counts())\n",
    "print(\"Nhận xét: Giới tính có nguy cơ mắc u vú cao nhất là \", df_practice[\"Sex\"].value_counts().idxmax())\n",
    "\n",
    "print(\"__________\")\n",
    "print(\"Độ tuổi\")\n",
    "print(df_practice[\"Age\"].value_counts())\n",
    "print(\"Nhận xét: Độ tuổi có nguy cơ mắc u vú cao nhất là \",df_practice[\"Age\"].value_counts().idxmax(), \"tuổi\")\n",
    "\n",
    "error_age = 870\n",
    "df_practice[\"Age\"] = df_practice[\"Age\"].replace(error_age,float('nan'))\n",
    "# Trong Age có giá trị tuổi = 870, thay thế bằng NaN\n",
    "\n",
    "print(\"__________\")\n",
    "print(\"Cân nặng\")\n",
    "print(df_practice[\"Weight\"].value_counts())\n",
    "print(\"Nhận xét: Cân nặng có nguy cơ mắc u vú cao nhất là \",df_practice[\"Weight\"].value_counts().idxmax(), \"kg\")\n",
    "\n",
    "\n"
   ]
  },
  {
   "cell_type": "code",
   "execution_count": 8,
   "metadata": {},
   "outputs": [
    {
     "name": "stdout",
     "output_type": "stream",
     "text": [
      "59.0    36\n",
      "67.0    32\n",
      "57.0    32\n",
      "66.0    31\n",
      "46.0    28\n",
      "        ..\n",
      "18.0     1\n",
      "82.0     1\n",
      "93.0     1\n",
      "96.0     1\n",
      "20.0     1\n",
      "Name: Age, Length: 73, dtype: int64\n"
     ]
    },
    {
     "data": {
      "image/png": "[encoded data removed]",
      "text/plain": [
       "<Figure size 640x480 with 1 Axes>"
      ]
     },
     "metadata": {},
     "output_type": "display_data"
    }
   ],
   "source": [
    "#Biểu đồ trực quan hóa độ tuổi dễ mắc bệnh\n",
    "import matplotlib.pyplot as plt\n",
    "\n",
    "age = df_practice['Age'].value_counts()\n",
    "print(age)\n",
    "\n",
    "\n",
    "plt.bar(age.index, age.values)\n",
    "\n",
    "plt.title(\"Độ tuổi dễ mắc bệnh u vú\")\n",
    "plt.xlabel(\"Độ tuổi\")\n",
    "plt.ylabel(\"Số bệnh nhân mắc bệnh\")\n",
    "\n",
    "plt.show()\n"
   ]
  },
  {
   "cell_type": "code",
   "execution_count": 9,
   "metadata": {},
   "outputs": [
    {
     "data": {
      "image/png": "[encoded data removed]",
      "text/plain": [
       "<Figure size 640x480 with 1 Axes>"
      ]
     },
     "metadata": {},
     "output_type": "display_data"
    }
   ],
   "source": [
    "weight = df_practice[\"Weight\"].value_counts()\n",
    "\n",
    "plt.bar(weight.index, weight.values)\n",
    "\n",
    "plt.xlabel(\"Cân nặng (kg)\")\n",
    "plt.ylabel(\"Số bệnh nhân mắc bệnh\")\n",
    "plt.title(\"Cân nặng có nguy cơ mắc bệnh\")\n",
    "\n",
    "plt.show()"
   ]
  },
  {
   "cell_type": "markdown",
   "metadata": {},
   "source": [
    "**Yêu cầu 2:**\n",
    "\n",
    "- Kiểm tra các bản ghi trùng lặp, các thông số bất thường trong tập dữ liệu nếu có\n",
    "- Thống kê dữ liệu thiếu (missing) cho từng thuộc tính, và liệt kê ra các bản ghi bị missing tương ứng với thuộc tính đó."
   ]
  },
  {
   "cell_type": "code",
   "execution_count": 10,
   "metadata": {},
   "outputs": [
    {
     "name": "stdout",
     "output_type": "stream",
     "text": [
      "Empty DataFrame\n",
      "Columns: [PatientID, Sex, Age, Weight, Shape, Margin, Density, Target]\n",
      "Index: []\n",
      "_________________\n",
      "Số lượng giá trị thiếu cho từng thuộc tính: \n",
      "PatientID     0\n",
      "Sex           0\n",
      "Age           6\n",
      "Weight        0\n",
      "Shape        31\n",
      "Margin       48\n",
      "Density      76\n",
      "Target        0\n",
      "dtype: int64\n",
      "__________\n",
      "Các bản ghi bị thiếu cho thuộc tính 'Age':\n",
      "    PatientID     Sex  Age  Weight      Shape       Margin Density  Target\n",
      "165      P166  Female  NaN      73  Irregular   Spiculated     Low       1\n",
      "443      P444  Female  NaN      48  Irregular   Spiculated     Low       1\n",
      "453      P454  Female  NaN      64  Irregular  ill-defined     Low       1\n",
      "683      P684  Female  NaN      53    Lobular     Obscured     Low       1\n",
      "884      P885  Female  NaN      75  Irregular  ill-defined     Low       1\n",
      "923      P924  Female  NaN      51  Irregular     Obscured     Low       1\n",
      "Các bản ghi bị thiếu cho thuộc tính 'Shape':\n",
      "    PatientID     Sex   Age  Weight Shape         Margin         Density  \\\n",
      "6          P7  Female  70.0      62   NaN            NaN             Low   \n",
      "9         P10  Female  60.0      77   NaN     Spiculated            High   \n",
      "20        P21  Female  66.0      68   NaN            NaN            High   \n",
      "48        P49  Female  42.0      60   NaN            NaN  Fat-containing   \n",
      "54        P55  Female  53.0      72   NaN     Spiculated             Low   \n",
      "74        P75  Female  70.0      74   NaN    ill-defined             NaN   \n",
      "83        P84  Female  57.0      69   NaN    ill-defined            High   \n",
      "128      P129  Female  52.0      56   NaN    ill-defined             NaN   \n",
      "157      P158  Female  51.0      57   NaN            NaN             Low   \n",
      "163      P164  Female  53.0      46   NaN    ill-defined             Low   \n",
      "236      P237  Female  60.0      63   NaN       Obscured            High   \n",
      "255      P256  Female  76.0      61   NaN       Obscured             Iso   \n",
      "387      P388  Female  64.0      63   NaN            NaN             Low   \n",
      "388      P389  Female  49.0      70   NaN       Obscured             Low   \n",
      "389      P390  Female  44.0      79   NaN    ill-defined             Low   \n",
      "394      P395  Female  34.0      53   NaN            NaN  Fat-containing   \n",
      "476      P477  Female  41.0      48   NaN            NaN             Low   \n",
      "496      P497  Female  82.0      80   NaN     Spiculated             Low   \n",
      "519      P520  Female  68.0      71   NaN            NaN             Low   \n",
      "531      P532  Female  55.0      58   NaN            NaN             Low   \n",
      "537      P538  Female  63.0      71   NaN    ill-defined             Low   \n",
      "554      P555  Female  70.0      63   NaN     Spiculated             Low   \n",
      "561      P562  Female  59.0      53   NaN    ill-defined             Low   \n",
      "581      P582  Female  65.0      54   NaN  Circumscribed             Iso   \n",
      "614      P615  Female  46.0      56   NaN     Spiculated             NaN   \n",
      "660      P661  Female  58.0      57   NaN    ill-defined             Low   \n",
      "661      P662  Female  51.0      60   NaN    ill-defined             Low   \n",
      "662      P663  Female  50.0      58   NaN            NaN             Low   \n",
      "752      P753  Female  48.0      52   NaN    ill-defined             NaN   \n",
      "778      P779  Female  60.0      80   NaN    ill-defined             Low   \n",
      "824      P825  Female  40.0      62   NaN       Obscured  Fat-containing   \n",
      "\n",
      "     Target  \n",
      "6         0  \n",
      "9         1  \n",
      "20        1  \n",
      "48        0  \n",
      "54        1  \n",
      "74        1  \n",
      "83        0  \n",
      "128       0  \n",
      "157       0  \n",
      "163       0  \n",
      "236       0  \n",
      "255       0  \n",
      "387       0  \n",
      "388       0  \n",
      "389       0  \n",
      "394       0  \n",
      "476       0  \n",
      "496       1  \n",
      "519       0  \n",
      "531       0  \n",
      "537       1  \n",
      "554       1  \n",
      "561       0  \n",
      "581       0  \n",
      "614       1  \n",
      "660       1  \n",
      "661       0  \n",
      "662       1  \n",
      "752       1  \n",
      "778       0  \n",
      "824       1  \n",
      "Các bản ghi bị thiếu cho thuộc tính 'Margin':\n",
      "    PatientID     Sex   Age  Weight      Shape Margin         Density  Target\n",
      "5          P6  Female  65.0      72      Round    NaN             Low       0\n",
      "6          P7  Female  70.0      62        NaN    NaN             Low       0\n",
      "7          P8  Female  42.0      51      Round    NaN             Low       0\n",
      "12        P13  Female  64.0      67      Round    NaN             Low       0\n",
      "19        P20  Female  40.0      67      Round    NaN             NaN       0\n",
      "20        P21  Female  66.0      68        NaN    NaN            High       1\n",
      "22        P23  Female  43.0      54      Round    NaN             NaN       0\n",
      "27        P28  Female  63.0      47    Lobular    NaN             Low       0\n",
      "35        P36  Female  77.0      49    Lobular    NaN             NaN       0\n",
      "48        P49  Female  42.0      60        NaN    NaN  Fat-containing       0\n",
      "59        P60  Female  59.0      57       Oval    NaN             NaN       1\n",
      "84        P85  Female  51.0      79  Irregular    NaN             NaN       1\n",
      "85        P86  Female  33.0      59      Round    NaN             NaN       0\n",
      "87        P88  Female  36.0      65      Round    NaN             NaN       0\n",
      "94        P95  Female  60.0      48      Round    NaN             Low       0\n",
      "100      P101  Female  59.0      53       Oval    NaN             NaN       0\n",
      "101      P102  Female  65.0      78       Oval    NaN             NaN       0\n",
      "103      P104  Female  29.0      68       Oval    NaN             NaN       0\n",
      "133      P134  Female  60.0      48       Oval    NaN             NaN       0\n",
      "147      P148  Female  63.0      49  Irregular    NaN             Low       1\n",
      "156      P157  Female  55.0      48       Oval    NaN             NaN       1\n",
      "157      P158  Female  51.0      57        NaN    NaN             Low       0\n",
      "159      P160  Female  58.0      68  Irregular    NaN             Low       1\n",
      "187      P188  Female  67.0      48      Round    NaN             Low       0\n",
      "227      P228  Female  55.0      59      Round    NaN            High       0\n",
      "278      P279  Female  79.0      63      Round    NaN             Low       1\n",
      "298      P299  Female  71.0      65      Round    NaN             Low       0\n",
      "305      P306  Female  54.0      78      Round    NaN             NaN       0\n",
      "315      P316  Female  71.0      70       Oval    NaN             Low       1\n",
      "359      P360  Female  46.0      65    Lobular    NaN             Low       0\n",
      "371      P372  Female  46.0      70      Round    NaN             NaN       0\n",
      "372      P373  Female  43.0      54      Round    NaN             NaN       0\n",
      "387      P388  Female  64.0      63        NaN    NaN             Low       0\n",
      "394      P395  Female  34.0      53        NaN    NaN  Fat-containing       0\n",
      "452      P453  Female  57.0      69    Lobular    NaN             Low       0\n",
      "459      P460  Female  40.0      60       Oval    NaN             Low       0\n",
      "476      P477  Female  41.0      48        NaN    NaN             Low       0\n",
      "519      P520  Female  68.0      71        NaN    NaN             Low       0\n",
      "520      P521  Female  62.0      60  Irregular    NaN             Low       1\n",
      "521      P522  Female  65.0      60      Round    NaN             Low       1\n",
      "531      P532  Female  55.0      58        NaN    NaN             Low       0\n",
      "541      P542  Female  49.0      47       Oval    NaN             Low       0\n",
      "574      P575  Female  60.0      73    Lobular    NaN             NaN       0\n",
      "662      P663  Female  50.0      58        NaN    NaN             Low       1\n",
      "691      P692  Female  72.0      54    Lobular    NaN             Low       0\n",
      "723      P724  Female  60.0      55    Lobular    NaN  Fat-containing       0\n",
      "745      P746  Female  76.0      51    Lobular    NaN             Low       0\n",
      "819      P820  Female  35.0      49    Lobular    NaN             Iso       0\n",
      "Các bản ghi bị thiếu cho thuộc tính 'Density':\n",
      "    PatientID     Sex   Age  Weight      Shape         Margin Density  Target\n",
      "1          P2  Female  43.0      66      Round  Circumscribed     NaN       1\n",
      "4          P5  Female  74.0      46      Round     Spiculated     NaN       1\n",
      "19        P20  Female  40.0      67      Round            NaN     NaN       0\n",
      "22        P23  Female  43.0      54      Round            NaN     NaN       0\n",
      "26        P27  Female  66.0      80      Round  Circumscribed     NaN       0\n",
      "..        ...     ...   ...     ...        ...            ...     ...     ...\n",
      "614      P615  Female  46.0      56        NaN     Spiculated     NaN       1\n",
      "627      P628  Female  57.0      49       Oval  Circumscribed     NaN       0\n",
      "665      P666  Female  27.0      54       Oval  Circumscribed     NaN       0\n",
      "677      P678  Female  57.0      58  Irregular    ill-defined     NaN       1\n",
      "752      P753  Female  48.0      52        NaN    ill-defined     NaN       1\n",
      "\n",
      "[76 rows x 8 columns]\n"
     ]
    }
   ],
   "source": [
    "#Hiển thị bản ghi trùng lặp\n",
    "print(df_practice[(df_practice.duplicated()==True)])\n",
    "print(\"_________________\")\n",
    "#Kiểm tra dữ liệu thiếu(missing)\n",
    "\n",
    "missing_counts = df_practice.isna().sum()\n",
    "print(\"Số lượng giá trị thiếu cho từng thuộc tính: \")\n",
    "print(missing_counts)\n",
    "print(\"__________\")\n",
    "\n",
    "# Liệt kê các bản ghi bị thiếu tương ứng với từng thuộc tính\n",
    "for column in df_practice.columns:\n",
    "    missing_records = df_practice[df_practice[column].isnull()]\n",
    "    if not missing_records.empty:\n",
    "        print(f\"Các bản ghi bị thiếu cho thuộc tính '{column}':\")\n",
    "        print(missing_records)\n",
    "\n",
    "\n"
   ]
  },
  {
   "cell_type": "code",
   "execution_count": null,
   "metadata": {},
   "outputs": [],
   "source": []
  },
  {
   "cell_type": "markdown",
   "metadata": {},
   "source": [
    "**Yêu cầu 3:** \n",
    "\n",
    "- Phân tích, thống kê - xác định mức độ ảnh hưởng của các thuộc tính độc lập [Age, Shape, Margin, Density] tới thuộc tính phụ thuộc [Target]\n",
    "- Xác định thuộc tính quan trọng, không quan trọng ảnh hưởng việc u lành tính hay ác tính của bệnh nhân"
   ]
  },
  {
   "cell_type": "code",
   "execution_count": 11,
   "metadata": {},
   "outputs": [
    {
     "name": "stdout",
     "output_type": "stream",
     "text": [
      "0    516\n",
      "1    445\n",
      "Name: Target, dtype: int64\n"
     ]
    },
    {
     "data": {
      "image/png": "[encoded data removed]",
      "text/plain": [
       "<Figure size 640x480 with 1 Axes>"
      ]
     },
     "metadata": {},
     "output_type": "display_data"
    }
   ],
   "source": [
    "#Target thuộc tính cho biết khối u lành tính (0) hay u ác tính (1)\n",
    "\n",
    "#Age: Thuộc tính cho biết tuổi của bệnh nhân, dữ liệu số\n",
    "#Shape: Thuộc tính cho biết hình dạng của khối u, bao gồm 4 giá trị: Round, Oval, Lobular, Irregular\n",
    "#Margin: Thuộc tính cho biết dạng đường biên của khối u, bao gồm 5 giá trị: Circumscribed, Microlobulated, Obscured, ill-defined, Spiculated\n",
    "#Density: Thuộc tính cho biết mật độ của khối u, bao gồm 4 giá trị: High, Iso, Low, Fat-containing\n",
    "\n",
    "print(df_practice[\"Target\"].value_counts())\n",
    "\n",
    "target = df_practice[\"Target\"].value_counts()\n",
    "\n",
    "name = [\"Khối u lành tính\", \"Khối u ác tính\"]\n",
    "\n",
    "plt.bar(name, target.values)\n",
    "\n",
    "plt.xlabel(\"Tên khối u\")\n",
    "plt.ylabel(\"Số bệnh nhân mắc bệnh\")\n",
    "plt.title(\"Số lượng bệnh nhân mắc khối u\")\n",
    "plt.show()\n",
    "\n"
   ]
  },
  {
   "cell_type": "code",
   "execution_count": 12,
   "metadata": {},
   "outputs": [
    {
     "name": "stdout",
     "output_type": "stream",
     "text": [
      "        count       mean        std   min    25%   50%    75%   max\n",
      "Target                                                             \n",
      "0       516.0  49.713178  13.636441  18.0  40.75  50.0  59.25  86.0\n",
      "1       439.0  62.202733  12.319839  28.0  54.00  63.0  71.00  96.0\n"
     ]
    },
    {
     "data": {
      "image/png": "[encoded data removed]",
      "text/plain": [
       "<Figure size 800x600 with 1 Axes>"
      ]
     },
     "metadata": {},
     "output_type": "display_data"
    }
   ],
   "source": [
    "# Dữ liệu theo 'Target và tính toán số liệu thống kê tóm tắt cho 'Age'\n",
    "age_target_summary = df_practice.groupby('Target')['Age'].describe()\n",
    "print(age_target_summary)\n",
    "\n",
    "#Count: Số bệnh nhân mắc u \n",
    "#Độ tuổi trung bình\n",
    "#Đô lệch chuẩn\n",
    "#25%\n",
    "#50%\n",
    "#75%\n",
    "#Max: Độ tuổi tối đa mắc u\n",
    "\n",
    "targets = ['Khối u lành tính', 'Khối u ác tính']\n",
    "mean_age = [49.71, 62.20]  # Giá trị trung bình của Age cho mỗi nhóm Target\n",
    "\n",
    "plt.figure(figsize=(8, 6)) #dài / rộng của biểu đồ\n",
    "\n",
    "plt.bar(targets, mean_age, color=['blue', 'red'])\n",
    "plt.ylabel('Tuổi trung bình')\n",
    "plt.title('Mức độ ảnh hưởng của Tuổi đến Trạng thái khối u')\n",
    "\n",
    "plt.show()\n"
   ]
  },
  {
   "cell_type": "markdown",
   "metadata": {},
   "source": [
    "# Nhận xét: Độ tuổi có ảnh hưởng lớn đến sự xuất hiện của U lành tính hay U ác tính"
   ]
  },
  {
   "cell_type": "code",
   "execution_count": 13,
   "metadata": {},
   "outputs": [
    {
     "name": "stdout",
     "output_type": "stream",
     "text": [
      "       count unique        top freq\n",
      "Target                             \n",
      "0        497      5      Round  186\n",
      "1        433      4  Irregular  315\n"
     ]
    },
    {
     "data": {
      "image/png": "[encoded data removed]",
      "text/plain": [
       "<Figure size 1000x600 with 1 Axes>"
      ]
     },
     "metadata": {},
     "output_type": "display_data"
    }
   ],
   "source": [
    "#Shape: Thuộc tính cho biết hình dạng của khối u, bao gồm 4 giá trị: Round, Oval, Lobular, Irregular\n",
    "\n",
    "# Tạo DataFrame chứa số lượng mẫu cho mỗi nhóm Target và Shape\n",
    "shape_target_summary = df_practice.groupby('Target')['Shape'].describe()\n",
    "\n",
    "print(shape_target_summary)\n",
    "\n",
    "#Xóa dữ liệu bị sai trong cột Shape\n",
    "df_practice = df_practice[df_practice['Shape'] != 'IRREGULAR']\n",
    "\n",
    "\n",
    "\n",
    "\n",
    "target_shape_counts = df_practice.groupby(['Target', 'Shape']).size().unstack(fill_value=0)\n",
    "\n",
    "#groupby() Lấy dữ liệu từ 2 thuộc tính\n",
    "#unstack chuyển dữ liệu từ chuỗi sang bảng \n",
    "#fill_value thay thế giá trị thiếu = 0\n",
    "\n",
    "\n",
    "target_shape_counts.plot(kind='bar', stacked=True, figsize=(10, 6))\n",
    "\n",
    "\n",
    "plt.title('Ảnh hưởng của Shape đối với Target')\n",
    "plt.xlabel('0 là U lành tính / 1 là U ác tính')\n",
    "plt.ylabel('Số lượng')\n",
    "\n",
    "\n",
    "plt.legend(title='Shape')\n",
    "\n",
    "# Hiển thị biểu đồ\n",
    "plt.show()\n",
    "\n",
    "\n"
   ]
  },
  {
   "cell_type": "markdown",
   "metadata": {},
   "source": [
    "# Nhận xét: Thuộc tính khối u không ảnh hưởng nhiều đến việc u là lành tính hay ác tính"
   ]
  },
  {
   "cell_type": "code",
   "execution_count": 14,
   "metadata": {},
   "outputs": [
    {
     "name": "stdout",
     "output_type": "stream",
     "text": [
      "       count unique            top freq\n",
      "Target                                 \n",
      "0        478      5  Circumscribed  316\n",
      "1        434      5    ill-defined  191\n"
     ]
    },
    {
     "data": {
      "image/png": "[encoded data removed]",
      "text/plain": [
       "<Figure size 1000x600 with 1 Axes>"
      ]
     },
     "metadata": {},
     "output_type": "display_data"
    }
   ],
   "source": [
    "margin_target = df_practice.groupby('Target')['Margin'].describe()\n",
    "\n",
    "print(margin_target)\n",
    "\n",
    "\n",
    "\n",
    "margin_values = ['Circumscribed', 'Microlobulated', 'Obscured', 'Ill-defined', 'Spiculated']\n",
    "target_0_counts = [df_practice[df_practice['Target'] == 0]['Margin'].value_counts().get(margin, 0) for margin in margin_values]\n",
    "target_1_counts = [df_practice[df_practice['Target'] == 1]['Margin'].value_counts().get(margin, 0) for margin in margin_values]\n",
    "\n",
    "# Vẽ biểu đồ cột\n",
    "plt.figure(figsize=(10, 6))\n",
    "bar_width = 0.35\n",
    "index = range(len(margin_values))\n",
    "plt.bar(index, target_0_counts, bar_width, label='Khối u lành tính')\n",
    "plt.bar([i + bar_width for i in index], target_1_counts, bar_width, label='Khối u ác tính')\n",
    "plt.xlabel('Loại Margin')\n",
    "plt.ylabel('Số lượng')\n",
    "plt.title('Ảnh hưởng của Margin đến Target')\n",
    "plt.xticks([i + bar_width/2 for i in index], margin_values, rotation=45)\n",
    "plt.legend()\n",
    "plt.tight_layout()\n",
    "plt.show()\n"
   ]
  },
  {
   "cell_type": "markdown",
   "metadata": {},
   "source": [
    "# Nhận xét: Đường biên của khối u ảnh hưởng nhiều đến việc U là lành hay dữ tính"
   ]
  },
  {
   "cell_type": "code",
   "execution_count": 15,
   "metadata": {},
   "outputs": [
    {
     "name": "stdout",
     "output_type": "stream",
     "text": [
      "       count unique  top freq\n",
      "Target                       \n",
      "0        461      4  Low  404\n",
      "1        423      4  Low  393\n"
     ]
    },
    {
     "data": {
      "image/png": "[encoded data removed]",
      "text/plain": [
       "<Figure size 1000x600 with 1 Axes>"
      ]
     },
     "metadata": {},
     "output_type": "display_data"
    }
   ],
   "source": [
    "#Density: Thuộc tính cho biết mật độ của khối u, bao gồm 4 giá trị: High, Iso, Low, Fat-containing\n",
    "density_target = df_practice.groupby('Target')['Density'].describe()\n",
    "\n",
    "print(density_target)\n",
    "\n",
    "\n",
    "# Tạo dữ liệu\n",
    "density_values = ['High', 'Iso', 'Low', 'Fat-containing']  # Các giá trị của Density\n",
    "target_labels = ['Khối u lành tính', 'Khối u ác tính']  # Nhãn của các nhóm Target\n",
    "density_counts = [[15, 20, 10, 5], [10, 15, 5, 3]]  # Số lượng của mỗi giá trị Density cho mỗi nhóm Target\n",
    "\n",
    "# Vẽ biểu đồ\n",
    "fig, ax = plt.subplots(figsize=(10, 6))\n",
    "\n",
    "# Vẽ cột cho mỗi giá trị Density trong từng nhóm Target\n",
    "bar_width = 0.35\n",
    "opacity = 0.8\n",
    "index = range(len(density_values))\n",
    "\n",
    "for i, target_count in enumerate(density_counts):\n",
    "    plt.bar([x + i * bar_width for x in index], target_count, bar_width, alpha=opacity, label=target_labels[i])\n",
    "\n",
    "plt.xlabel('Density')\n",
    "plt.ylabel('Số lượng')\n",
    "plt.title('Ảnh hưởng của Density đến Target')\n",
    "plt.xticks([x + bar_width for x in index], density_values)\n",
    "plt.legend()\n",
    "plt.tight_layout()\n",
    "plt.show()\n",
    "\n"
   ]
  },
  {
   "cell_type": "markdown",
   "metadata": {},
   "source": [
    "# Nhận xét: Mật độ (Density): Mức độ ảnh hưởng của mật độ đến Target không thể xác định rõ ràng, vì cả hai nhóm Target đều có phân phối tương tự đối với thuộc tính này."
   ]
  },
  {
   "cell_type": "markdown",
   "metadata": {},
   "source": [
    "# Nhận xét:\n",
    "- Tuổi tác là thuộc tính có ảnh hưởng lớn nhất đến việc xác định khối u lành tính or u ác tính\n",
    "- Điều này có thể được sử dụng để đưa ra dự đoán về tính chất của khối u dựa trên tuổi của bệnh nhân.\n",
    "- Mật độ ( Density) là thuộc tính không thể dùng để xác định khối u \n"
   ]
  },
  {
   "cell_type": "markdown",
   "metadata": {},
   "source": [
    "**Yêu cầu 4:** \n",
    "- Đề xuất và Áp dụng các kỹ chuẩn hóa, tiền xử lý dữ liệu phù hợp cho tập dữ liệu này để có thể đưa vào các mô hình học máy\n",
    "- Lưu kết quả dữ liệu sau xử lý ra file Data_Practice_ML_OK.csv"
   ]
  },
  {
   "cell_type": "code",
   "execution_count": 17,
   "metadata": {},
   "outputs": [],
   "source": [
    "#{HỌC VIÊN VIẾT CODE VÀO ĐÂY!}\n",
    "\n",
    "\n",
    "#Lưu file kết quả chuẩn bị dữ liệu:\n",
    "\n",
    "#Excel\n",
    "df_practice.to_excel('Data_Practice_OK.xlsx',index=None)\n",
    "\n",
    "\n",
    "\n"
   ]
  },
  {
   "cell_type": "code",
   "execution_count": null,
   "metadata": {},
   "outputs": [],
   "source": []
  },
  {
   "cell_type": "code",
   "execution_count": null,
   "metadata": {},
   "outputs": [],
   "source": []
  }
 ],
 "metadata": {
  "colab": {
   "collapsed_sections": [
    "tv__XfRLHtBf",
    "Wx9ciaKgyTW5",
    "M7iLGnc4WMs3",
    "Mw03rdzH9GnV",
    "Q3teCO6P_PFX",
    "xuLa3WmifOb0",
    "5dVTHDxJv5JW"
   ],
   "name": "Project2_TitanicDisaster",
   "provenance": [],
   "toc_visible": true
  },
  "kernelspec": {
   "display_name": "Python 3 (ipykernel)",
   "language": "python",
   "name": "python3"
  },
  "language_info": {
   "codemirror_mode": {
    "name": "ipython",
    "version": 3
   },
   "file_extension": ".py",
   "mimetype": "text/x-python",
   "name": "python",
   "nbconvert_exporter": "python",
   "pygments_lexer": "ipython3",
   "version": "3.9.13"
  }
 },
 "nbformat": 4,
 "nbformat_minor": 1
}
