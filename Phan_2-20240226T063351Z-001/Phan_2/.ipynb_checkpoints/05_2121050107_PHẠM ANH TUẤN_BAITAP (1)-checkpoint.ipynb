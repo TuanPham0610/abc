{
 "cells": [
  {
   "cell_type": "markdown",
   "metadata": {},
   "source": [
    "<center>\n",
    "    \n",
    "<h2>BÀI TẬP MÔN HỌC </h2>\n",
    "    \n",
    "</center>\n",
    " \n",
    "---\n",
    "**Thông tin sinh viên:**\n",
    "1. Họ tên SV: Phạm Anh Tuấn\n",
    "2. Mã Sinh viên: 2121050107\n",
    "3. Lớp: DCCTKH66\n",
    "4. Nhóm môn học: 05\n",
    "\n",
    "\n",
    "\n",
    "---\n",
    "\n",
    "**Mô tả tập dữ liệu:**\n",
    "\n",
    "Tập dữ liệu Data_Practice_ML.xlsx chứa dữ liệu của các bệnh nhân bị u vú. (chi tiết trong slide bài giảng)\n",
    "\n",
    "Mỗi bản ghi tương ứng với một bệnh nhân, Bao gồm 8 thuộc tính:\n",
    "1. PatienID: Thuộc tính cho biết mã số của bệnh nhân\n",
    "2. Sex: Thuộc tính cho biết giới tính bệnh nhân\n",
    "3. Age: Thuộc tính cho biết tuổi của bệnh nhân, dữ liệu số\n",
    "4. Weight: Thuộc tính cho biết cân nặng của bệnh nhân (Kg)\n",
    "5. Shape: Thuộc tính cho biết hình dạng của khối u, bao gồm 4 giá trị: Round, Oval, Lobular, Irregular\n",
    "6. Margin: Thuộc tính cho biết dạng đường biên của khối u, bao gồm 5 giá trị: Circumscribed, Microlobulated, Obscured, ill-defined, Spiculated\n",
    "7. Density: Thuộc tính cho biết mật độ của khối u, bao gồm 4 giá trị: High, Iso, Low, Fat-containing\n",
    "8. Target: Thuộc tính cho biết khối u là lành tính (0) - hay ác tính (1)\n",
    " "
   ]
  },
  {
   "cell_type": "markdown",
   "metadata": {},
   "source": [
    "## PHẦN I: CHUẨN BỊ DỮ LIỆU\n",
    "---"
   ]
  },
  {
   "cell_type": "markdown",
   "metadata": {},
   "source": [
    "**Yêu cầu 1:**\n",
    "Đọc tập dữ liệu Data_Practice_ML.xlsx vào biến DataFrame,\n",
    "- Hiển thị thông tin của biến,\n",
    "- Hiển thị dữ liệu 5 bản ghi đầu tiên; 5 bản ghi cuối cùng, 5 bản ghi ngẫu nhiên\n",
    "- Thống kê dữ liệu các thuộc tính số, các thuộc tính Object; đưa ra các nhận xét về dữ liệu; Có thể sử dụng các biểu đồ để thể hiện trực quan"
   ]
  },
  {
   "cell_type": "code",
   "execution_count": 1,
   "metadata": {},
   "outputs": [
    {
     "name": "stdout",
     "output_type": "stream",
     "text": [
      "Hiển thị thông tin biến\n",
      "<class 'pandas.core.frame.DataFrame'>\n",
      "RangeIndex: 961 entries, 0 to 960\n",
      "Data columns (total 8 columns):\n",
      " #   Column     Non-Null Count  Dtype  \n",
      "---  ------     --------------  -----  \n",
      " 0   PatientID  961 non-null    object \n",
      " 1   Sex        961 non-null    object \n",
      " 2   Age        956 non-null    float64\n",
      " 3   Weight     961 non-null    int64  \n",
      " 4   Shape      930 non-null    object \n",
      " 5   Margin     913 non-null    object \n",
      " 6   Density    885 non-null    object \n",
      " 7   Target     961 non-null    int64  \n",
      "dtypes: float64(1), int64(2), object(5)\n",
      "memory usage: 60.2+ KB\n"
     ]
    }
   ],
   "source": [
    "import pandas as pd\n",
    "\n",
    "df_practice = pd.read_excel(\"Data\\Data_Practice_ML.xlsx\")\n",
    "\n",
    "print(\"Hiển thị thông tin biến\")\n",
    "df_practice.info()"
   ]
  },
  {
   "cell_type": "code",
   "execution_count": 2,
   "metadata": {},
   "outputs": [
    {
     "name": "stdout",
     "output_type": "stream",
     "text": [
      "Hiển thị 5 bản ghi đầu tiên\n"
     ]
    },
    {
     "data": {
      "text/html": [
       "<div>\n",
       "<style scoped>\n",
       "    .dataframe tbody tr th:only-of-type {\n",
       "        vertical-align: middle;\n",
       "    }\n",
       "\n",
       "    .dataframe tbody tr th {\n",
       "        vertical-align: top;\n",
       "    }\n",
       "\n",
       "    .dataframe thead th {\n",
       "        text-align: right;\n",
       "    }\n",
       "</style>\n",
       "<table border=\"1\" class=\"dataframe\">\n",
       "  <thead>\n",
       "    <tr style=\"text-align: right;\">\n",
       "      <th></th>\n",
       "      <th>PatientID</th>\n",
       "      <th>Sex</th>\n",
       "      <th>Age</th>\n",
       "      <th>Weight</th>\n",
       "      <th>Shape</th>\n",
       "      <th>Margin</th>\n",
       "      <th>Density</th>\n",
       "      <th>Target</th>\n",
       "    </tr>\n",
       "  </thead>\n",
       "  <tbody>\n",
       "    <tr>\n",
       "      <th>0</th>\n",
       "      <td>P1</td>\n",
       "      <td>Female</td>\n",
       "      <td>67.0</td>\n",
       "      <td>46</td>\n",
       "      <td>Lobular</td>\n",
       "      <td>Spiculated</td>\n",
       "      <td>Low</td>\n",
       "      <td>1</td>\n",
       "    </tr>\n",
       "    <tr>\n",
       "      <th>1</th>\n",
       "      <td>P2</td>\n",
       "      <td>Female</td>\n",
       "      <td>43.0</td>\n",
       "      <td>66</td>\n",
       "      <td>Round</td>\n",
       "      <td>Circumscribed</td>\n",
       "      <td>NaN</td>\n",
       "      <td>1</td>\n",
       "    </tr>\n",
       "    <tr>\n",
       "      <th>2</th>\n",
       "      <td>P3</td>\n",
       "      <td>Female</td>\n",
       "      <td>58.0</td>\n",
       "      <td>80</td>\n",
       "      <td>Irregular</td>\n",
       "      <td>Spiculated</td>\n",
       "      <td>Low</td>\n",
       "      <td>1</td>\n",
       "    </tr>\n",
       "    <tr>\n",
       "      <th>3</th>\n",
       "      <td>P4</td>\n",
       "      <td>Female</td>\n",
       "      <td>28.0</td>\n",
       "      <td>51</td>\n",
       "      <td>Round</td>\n",
       "      <td>Circumscribed</td>\n",
       "      <td>Low</td>\n",
       "      <td>0</td>\n",
       "    </tr>\n",
       "    <tr>\n",
       "      <th>4</th>\n",
       "      <td>P5</td>\n",
       "      <td>Female</td>\n",
       "      <td>74.0</td>\n",
       "      <td>46</td>\n",
       "      <td>Round</td>\n",
       "      <td>Spiculated</td>\n",
       "      <td>NaN</td>\n",
       "      <td>1</td>\n",
       "    </tr>\n",
       "  </tbody>\n",
       "</table>\n",
       "</div>"
      ],
      "text/plain": [
       "  PatientID     Sex   Age  Weight      Shape         Margin Density  Target\n",
       "0        P1  Female  67.0      46    Lobular     Spiculated     Low       1\n",
       "1        P2  Female  43.0      66      Round  Circumscribed     NaN       1\n",
       "2        P3  Female  58.0      80  Irregular     Spiculated     Low       1\n",
       "3        P4  Female  28.0      51      Round  Circumscribed     Low       0\n",
       "4        P5  Female  74.0      46      Round     Spiculated     NaN       1"
      ]
     },
     "execution_count": 2,
     "metadata": {},
     "output_type": "execute_result"
    }
   ],
   "source": [
    "print(\"Hiển thị 5 bản ghi đầu tiên\")\n",
    "\n",
    "df_practice.head(5)"
   ]
  },
  {
   "cell_type": "code",
   "execution_count": 3,
   "metadata": {},
   "outputs": [
    {
     "name": "stdout",
     "output_type": "stream",
     "text": [
      "HIển thị 5 bản ghi cuối\n"
     ]
    },
    {
     "data": {
      "text/html": [
       "<div>\n",
       "<style scoped>\n",
       "    .dataframe tbody tr th:only-of-type {\n",
       "        vertical-align: middle;\n",
       "    }\n",
       "\n",
       "    .dataframe tbody tr th {\n",
       "        vertical-align: top;\n",
       "    }\n",
       "\n",
       "    .dataframe thead th {\n",
       "        text-align: right;\n",
       "    }\n",
       "</style>\n",
       "<table border=\"1\" class=\"dataframe\">\n",
       "  <thead>\n",
       "    <tr style=\"text-align: right;\">\n",
       "      <th></th>\n",
       "      <th>PatientID</th>\n",
       "      <th>Sex</th>\n",
       "      <th>Age</th>\n",
       "      <th>Weight</th>\n",
       "      <th>Shape</th>\n",
       "      <th>Margin</th>\n",
       "      <th>Density</th>\n",
       "      <th>Target</th>\n",
       "    </tr>\n",
       "  </thead>\n",
       "  <tbody>\n",
       "    <tr>\n",
       "      <th>956</th>\n",
       "      <td>P957</td>\n",
       "      <td>Female</td>\n",
       "      <td>47.0</td>\n",
       "      <td>72</td>\n",
       "      <td>Oval</td>\n",
       "      <td>Circumscribed</td>\n",
       "      <td>Low</td>\n",
       "      <td>0</td>\n",
       "    </tr>\n",
       "    <tr>\n",
       "      <th>957</th>\n",
       "      <td>P958</td>\n",
       "      <td>Female</td>\n",
       "      <td>56.0</td>\n",
       "      <td>64</td>\n",
       "      <td>Irregular</td>\n",
       "      <td>Spiculated</td>\n",
       "      <td>Low</td>\n",
       "      <td>1</td>\n",
       "    </tr>\n",
       "    <tr>\n",
       "      <th>958</th>\n",
       "      <td>P959</td>\n",
       "      <td>Female</td>\n",
       "      <td>64.0</td>\n",
       "      <td>75</td>\n",
       "      <td>Irregular</td>\n",
       "      <td>Spiculated</td>\n",
       "      <td>Low</td>\n",
       "      <td>0</td>\n",
       "    </tr>\n",
       "    <tr>\n",
       "      <th>959</th>\n",
       "      <td>P960</td>\n",
       "      <td>Female</td>\n",
       "      <td>66.0</td>\n",
       "      <td>56</td>\n",
       "      <td>Irregular</td>\n",
       "      <td>Spiculated</td>\n",
       "      <td>Low</td>\n",
       "      <td>1</td>\n",
       "    </tr>\n",
       "    <tr>\n",
       "      <th>960</th>\n",
       "      <td>P961</td>\n",
       "      <td>Female</td>\n",
       "      <td>62.0</td>\n",
       "      <td>51</td>\n",
       "      <td>Lobular</td>\n",
       "      <td>Obscured</td>\n",
       "      <td>Low</td>\n",
       "      <td>0</td>\n",
       "    </tr>\n",
       "  </tbody>\n",
       "</table>\n",
       "</div>"
      ],
      "text/plain": [
       "    PatientID     Sex   Age  Weight      Shape         Margin Density  Target\n",
       "956      P957  Female  47.0      72       Oval  Circumscribed     Low       0\n",
       "957      P958  Female  56.0      64  Irregular     Spiculated     Low       1\n",
       "958      P959  Female  64.0      75  Irregular     Spiculated     Low       0\n",
       "959      P960  Female  66.0      56  Irregular     Spiculated     Low       1\n",
       "960      P961  Female  62.0      51    Lobular       Obscured     Low       0"
      ]
     },
     "execution_count": 3,
     "metadata": {},
     "output_type": "execute_result"
    }
   ],
   "source": [
    "print(\"HIển thị 5 bản ghi cuối\")\n",
    "\n",
    "df_practice.tail(5)"
   ]
  },
  {
   "cell_type": "code",
   "execution_count": 4,
   "metadata": {},
   "outputs": [
    {
     "name": "stdout",
     "output_type": "stream",
     "text": [
      "Hiển thị 5 bản ghi ngẫu nhiên\n"
     ]
    },
    {
     "data": {
      "text/html": [
       "<div>\n",
       "<style scoped>\n",
       "    .dataframe tbody tr th:only-of-type {\n",
       "        vertical-align: middle;\n",
       "    }\n",
       "\n",
       "    .dataframe tbody tr th {\n",
       "        vertical-align: top;\n",
       "    }\n",
       "\n",
       "    .dataframe thead th {\n",
       "        text-align: right;\n",
       "    }\n",
       "</style>\n",
       "<table border=\"1\" class=\"dataframe\">\n",
       "  <thead>\n",
       "    <tr style=\"text-align: right;\">\n",
       "      <th></th>\n",
       "      <th>PatientID</th>\n",
       "      <th>Sex</th>\n",
       "      <th>Age</th>\n",
       "      <th>Weight</th>\n",
       "      <th>Shape</th>\n",
       "      <th>Margin</th>\n",
       "      <th>Density</th>\n",
       "      <th>Target</th>\n",
       "    </tr>\n",
       "  </thead>\n",
       "  <tbody>\n",
       "    <tr>\n",
       "      <th>249</th>\n",
       "      <td>P250</td>\n",
       "      <td>Female</td>\n",
       "      <td>42.0</td>\n",
       "      <td>52</td>\n",
       "      <td>Round</td>\n",
       "      <td>Circumscribed</td>\n",
       "      <td>Low</td>\n",
       "      <td>0</td>\n",
       "    </tr>\n",
       "    <tr>\n",
       "      <th>2</th>\n",
       "      <td>P3</td>\n",
       "      <td>Female</td>\n",
       "      <td>58.0</td>\n",
       "      <td>80</td>\n",
       "      <td>Irregular</td>\n",
       "      <td>Spiculated</td>\n",
       "      <td>Low</td>\n",
       "      <td>1</td>\n",
       "    </tr>\n",
       "    <tr>\n",
       "      <th>847</th>\n",
       "      <td>P848</td>\n",
       "      <td>Female</td>\n",
       "      <td>19.0</td>\n",
       "      <td>66</td>\n",
       "      <td>Lobular</td>\n",
       "      <td>Circumscribed</td>\n",
       "      <td>Low</td>\n",
       "      <td>0</td>\n",
       "    </tr>\n",
       "    <tr>\n",
       "      <th>451</th>\n",
       "      <td>P452</td>\n",
       "      <td>Female</td>\n",
       "      <td>35.0</td>\n",
       "      <td>73</td>\n",
       "      <td>Oval</td>\n",
       "      <td>Circumscribed</td>\n",
       "      <td>Low</td>\n",
       "      <td>0</td>\n",
       "    </tr>\n",
       "    <tr>\n",
       "      <th>691</th>\n",
       "      <td>P692</td>\n",
       "      <td>Female</td>\n",
       "      <td>72.0</td>\n",
       "      <td>54</td>\n",
       "      <td>Lobular</td>\n",
       "      <td>NaN</td>\n",
       "      <td>Low</td>\n",
       "      <td>0</td>\n",
       "    </tr>\n",
       "  </tbody>\n",
       "</table>\n",
       "</div>"
      ],
      "text/plain": [
       "    PatientID     Sex   Age  Weight      Shape         Margin Density  Target\n",
       "249      P250  Female  42.0      52      Round  Circumscribed     Low       0\n",
       "2          P3  Female  58.0      80  Irregular     Spiculated     Low       1\n",
       "847      P848  Female  19.0      66    Lobular  Circumscribed     Low       0\n",
       "451      P452  Female  35.0      73       Oval  Circumscribed     Low       0\n",
       "691      P692  Female  72.0      54    Lobular            NaN     Low       0"
      ]
     },
     "execution_count": 4,
     "metadata": {},
     "output_type": "execute_result"
    }
   ],
   "source": [
    "print(\"Hiển thị 5 bản ghi ngẫu nhiên\")\n",
    "\n",
    "df_practice.sample(5)"
   ]
  },
  {
   "cell_type": "code",
   "execution_count": 5,
   "metadata": {},
   "outputs": [
    {
     "name": "stdout",
     "output_type": "stream",
     "text": [
      "Thống kê dữ liệu các thuộc tính số\n"
     ]
    },
    {
     "data": {
      "text/html": [
       "<div>\n",
       "<style scoped>\n",
       "    .dataframe tbody tr th:only-of-type {\n",
       "        vertical-align: middle;\n",
       "    }\n",
       "\n",
       "    .dataframe tbody tr th {\n",
       "        vertical-align: top;\n",
       "    }\n",
       "\n",
       "    .dataframe thead th {\n",
       "        text-align: right;\n",
       "    }\n",
       "</style>\n",
       "<table border=\"1\" class=\"dataframe\">\n",
       "  <thead>\n",
       "    <tr style=\"text-align: right;\">\n",
       "      <th></th>\n",
       "      <th>Age</th>\n",
       "      <th>Weight</th>\n",
       "      <th>Target</th>\n",
       "    </tr>\n",
       "  </thead>\n",
       "  <tbody>\n",
       "    <tr>\n",
       "      <th>count</th>\n",
       "      <td>956.000000</td>\n",
       "      <td>961.000000</td>\n",
       "      <td>961.000000</td>\n",
       "    </tr>\n",
       "    <tr>\n",
       "      <th>mean</th>\n",
       "      <td>56.306485</td>\n",
       "      <td>62.609781</td>\n",
       "      <td>0.463059</td>\n",
       "    </tr>\n",
       "    <tr>\n",
       "      <th>std</th>\n",
       "      <td>30.044212</td>\n",
       "      <td>10.440240</td>\n",
       "      <td>0.498893</td>\n",
       "    </tr>\n",
       "    <tr>\n",
       "      <th>min</th>\n",
       "      <td>18.000000</td>\n",
       "      <td>45.000000</td>\n",
       "      <td>0.000000</td>\n",
       "    </tr>\n",
       "    <tr>\n",
       "      <th>25%</th>\n",
       "      <td>45.000000</td>\n",
       "      <td>53.000000</td>\n",
       "      <td>0.000000</td>\n",
       "    </tr>\n",
       "    <tr>\n",
       "      <th>50%</th>\n",
       "      <td>57.000000</td>\n",
       "      <td>62.000000</td>\n",
       "      <td>0.000000</td>\n",
       "    </tr>\n",
       "    <tr>\n",
       "      <th>75%</th>\n",
       "      <td>66.000000</td>\n",
       "      <td>71.000000</td>\n",
       "      <td>1.000000</td>\n",
       "    </tr>\n",
       "    <tr>\n",
       "      <th>max</th>\n",
       "      <td>870.000000</td>\n",
       "      <td>80.000000</td>\n",
       "      <td>1.000000</td>\n",
       "    </tr>\n",
       "  </tbody>\n",
       "</table>\n",
       "</div>"
      ],
      "text/plain": [
       "              Age      Weight      Target\n",
       "count  956.000000  961.000000  961.000000\n",
       "mean    56.306485   62.609781    0.463059\n",
       "std     30.044212   10.440240    0.498893\n",
       "min     18.000000   45.000000    0.000000\n",
       "25%     45.000000   53.000000    0.000000\n",
       "50%     57.000000   62.000000    0.000000\n",
       "75%     66.000000   71.000000    1.000000\n",
       "max    870.000000   80.000000    1.000000"
      ]
     },
     "execution_count": 5,
     "metadata": {},
     "output_type": "execute_result"
    }
   ],
   "source": [
    "print(\"Thống kê dữ liệu các thuộc tính số\")\n",
    "\n",
    "df_practice.describe()"
   ]
  },
  {
   "cell_type": "code",
   "execution_count": 6,
   "metadata": {},
   "outputs": [
    {
     "name": "stdout",
     "output_type": "stream",
     "text": [
      "Thống kê các thuộc tính Object\n"
     ]
    },
    {
     "data": {
      "text/html": [
       "<div>\n",
       "<style scoped>\n",
       "    .dataframe tbody tr th:only-of-type {\n",
       "        vertical-align: middle;\n",
       "    }\n",
       "\n",
       "    .dataframe tbody tr th {\n",
       "        vertical-align: top;\n",
       "    }\n",
       "\n",
       "    .dataframe thead th {\n",
       "        text-align: right;\n",
       "    }\n",
       "</style>\n",
       "<table border=\"1\" class=\"dataframe\">\n",
       "  <thead>\n",
       "    <tr style=\"text-align: right;\">\n",
       "      <th></th>\n",
       "      <th>PatientID</th>\n",
       "      <th>Sex</th>\n",
       "      <th>Shape</th>\n",
       "      <th>Margin</th>\n",
       "      <th>Density</th>\n",
       "    </tr>\n",
       "  </thead>\n",
       "  <tbody>\n",
       "    <tr>\n",
       "      <th>count</th>\n",
       "      <td>961</td>\n",
       "      <td>961</td>\n",
       "      <td>930</td>\n",
       "      <td>913</td>\n",
       "      <td>885</td>\n",
       "    </tr>\n",
       "    <tr>\n",
       "      <th>unique</th>\n",
       "      <td>961</td>\n",
       "      <td>2</td>\n",
       "      <td>5</td>\n",
       "      <td>6</td>\n",
       "      <td>5</td>\n",
       "    </tr>\n",
       "    <tr>\n",
       "      <th>top</th>\n",
       "      <td>P1</td>\n",
       "      <td>Female</td>\n",
       "      <td>Irregular</td>\n",
       "      <td>Circumscribed</td>\n",
       "      <td>Low</td>\n",
       "    </tr>\n",
       "    <tr>\n",
       "      <th>freq</th>\n",
       "      <td>1</td>\n",
       "      <td>960</td>\n",
       "      <td>399</td>\n",
       "      <td>357</td>\n",
       "      <td>797</td>\n",
       "    </tr>\n",
       "  </tbody>\n",
       "</table>\n",
       "</div>"
      ],
      "text/plain": [
       "       PatientID     Sex      Shape         Margin Density\n",
       "count        961     961        930            913     885\n",
       "unique       961       2          5              6       5\n",
       "top           P1  Female  Irregular  Circumscribed     Low\n",
       "freq           1     960        399            357     797"
      ]
     },
     "execution_count": 6,
     "metadata": {},
     "output_type": "execute_result"
    }
   ],
   "source": [
    "print(\"Thống kê các thuộc tính Object\") #Số lượng các đối tượng\n",
    "df_practice.describe(include=\"O\")"
   ]
  },
  {
   "cell_type": "code",
   "execution_count": 7,
   "metadata": {},
   "outputs": [
    {
     "name": "stdout",
     "output_type": "stream",
     "text": [
      "Nhận xét về dữ liệu\n",
      "Những nhóm người có thể mắc bệnh u vú\n",
      "__________\n",
      "Giới tính\n",
      "Female    960\n",
      "FEMALE      1\n",
      "Name: Sex, dtype: int64\n",
      "Nhận xét: Giới tính có nguy cơ mắc u vú cao nhất là  Female\n",
      "__________\n",
      "Độ tuổi\n",
      "59.0     36\n",
      "67.0     32\n",
      "57.0     32\n",
      "66.0     31\n",
      "46.0     28\n",
      "         ..\n",
      "870.0     1\n",
      "82.0      1\n",
      "18.0      1\n",
      "88.0      1\n",
      "20.0      1\n",
      "Name: Age, Length: 74, dtype: int64\n",
      "Nhận xét: Độ tuổi có nguy cơ mắc u vú cao nhất là  59.0 tuổi\n",
      "__________\n",
      "Cân nặng\n",
      "49    40\n",
      "80    38\n",
      "69    36\n",
      "61    36\n",
      "57    35\n",
      "51    34\n",
      "70    33\n",
      "53    32\n",
      "50    31\n",
      "65    31\n",
      "68    30\n",
      "46    30\n",
      "78    28\n",
      "58    28\n",
      "77    28\n",
      "75    26\n",
      "73    26\n",
      "63    26\n",
      "79    26\n",
      "48    26\n",
      "56    25\n",
      "74    25\n",
      "59    25\n",
      "62    25\n",
      "54    25\n",
      "72    22\n",
      "66    22\n",
      "60    21\n",
      "67    21\n",
      "76    21\n",
      "64    20\n",
      "52    19\n",
      "47    18\n",
      "71    18\n",
      "55    17\n",
      "45    17\n",
      "Name: Weight, dtype: int64\n",
      "Nhận xét: Cân nặng có nguy cơ mắc u vú cao nhất là  49 kg\n"
     ]
    }
   ],
   "source": [
    "print(\"Nhận xét về dữ liệu\")\n",
    "print(\"Những nhóm người có thể mắc bệnh u vú\")\n",
    "print(\"__________\")\n",
    "\n",
    "print(\"Giới tính\")\n",
    "print(df_practice[\"Sex\"].value_counts())\n",
    "print(\"Nhận xét: Giới tính có nguy cơ mắc u vú cao nhất là \", df_practice[\"Sex\"].value_counts().idxmax())\n",
    "\n",
    "print(\"__________\")\n",
    "print(\"Độ tuổi\")\n",
    "print(df_practice[\"Age\"].value_counts())\n",
    "print(\"Nhận xét: Độ tuổi có nguy cơ mắc u vú cao nhất là \",df_practice[\"Age\"].value_counts().idxmax(), \"tuổi\")\n",
    "\n",
    "error_age = 870\n",
    "df_practice[\"Age\"] = df_practice[\"Age\"].replace(error_age,float('nan'))\n",
    "# Trong Age có giá trị tuổi = 870, thay thế bằng NaN\n",
    "\n",
    "print(\"__________\")\n",
    "print(\"Cân nặng\")\n",
    "print(df_practice[\"Weight\"].value_counts())\n",
    "print(\"Nhận xét: Cân nặng có nguy cơ mắc u vú cao nhất là \",df_practice[\"Weight\"].value_counts().idxmax(), \"kg\")\n",
    "\n",
    "\n"
   ]
  },
  {
   "cell_type": "code",
   "execution_count": 8,
   "metadata": {},
   "outputs": [
    {
     "name": "stdout",
     "output_type": "stream",
     "text": [
      "59.0    36\n",
      "67.0    32\n",
      "57.0    32\n",
      "66.0    31\n",
      "46.0    28\n",
      "        ..\n",
      "18.0     1\n",
      "82.0     1\n",
      "93.0     1\n",
      "96.0     1\n",
      "20.0     1\n",
      "Name: Age, Length: 73, dtype: int64\n"
     ]
    },
    {
     "data": {
      "image/png": "[encoded data removed]",
      "text/plain": [
       "<Figure size 640x480 with 1 Axes>"
      ]
     },
     "metadata": {},
     "output_type": "display_data"
    }
   ],
   "source": [
    "#Biểu đồ trực quan hóa độ tuổi dễ mắc bệnh\n",
    "import matplotlib.pyplot as plt\n",
    "\n",
    "age = df_practice['Age'].value_counts()\n",
    "print(age)\n",
    "\n",
    "\n",
    "plt.bar(age.index, age.values)\n",
    "\n",
    "plt.title(\"Độ tuổi dễ mắc bệnh u vú\")\n",
    "plt.xlabel(\"Độ tuổi\")\n",
    "plt.ylabel(\"Số bệnh nhân mắc bệnh\")\n",
    "\n",
    "plt.show()\n"
   ]
  },
  {
   "cell_type": "code",
   "execution_count": 9,
   "metadata": {},
   "outputs": [
    {
     "data": {
      "image/png": "[encoded data removed]",
      "text/plain": [
       "<Figure size 640x480 with 1 Axes>"
      ]
     },
     "metadata": {},
     "output_type": "display_data"
    }
   ],
   "source": [
    "weight = df_practice[\"Weight\"].value_counts()\n",
    "\n",
    "plt.bar(weight.index, weight.values)\n",
    "\n",
    "plt.xlabel(\"Cân nặng (kg)\")\n",
    "plt.ylabel(\"Số bệnh nhân mắc bệnh\")\n",
    "plt.title(\"Cân nặng có nguy cơ mắc bệnh\")\n",
    "\n",
    "plt.show()"
   ]
  },
  {
   "cell_type": "markdown",
   "metadata": {},
   "source": [
    "**Yêu cầu 2:**\n",
    "\n",
    "- Kiểm tra các bản ghi trùng lặp, các thông số bất thường trong tập dữ liệu nếu có\n",
    "- Thống kê dữ liệu thiếu (missing) cho từng thuộc tính, và liệt kê ra các bản ghi bị missing tương ứng với thuộc tính đó."
   ]
  },
  {
   "cell_type": "code",
   "execution_count": 10,
   "metadata": {},
   "outputs": [
    {
     "name": "stdout",
     "output_type": "stream",
     "text": [
      "Empty DataFrame\n",
      "Columns: [PatientID, Sex, Age, Weight, Shape, Margin, Density, Target]\n",
      "Index: []\n",
      "_________________\n",
      "Số lượng giá trị thiếu cho từng thuộc tính: \n",
      "PatientID     0\n",
      "Sex           0\n",
      "Age           6\n",
      "Weight        0\n",
      "Shape        31\n",
      "Margin       48\n",
      "Density      76\n",
      "Target        0\n",
      "dtype: int64\n",
      "__________\n",
      "Các bản ghi bị thiếu cho thuộc tính 'Age':\n",
      "    PatientID     Sex  Age  Weight      Shape       Margin Density  Target\n",
      "165      P166  Female  NaN      73  Irregular   Spiculated     Low       1\n",
      "443      P444  Female  NaN      48  Irregular   Spiculated     Low       1\n",
      "453      P454  Female  NaN      64  Irregular  ill-defined     Low       1\n",
      "683      P684  Female  NaN      53    Lobular     Obscured     Low       1\n",
      "884      P885  Female  NaN      75  Irregular  ill-defined     Low       1\n",
      "923      P924  Female  NaN      51  Irregular     Obscured     Low       1\n",
      "Các bản ghi bị thiếu cho thuộc tính 'Shape':\n",
      "    PatientID     Sex   Age  Weight Shape         Margin         Density  \\\n",
      "6          P7  Female  70.0      62   NaN            NaN             Low   \n",
      "9         P10  Female  60.0      77   NaN     Spiculated            High   \n",
      "20        P21  Female  66.0      68   NaN            NaN            High   \n",
      "48        P49  Female  42.0      60   NaN            NaN  Fat-containing   \n",
      "54        P55  Female  53.0      72   NaN     Spiculated             Low   \n",
      "74        P75  Female  70.0      74   NaN    ill-defined             NaN   \n",
      "83        P84  Female  57.0      69   NaN    ill-defined            High   \n",
      "128      P129  Female  52.0      56   NaN    ill-defined             NaN   \n",
      "157      P158  Female  51.0      57   NaN            NaN             Low   \n",
      "163      P164  Female  53.0      46   NaN    ill-defined             Low   \n",
      "236      P237  Female  60.0      63   NaN       Obscured            High   \n",
      "255      P256  Female  76.0      61   NaN       Obscured             Iso   \n",
      "387      P388  Female  64.0      63   NaN            NaN             Low   \n",
      "388      P389  Female  49.0      70   NaN       Obscured             Low   \n",
      "389      P390  Female  44.0      79   NaN    ill-defined             Low   \n",
      "394      P395  Female  34.0      53   NaN            NaN  Fat-containing   \n",
      "476      P477  Female  41.0      48   NaN            NaN             Low   \n",
      "496      P497  Female  82.0      80   NaN     Spiculated             Low   \n",
      "519      P520  Female  68.0      71   NaN            NaN             Low   \n",
      "531      P532  Female  55.0      58   NaN            NaN             Low   \n",
      "537      P538  Female  63.0      71   NaN    ill-defined             Low   \n",
      "554      P555  Female  70.0      63   NaN     Spiculated             Low   \n",
      "561      P562  Female  59.0      53   NaN    ill-defined             Low   \n",
      "581      P582  Female  65.0      54   NaN  Circumscribed             Iso   \n",
      "614      P615  Female  46.0      56   NaN     Spiculated             NaN   \n",
      "660      P661  Female  58.0      57   NaN    ill-defined             Low   \n",
      "661      P662  Female  51.0      60   NaN    ill-defined             Low   \n",
      "662      P663  Female  50.0      58   NaN            NaN             Low   \n",
      "752      P753  Female  48.0      52   NaN    ill-defined             NaN   \n",
      "778      P779  Female  60.0      80   NaN    ill-defined             Low   \n",
      "824      P825  Female  40.0      62   NaN       Obscured  Fat-containing   \n",
      "\n",
      "     Target  \n",
      "6         0  \n",
      "9         1  \n",
      "20        1  \n",
      "48        0  \n",
      "54        1  \n",
      "74        1  \n",
      "83        0  \n",
      "128       0  \n",
      "157       0  \n",
      "163       0  \n",
      "236       0  \n",
      "255       0  \n",
      "387       0  \n",
      "388       0  \n",
      "389       0  \n",
      "394       0  \n",
      "476       0  \n",
      "496       1  \n",
      "519       0  \n",
      "531       0  \n",
      "537       1  \n",
      "554       1  \n",
      "561       0  \n",
      "581       0  \n",
      "614       1  \n",
      "660       1  \n",
      "661       0  \n",
      "662       1  \n",
      "752       1  \n",
      "778       0  \n",
      "824       1  \n",
      "Các bản ghi bị thiếu cho thuộc tính 'Margin':\n",
      "    PatientID     Sex   Age  Weight      Shape Margin         Density  Target\n",
      "5          P6  Female  65.0      72      Round    NaN             Low       0\n",
      "6          P7  Female  70.0      62        NaN    NaN             Low       0\n",
      "7          P8  Female  42.0      51      Round    NaN             Low       0\n",
      "12        P13  Female  64.0      67      Round    NaN             Low       0\n",
      "19        P20  Female  40.0      67      Round    NaN             NaN       0\n",
      "20        P21  Female  66.0      68        NaN    NaN            High       1\n",
      "22        P23  Female  43.0      54      Round    NaN             NaN       0\n",
      "27        P28  Female  63.0      47    Lobular    NaN             Low       0\n",
      "35        P36  Female  77.0      49    Lobular    NaN             NaN       0\n",
      "48        P49  Female  42.0      60        NaN    NaN  Fat-containing       0\n",
      "59        P60  Female  59.0      57       Oval    NaN             NaN       1\n",
      "84        P85  Female  51.0      79  Irregular    NaN             NaN       1\n",
      "85        P86  Female  33.0      59      Round    NaN             NaN       0\n",
      "87        P88  Female  36.0      65      Round    NaN             NaN       0\n",
      "94        P95  Female  60.0      48      Round    NaN             Low       0\n",
      "100      P101  Female  59.0      53       Oval    NaN             NaN       0\n",
      "101      P102  Female  65.0      78       Oval    NaN             NaN       0\n",
      "103      P104  Female  29.0      68       Oval    NaN             NaN       0\n",
      "133      P134  Female  60.0      48       Oval    NaN             NaN       0\n",
      "147      P148  Female  63.0      49  Irregular    NaN             Low       1\n",
      "156      P157  Female  55.0      48       Oval    NaN             NaN       1\n",
      "157      P158  Female  51.0      57        NaN    NaN             Low       0\n",
      "159      P160  Female  58.0      68  Irregular    NaN             Low       1\n",
      "187      P188  Female  67.0      48      Round    NaN             Low       0\n",
      "227      P228  Female  55.0      59      Round    NaN            High       0\n",
      "278      P279  Female  79.0      63      Round    NaN             Low       1\n",
      "298      P299  Female  71.0      65      Round    NaN             Low       0\n",
      "305      P306  Female  54.0      78      Round    NaN             NaN       0\n",
      "315      P316  Female  71.0      70       Oval    NaN             Low       1\n",
      "359      P360  Female  46.0      65    Lobular    NaN             Low       0\n",
      "371      P372  Female  46.0      70      Round    NaN             NaN       0\n",
      "372      P373  Female  43.0      54      Round    NaN             NaN       0\n",
      "387      P388  Female  64.0      63        NaN    NaN             Low       0\n",
      "394      P395  Female  34.0      53        NaN    NaN  Fat-containing       0\n",
      "452      P453  Female  57.0      69    Lobular    NaN             Low       0\n",
      "459      P460  Female  40.0      60       Oval    NaN             Low       0\n",
      "476      P477  Female  41.0      48        NaN    NaN             Low       0\n",
      "519      P520  Female  68.0      71        NaN    NaN             Low       0\n",
      "520      P521  Female  62.0      60  Irregular    NaN             Low       1\n",
      "521      P522  Female  65.0      60      Round    NaN             Low       1\n",
      "531      P532  Female  55.0      58        NaN    NaN             Low       0\n",
      "541      P542  Female  49.0      47       Oval    NaN             Low       0\n",
      "574      P575  Female  60.0      73    Lobular    NaN             NaN       0\n",
      "662      P663  Female  50.0      58        NaN    NaN             Low       1\n",
      "691      P692  Female  72.0      54    Lobular    NaN             Low       0\n",
      "723      P724  Female  60.0      55    Lobular    NaN  Fat-containing       0\n",
      "745      P746  Female  76.0      51    Lobular    NaN             Low       0\n",
      "819      P820  Female  35.0      49    Lobular    NaN             Iso       0\n",
      "Các bản ghi bị thiếu cho thuộc tính 'Density':\n",
      "    PatientID     Sex   Age  Weight      Shape         Margin Density  Target\n",
      "1          P2  Female  43.0      66      Round  Circumscribed     NaN       1\n",
      "4          P5  Female  74.0      46      Round     Spiculated     NaN       1\n",
      "19        P20  Female  40.0      67      Round            NaN     NaN       0\n",
      "22        P23  Female  43.0      54      Round            NaN     NaN       0\n",
      "26        P27  Female  66.0      80      Round  Circumscribed     NaN       0\n",
      "..        ...     ...   ...     ...        ...            ...     ...     ...\n",
      "614      P615  Female  46.0      56        NaN     Spiculated     NaN       1\n",
      "627      P628  Female  57.0      49       Oval  Circumscribed     NaN       0\n",
      "665      P666  Female  27.0      54       Oval  Circumscribed     NaN       0\n",
      "677      P678  Female  57.0      58  Irregular    ill-defined     NaN       1\n",
      "752      P753  Female  48.0      52        NaN    ill-defined     NaN       1\n",
      "\n",
      "[76 rows x 8 columns]\n"
     ]
    }
   ],
   "source": [
    "#Hiển thị bản ghi trùng lặp\n",
    "print(df_practice[(df_practice.duplicated()==True)])\n",
    "print(\"_________________\")\n",
    "#Kiểm tra dữ liệu thiếu(missing)\n",
    "\n",
    "missing_counts = df_practice.isna().sum()\n",
    "print(\"Số lượng giá trị thiếu cho từng thuộc tính: \")\n",
    "print(missing_counts)\n",
    "print(\"__________\")\n",
    "\n",
    "# Liệt kê các bản ghi bị thiếu tương ứng với từng thuộc tính\n",
    "for column in df_practice.columns:\n",
    "    missing_records = df_practice[df_practice[column].isnull()]\n",
    "    if not missing_records.empty:\n",
    "        print(f\"Các bản ghi bị thiếu cho thuộc tính '{column}':\")\n",
    "        print(missing_records)\n",
    "\n",
    "\n"
   ]
  },
  {
   "cell_type": "code",
   "execution_count": 11,
   "metadata": {},
   "outputs": [
    {
     "name": "stdout",
     "output_type": "stream",
     "text": [
      "<class 'pandas.core.frame.DataFrame'>\n",
      "RangeIndex: 961 entries, 0 to 960\n",
      "Data columns (total 8 columns):\n",
      " #   Column     Non-Null Count  Dtype  \n",
      "---  ------     --------------  -----  \n",
      " 0   PatientID  961 non-null    object \n",
      " 1   Sex        961 non-null    object \n",
      " 2   Age        955 non-null    float64\n",
      " 3   Weight     961 non-null    int64  \n",
      " 4   Shape      961 non-null    object \n",
      " 5   Margin     913 non-null    object \n",
      " 6   Density    885 non-null    object \n",
      " 7   Target     961 non-null    int64  \n",
      "dtypes: float64(1), int64(2), object(5)\n",
      "memory usage: 60.2+ KB\n"
     ]
    }
   ],
   "source": [
    "#Thay thế missing trong Shape\n",
    "\n",
    "df_practice[\"Shape\"].fillna(\"Irregular\", inplace=True)\n",
    "df_practice.info()"
   ]
  },
  {
   "cell_type": "code",
   "execution_count": 12,
   "metadata": {},
   "outputs": [
    {
     "name": "stdout",
     "output_type": "stream",
     "text": [
      "<class 'pandas.core.frame.DataFrame'>\n",
      "RangeIndex: 961 entries, 0 to 960\n",
      "Data columns (total 8 columns):\n",
      " #   Column     Non-Null Count  Dtype  \n",
      "---  ------     --------------  -----  \n",
      " 0   PatientID  961 non-null    object \n",
      " 1   Sex        961 non-null    object \n",
      " 2   Age        955 non-null    float64\n",
      " 3   Weight     961 non-null    int64  \n",
      " 4   Shape      961 non-null    object \n",
      " 5   Margin     961 non-null    object \n",
      " 6   Density    885 non-null    object \n",
      " 7   Target     961 non-null    int64  \n",
      "dtypes: float64(1), int64(2), object(5)\n",
      "memory usage: 60.2+ KB\n"
     ]
    }
   ],
   "source": [
    "#Thay thế missing trong Margin\n",
    "df_practice['Margin'].value_counts()\n",
    "\n",
    "df_practice[\"Margin\"].fillna(\"Circumscribed\", inplace=True)\n",
    "df_practice.info()\n"
   ]
  },
  {
   "cell_type": "code",
   "execution_count": 13,
   "metadata": {},
   "outputs": [
    {
     "name": "stdout",
     "output_type": "stream",
     "text": [
      "Dữ liệu Missing ở Age sau khi xử lý còn lại là: \n"
     ]
    },
    {
     "data": {
      "text/plain": [
       "0"
      ]
     },
     "execution_count": 13,
     "metadata": {},
     "output_type": "execute_result"
    }
   ],
   "source": [
    "#Thay thế dữ liệu missing của Age = mean (Giá trị trung bình)\n",
    "mean_age = df_practice['Age'].mean()\n",
    "df_practice['Age'].fillna(mean_age, inplace=True)\n",
    "print('Dữ liệu Missing ở Age sau khi xử lý còn lại là: ')\n",
    "df_practice['Age'].isnull().sum()"
   ]
  },
  {
   "cell_type": "code",
   "execution_count": 14,
   "metadata": {},
   "outputs": [
    {
     "name": "stdout",
     "output_type": "stream",
     "text": [
      "<class 'pandas.core.frame.DataFrame'>\n",
      "RangeIndex: 961 entries, 0 to 960\n",
      "Data columns (total 8 columns):\n",
      " #   Column     Non-Null Count  Dtype  \n",
      "---  ------     --------------  -----  \n",
      " 0   PatientID  961 non-null    object \n",
      " 1   Sex        961 non-null    object \n",
      " 2   Age        961 non-null    float64\n",
      " 3   Weight     961 non-null    int64  \n",
      " 4   Shape      961 non-null    object \n",
      " 5   Margin     961 non-null    object \n",
      " 6   Density    961 non-null    object \n",
      " 7   Target     961 non-null    int64  \n",
      "dtypes: float64(1), int64(2), object(5)\n",
      "memory usage: 60.2+ KB\n"
     ]
    }
   ],
   "source": [
    "#Thay thế missing trong Density\n",
    "df_practice['Density'].value_counts()\n",
    "\n",
    "df_practice[\"Density\"].fillna(\"Low\", inplace=True)\n",
    "df_practice.info()\n"
   ]
  },
  {
   "cell_type": "markdown",
   "metadata": {},
   "source": [
    "**Yêu cầu 3:** \n",
    "\n",
    "- Phân tích, thống kê - xác định mức độ ảnh hưởng của các thuộc tính độc lập [Age, Shape, Margin, Density] tới thuộc tính phụ thuộc [Target]\n",
    "- Xác định thuộc tính quan trọng, không quan trọng ảnh hưởng việc u lành tính hay ác tính của bệnh nhân"
   ]
  },
  {
   "cell_type": "code",
   "execution_count": 15,
   "metadata": {},
   "outputs": [
    {
     "name": "stdout",
     "output_type": "stream",
     "text": [
      "0    516\n",
      "1    445\n",
      "Name: Target, dtype: int64\n"
     ]
    },
    {
     "data": {
      "image/png": "[encoded data removed]",
      "text/plain": [
       "<Figure size 640x480 with 1 Axes>"
      ]
     },
     "metadata": {},
     "output_type": "display_data"
    }
   ],
   "source": [
    "#Target thuộc tính cho biết khối u lành tính (0) hay u ác tính (1)\n",
    "\n",
    "#Age: Thuộc tính cho biết tuổi của bệnh nhân, dữ liệu số\n",
    "#Shape: Thuộc tính cho biết hình dạng của khối u, bao gồm 4 giá trị: Round, Oval, Lobular, Irregular\n",
    "#Margin: Thuộc tính cho biết dạng đường biên của khối u, bao gồm 5 giá trị: Circumscribed, Microlobulated, Obscured, ill-defined, Spiculated\n",
    "#Density: Thuộc tính cho biết mật độ của khối u, bao gồm 4 giá trị: High, Iso, Low, Fat-containing\n",
    "\n",
    "print(df_practice[\"Target\"].value_counts())\n",
    "\n",
    "target = df_practice[\"Target\"].value_counts()\n",
    "\n",
    "name = [\"Khối u lành tính\", \"Khối u ác tính\"]\n",
    "\n",
    "plt.bar(name, target.values)\n",
    "\n",
    "plt.xlabel(\"Tên khối u\")\n",
    "plt.ylabel(\"Số bệnh nhân mắc bệnh\")\n",
    "plt.title(\"Số lượng bệnh nhân mắc khối u\")\n",
    "plt.show()\n",
    "\n"
   ]
  },
  {
   "cell_type": "code",
   "execution_count": 16,
   "metadata": {},
   "outputs": [
    {
     "name": "stdout",
     "output_type": "stream",
     "text": [
      "        count       mean        std   min    25%   50%    75%   max\n",
      "Target                                                             \n",
      "0       516.0  49.713178  13.636441  18.0  40.75  50.0  59.25  86.0\n",
      "1       445.0  62.111745  12.261096  28.0  54.00  63.0  71.00  96.0\n"
     ]
    },
    {
     "data": {
      "image/png": "[encoded data removed]",
      "text/plain": [
       "<Figure size 800x600 with 1 Axes>"
      ]
     },
     "metadata": {},
     "output_type": "display_data"
    }
   ],
   "source": [
    "\n",
    "age_target_summary = df_practice.groupby('Target')['Age'].describe()\n",
    "print(age_target_summary)\n",
    "\n",
    "#Count: Số bệnh nhân mắc u \n",
    "#Độ tuổi trung bình\n",
    "#Đô lệch chuẩn\n",
    "#Độ tuổi nhỏ nhất mắc u\n",
    "#25%\n",
    "#50%\n",
    "#75%\n",
    "#Max: Độ tuổi lớn nhất mắc u\n",
    "\n",
    "targets = ['Khối u lành tính', 'Khối u ác tính']\n",
    "mean_age = [49.71, 62.20]  # Giá trị trung bình của Age cho mỗi nhóm Target\n",
    "\n",
    "plt.figure(figsize=(8, 6)) #dài / rộng của biểu đồ\n",
    "\n",
    "plt.bar(targets, mean_age, color=['blue', 'red'])\n",
    "plt.ylabel('Tuổi trung bình')\n",
    "plt.title('Mức độ ảnh hưởng của Tuổi đến Trạng thái khối u theo giá trị tuổi trung bình')\n",
    "\n",
    "plt.show()\n"
   ]
  },
  {
   "cell_type": "markdown",
   "metadata": {},
   "source": [
    "# Nhận xét ảnh hưởng của tuổi đến U: \n",
    "- Dựa vào bảng thống kê và biểu đồ trực quan hóa ta có thể thấy độ tuổi có ảnh hưởng lớn đến sự xuất hiện của U lành tính hay U ác tính.\n",
    "- Có ảnh hưởng đáng kể đến sự xuất hiện của u ác tính từ đó cho thấy những người cao tuổi có khả năng mắc bệnh ác tính nhiều hơn những người trẻ\n"
   ]
  },
  {
   "cell_type": "code",
   "execution_count": 17,
   "metadata": {},
   "outputs": [
    {
     "name": "stdout",
     "output_type": "stream",
     "text": [
      "       count unique        top freq\n",
      "Target                             \n",
      "0        516      5      Round  186\n",
      "1        445      4  Irregular  327\n"
     ]
    },
    {
     "data": {
      "image/png": "[encoded data removed]",
      "text/plain": [
       "<Figure size 1000x600 with 1 Axes>"
      ]
     },
     "metadata": {},
     "output_type": "display_data"
    }
   ],
   "source": [
    "#Shape: Thuộc tính cho biết hình dạng của khối u, bao gồm 4 giá trị: Round, Oval, Lobular, Irregular\n",
    "\n",
    "# Tạo Data chứa số lượng mẫu cho mỗi nhóm Target và Shape\n",
    "shape_target_summary = df_practice.groupby('Target')['Shape'].describe()\n",
    "\n",
    "print(shape_target_summary)\n",
    "\n",
    "#Xóa dữ liệu bị sai trong cột Shape\n",
    "df_practice = df_practice[df_practice['Shape'] != 'IRREGULAR']\n",
    "\n",
    "target_shape_counts = df_practice.groupby(['Target', 'Shape']).size().unstack(fill_value=0)\n",
    "\n",
    "#groupby() Lấy dữ liệu từ 2 thuộc tính\n",
    "#unstack chuyển dữ liệu từ chuỗi sang bảng \n",
    "#fill_value thay thế giá trị thiếu = 0\n",
    "\n",
    "\n",
    "target_shape_counts.plot(kind='bar', stacked=True, figsize=(10, 6))\n",
    "\n",
    "\n",
    "plt.title('Ảnh hưởng của Shape đối với Target')\n",
    "plt.xlabel('0 là U lành tính / 1 là U ác tính')\n",
    "plt.ylabel('Số lượng')\n",
    "\n",
    "\n",
    "plt.legend(title='Shape')\n",
    "\n",
    "# Hiển thị biểu đồ\n",
    "plt.show()\n",
    "\n",
    "\n"
   ]
  },
  {
   "cell_type": "markdown",
   "metadata": {},
   "source": [
    "# Nhận xét: Thuộc tính khối u không ảnh hưởng nhiều đến việc u là lành tính hay ác tính"
   ]
  },
  {
   "cell_type": "code",
   "execution_count": 18,
   "metadata": {},
   "outputs": [
    {
     "name": "stdout",
     "output_type": "stream",
     "text": [
      "       count unique            top freq\n",
      "Target                                 \n",
      "0        515      5  Circumscribed  353\n",
      "1        445      5    ill-defined  191\n"
     ]
    },
    {
     "data": {
      "image/png": "[encoded data removed]",
      "text/plain": [
       "<Figure size 1000x600 with 1 Axes>"
      ]
     },
     "metadata": {},
     "output_type": "display_data"
    }
   ],
   "source": [
    "margin_target = df_practice.groupby('Target')['Margin'].describe()\n",
    "\n",
    "print(margin_target)\n",
    "\n",
    "\n",
    "\n",
    "margin_values = ['Circumscribed', 'Microlobulated', 'Obscured', 'Ill-defined', 'Spiculated']\n",
    "target_0_counts = [df_practice[df_practice['Target'] == 0]['Margin'].value_counts().get(margin, 0) for margin in margin_values]\n",
    "target_1_counts = [df_practice[df_practice['Target'] == 1]['Margin'].value_counts().get(margin, 0) for margin in margin_values]\n",
    "\n",
    "# Vẽ biểu đồ cột\n",
    "plt.figure(figsize=(10, 6))\n",
    "bar_width = 0.35\n",
    "index = range(len(margin_values))\n",
    "plt.bar(index, target_0_counts, bar_width, label='Khối u lành tính')\n",
    "plt.bar([i + bar_width for i in index], target_1_counts, bar_width, label='Khối u ác tính')\n",
    "plt.xlabel('Loại Margin')\n",
    "plt.ylabel('Số lượng')\n",
    "plt.title('Ảnh hưởng của Margin đến Target')\n",
    "plt.xticks([i + bar_width/2 for i in index], margin_values, rotation=45)\n",
    "plt.legend()\n",
    "plt.tight_layout()\n",
    "plt.show()\n"
   ]
  },
  {
   "cell_type": "markdown",
   "metadata": {},
   "source": [
    "# Nhận xét: Đường biên của khối u ảnh hưởng nhiều đến việc U là lành hay dữ tính"
   ]
  },
  {
   "cell_type": "code",
   "execution_count": 19,
   "metadata": {},
   "outputs": [
    {
     "name": "stdout",
     "output_type": "stream",
     "text": [
      "       count unique  top freq\n",
      "Target                       \n",
      "0        515      4  Low  458\n",
      "1        445      4  Low  415\n"
     ]
    },
    {
     "data": {
      "image/png": "[encoded data removed]",
      "text/plain": [
       "<Figure size 1000x600 with 1 Axes>"
      ]
     },
     "metadata": {},
     "output_type": "display_data"
    }
   ],
   "source": [
    "#Density: Thuộc tính cho biết mật độ của khối u, bao gồm 4 giá trị: High, Iso, Low, Fat-containing\n",
    "density_target = df_practice.groupby('Target')['Density'].describe()\n",
    "\n",
    "print(density_target)\n",
    "\n",
    "\n",
    "density_values = ['High', 'Iso', 'Low', 'Fat-containing']  # Các giá trị của Density\n",
    "target_labels = ['Khối u lành tính', 'Khối u ác tính']  # Nhãn của các nhóm Target\n",
    "density_counts = [[15, 20, 10, 5], [10, 15, 5, 3]]  # Số lượng của mỗi giá trị Density cho mỗi nhóm Target\n",
    "\n",
    "# Vẽ biểu đồ\n",
    "fig, ax = plt.subplots(figsize=(10, 6))\n",
    "\n",
    "# Vẽ cột cho mỗi giá trị Density trong từng nhóm Target\n",
    "bar_width = 0.35\n",
    "opacity = 0.8\n",
    "index = range(len(density_values))\n",
    "\n",
    "for i, target_count in enumerate(density_counts):\n",
    "    plt.bar([x + i * bar_width for x in index], target_count, bar_width, alpha=opacity, label=target_labels[i])\n",
    "\n",
    "plt.xlabel('Density')\n",
    "plt.ylabel('Số lượng')\n",
    "plt.title('Ảnh hưởng của Density đến Target')\n",
    "plt.xticks([x + bar_width for x in index], density_values)\n",
    "plt.legend()\n",
    "plt.tight_layout()\n",
    "plt.show()\n",
    "\n"
   ]
  },
  {
   "cell_type": "markdown",
   "metadata": {},
   "source": [
    "# Nhận xét: Mật độ (Density): Mức độ ảnh hưởng của mật độ đến Target không thể xác định rõ ràng, vì cả hai nhóm Target đều có phân phối tương tự đối với thuộc tính này."
   ]
  },
  {
   "cell_type": "markdown",
   "metadata": {},
   "source": [
    "# Nhận xét:\n",
    "- Tuổi tác là thuộc tính có ảnh hưởng lớn nhất đến việc xác định khối u lành tính or u ác tính\n",
    "- Điều này có thể được sử dụng để đưa ra dự đoán về tính chất của khối u dựa trên tuổi của bệnh nhân.\n",
    "- Mật độ ( Density) là thuộc tính không thể dùng để xác định khối u \n"
   ]
  },
  {
   "cell_type": "markdown",
   "metadata": {},
   "source": [
    "**Yêu cầu 4:** \n",
    "- Đề xuất và Áp dụng các kỹ chuẩn hóa, tiền xử lý dữ liệu phù hợp cho tập dữ liệu này để có thể đưa vào các mô hình học máy\n",
    "- Lưu kết quả dữ liệu sau xử lý ra file Data_Practice_ML_OK.csv"
   ]
  },
  {
   "cell_type": "code",
   "execution_count": 20,
   "metadata": {},
   "outputs": [
    {
     "data": {
      "text/html": [
       "<div>\n",
       "<style scoped>\n",
       "    .dataframe tbody tr th:only-of-type {\n",
       "        vertical-align: middle;\n",
       "    }\n",
       "\n",
       "    .dataframe tbody tr th {\n",
       "        vertical-align: top;\n",
       "    }\n",
       "\n",
       "    .dataframe thead th {\n",
       "        text-align: right;\n",
       "    }\n",
       "</style>\n",
       "<table border=\"1\" class=\"dataframe\">\n",
       "  <thead>\n",
       "    <tr style=\"text-align: right;\">\n",
       "      <th></th>\n",
       "      <th>PatientID</th>\n",
       "      <th>Sex</th>\n",
       "      <th>Age</th>\n",
       "      <th>Weight</th>\n",
       "      <th>Shape</th>\n",
       "      <th>Margin</th>\n",
       "      <th>Density</th>\n",
       "      <th>Target</th>\n",
       "    </tr>\n",
       "  </thead>\n",
       "  <tbody>\n",
       "    <tr>\n",
       "      <th>0</th>\n",
       "      <td>P1</td>\n",
       "      <td>Female</td>\n",
       "      <td>67</td>\n",
       "      <td>46</td>\n",
       "      <td>Lobular</td>\n",
       "      <td>Spiculated</td>\n",
       "      <td>Low</td>\n",
       "      <td>1</td>\n",
       "    </tr>\n",
       "    <tr>\n",
       "      <th>1</th>\n",
       "      <td>P2</td>\n",
       "      <td>Female</td>\n",
       "      <td>43</td>\n",
       "      <td>66</td>\n",
       "      <td>Round</td>\n",
       "      <td>Circumscribed</td>\n",
       "      <td>Low</td>\n",
       "      <td>1</td>\n",
       "    </tr>\n",
       "    <tr>\n",
       "      <th>2</th>\n",
       "      <td>P3</td>\n",
       "      <td>Female</td>\n",
       "      <td>58</td>\n",
       "      <td>80</td>\n",
       "      <td>Irregular</td>\n",
       "      <td>Spiculated</td>\n",
       "      <td>Low</td>\n",
       "      <td>1</td>\n",
       "    </tr>\n",
       "    <tr>\n",
       "      <th>3</th>\n",
       "      <td>P4</td>\n",
       "      <td>Female</td>\n",
       "      <td>28</td>\n",
       "      <td>51</td>\n",
       "      <td>Round</td>\n",
       "      <td>Circumscribed</td>\n",
       "      <td>Low</td>\n",
       "      <td>0</td>\n",
       "    </tr>\n",
       "    <tr>\n",
       "      <th>4</th>\n",
       "      <td>P5</td>\n",
       "      <td>Female</td>\n",
       "      <td>74</td>\n",
       "      <td>46</td>\n",
       "      <td>Round</td>\n",
       "      <td>Spiculated</td>\n",
       "      <td>Low</td>\n",
       "      <td>1</td>\n",
       "    </tr>\n",
       "  </tbody>\n",
       "</table>\n",
       "</div>"
      ],
      "text/plain": [
       "  PatientID     Sex  Age  Weight      Shape         Margin Density  Target\n",
       "0        P1  Female   67      46    Lobular     Spiculated     Low       1\n",
       "1        P2  Female   43      66      Round  Circumscribed     Low       1\n",
       "2        P3  Female   58      80  Irregular     Spiculated     Low       1\n",
       "3        P4  Female   28      51      Round  Circumscribed     Low       0\n",
       "4        P5  Female   74      46      Round     Spiculated     Low       1"
      ]
     },
     "execution_count": 20,
     "metadata": {},
     "output_type": "execute_result"
    }
   ],
   "source": [
    "#Chuyển tuổi sang số nguyên (int)\n",
    "\n",
    "df_practice['Age'] = df_practice['Age'].astype(int)\n",
    "df_practice.head()"
   ]
  },
  {
   "cell_type": "code",
   "execution_count": 21,
   "metadata": {
    "scrolled": true
   },
   "outputs": [
    {
     "data": {
      "text/html": [
       "<div>\n",
       "<style scoped>\n",
       "    .dataframe tbody tr th:only-of-type {\n",
       "        vertical-align: middle;\n",
       "    }\n",
       "\n",
       "    .dataframe tbody tr th {\n",
       "        vertical-align: top;\n",
       "    }\n",
       "\n",
       "    .dataframe thead th {\n",
       "        text-align: right;\n",
       "    }\n",
       "</style>\n",
       "<table border=\"1\" class=\"dataframe\">\n",
       "  <thead>\n",
       "    <tr style=\"text-align: right;\">\n",
       "      <th></th>\n",
       "      <th>PatientID</th>\n",
       "      <th>Sex</th>\n",
       "      <th>Age</th>\n",
       "      <th>Weight</th>\n",
       "      <th>Shape</th>\n",
       "      <th>Margin</th>\n",
       "      <th>Density</th>\n",
       "      <th>Target</th>\n",
       "    </tr>\n",
       "  </thead>\n",
       "  <tbody>\n",
       "    <tr>\n",
       "      <th>0</th>\n",
       "      <td>P1</td>\n",
       "      <td>0</td>\n",
       "      <td>67</td>\n",
       "      <td>46</td>\n",
       "      <td>Lobular</td>\n",
       "      <td>Spiculated</td>\n",
       "      <td>Low</td>\n",
       "      <td>1</td>\n",
       "    </tr>\n",
       "    <tr>\n",
       "      <th>1</th>\n",
       "      <td>P2</td>\n",
       "      <td>0</td>\n",
       "      <td>43</td>\n",
       "      <td>66</td>\n",
       "      <td>Round</td>\n",
       "      <td>Circumscribed</td>\n",
       "      <td>Low</td>\n",
       "      <td>1</td>\n",
       "    </tr>\n",
       "    <tr>\n",
       "      <th>2</th>\n",
       "      <td>P3</td>\n",
       "      <td>0</td>\n",
       "      <td>58</td>\n",
       "      <td>80</td>\n",
       "      <td>Irregular</td>\n",
       "      <td>Spiculated</td>\n",
       "      <td>Low</td>\n",
       "      <td>1</td>\n",
       "    </tr>\n",
       "    <tr>\n",
       "      <th>3</th>\n",
       "      <td>P4</td>\n",
       "      <td>0</td>\n",
       "      <td>28</td>\n",
       "      <td>51</td>\n",
       "      <td>Round</td>\n",
       "      <td>Circumscribed</td>\n",
       "      <td>Low</td>\n",
       "      <td>0</td>\n",
       "    </tr>\n",
       "    <tr>\n",
       "      <th>4</th>\n",
       "      <td>P5</td>\n",
       "      <td>0</td>\n",
       "      <td>74</td>\n",
       "      <td>46</td>\n",
       "      <td>Round</td>\n",
       "      <td>Spiculated</td>\n",
       "      <td>Low</td>\n",
       "      <td>1</td>\n",
       "    </tr>\n",
       "  </tbody>\n",
       "</table>\n",
       "</div>"
      ],
      "text/plain": [
       "  PatientID  Sex  Age  Weight      Shape         Margin Density  Target\n",
       "0        P1    0   67      46    Lobular     Spiculated     Low       1\n",
       "1        P2    0   43      66      Round  Circumscribed     Low       1\n",
       "2        P3    0   58      80  Irregular     Spiculated     Low       1\n",
       "3        P4    0   28      51      Round  Circumscribed     Low       0\n",
       "4        P5    0   74      46      Round     Spiculated     Low       1"
      ]
     },
     "execution_count": 21,
     "metadata": {},
     "output_type": "execute_result"
    }
   ],
   "source": [
    "# Thay thế giá trị 'Female' thành 0 và giá trị 'Male' thành 1\n",
    "df_practice['Sex'] = df_practice['Sex'].map({'Female': 0, 'Male': 1})\n",
    "df_practice.head()\n"
   ]
  },
  {
   "cell_type": "code",
   "execution_count": 22,
   "metadata": {},
   "outputs": [
    {
     "data": {
      "text/html": [
       "<div>\n",
       "<style scoped>\n",
       "    .dataframe tbody tr th:only-of-type {\n",
       "        vertical-align: middle;\n",
       "    }\n",
       "\n",
       "    .dataframe tbody tr th {\n",
       "        vertical-align: top;\n",
       "    }\n",
       "\n",
       "    .dataframe thead th {\n",
       "        text-align: right;\n",
       "    }\n",
       "</style>\n",
       "<table border=\"1\" class=\"dataframe\">\n",
       "  <thead>\n",
       "    <tr style=\"text-align: right;\">\n",
       "      <th></th>\n",
       "      <th>PatientID</th>\n",
       "      <th>Sex</th>\n",
       "      <th>Age</th>\n",
       "      <th>Weight</th>\n",
       "      <th>Shape</th>\n",
       "      <th>Margin</th>\n",
       "      <th>Density</th>\n",
       "      <th>Target</th>\n",
       "    </tr>\n",
       "  </thead>\n",
       "  <tbody>\n",
       "    <tr>\n",
       "      <th>0</th>\n",
       "      <td>P1</td>\n",
       "      <td>0</td>\n",
       "      <td>67</td>\n",
       "      <td>46</td>\n",
       "      <td>0</td>\n",
       "      <td>Spiculated</td>\n",
       "      <td>Low</td>\n",
       "      <td>1</td>\n",
       "    </tr>\n",
       "    <tr>\n",
       "      <th>1</th>\n",
       "      <td>P2</td>\n",
       "      <td>0</td>\n",
       "      <td>43</td>\n",
       "      <td>66</td>\n",
       "      <td>1</td>\n",
       "      <td>Circumscribed</td>\n",
       "      <td>Low</td>\n",
       "      <td>1</td>\n",
       "    </tr>\n",
       "    <tr>\n",
       "      <th>2</th>\n",
       "      <td>P3</td>\n",
       "      <td>0</td>\n",
       "      <td>58</td>\n",
       "      <td>80</td>\n",
       "      <td>2</td>\n",
       "      <td>Spiculated</td>\n",
       "      <td>Low</td>\n",
       "      <td>1</td>\n",
       "    </tr>\n",
       "    <tr>\n",
       "      <th>3</th>\n",
       "      <td>P4</td>\n",
       "      <td>0</td>\n",
       "      <td>28</td>\n",
       "      <td>51</td>\n",
       "      <td>1</td>\n",
       "      <td>Circumscribed</td>\n",
       "      <td>Low</td>\n",
       "      <td>0</td>\n",
       "    </tr>\n",
       "    <tr>\n",
       "      <th>4</th>\n",
       "      <td>P5</td>\n",
       "      <td>0</td>\n",
       "      <td>74</td>\n",
       "      <td>46</td>\n",
       "      <td>1</td>\n",
       "      <td>Spiculated</td>\n",
       "      <td>Low</td>\n",
       "      <td>1</td>\n",
       "    </tr>\n",
       "  </tbody>\n",
       "</table>\n",
       "</div>"
      ],
      "text/plain": [
       "  PatientID  Sex  Age  Weight  Shape         Margin Density  Target\n",
       "0        P1    0   67      46      0     Spiculated     Low       1\n",
       "1        P2    0   43      66      1  Circumscribed     Low       1\n",
       "2        P3    0   58      80      2     Spiculated     Low       1\n",
       "3        P4    0   28      51      1  Circumscribed     Low       0\n",
       "4        P5    0   74      46      1     Spiculated     Low       1"
      ]
     },
     "execution_count": 22,
     "metadata": {},
     "output_type": "execute_result"
    }
   ],
   "source": [
    "#Chuyển các giá trị trong Shape thành số nguyên\n",
    "# Thay thế các giá trị:\n",
    "#'Lobular' = 0 , 'Round' = 1, 'Irregular' = 2, 'Oval ' = 3\n",
    "df_practice['Shape'] = df_practice['Shape'].map({'Lobular': 0, \n",
    "                                                 'Round': 1, \n",
    "                                                 'Irregular': 2, \n",
    "                                                 'Oval': 3})\n",
    "\n",
    "df_practice.head()\n",
    "\n"
   ]
  },
  {
   "cell_type": "code",
   "execution_count": 23,
   "metadata": {},
   "outputs": [
    {
     "data": {
      "text/html": [
       "<div>\n",
       "<style scoped>\n",
       "    .dataframe tbody tr th:only-of-type {\n",
       "        vertical-align: middle;\n",
       "    }\n",
       "\n",
       "    .dataframe tbody tr th {\n",
       "        vertical-align: top;\n",
       "    }\n",
       "\n",
       "    .dataframe thead th {\n",
       "        text-align: right;\n",
       "    }\n",
       "</style>\n",
       "<table border=\"1\" class=\"dataframe\">\n",
       "  <thead>\n",
       "    <tr style=\"text-align: right;\">\n",
       "      <th></th>\n",
       "      <th>PatientID</th>\n",
       "      <th>Sex</th>\n",
       "      <th>Age</th>\n",
       "      <th>Weight</th>\n",
       "      <th>Shape</th>\n",
       "      <th>Margin</th>\n",
       "      <th>Density</th>\n",
       "      <th>Target</th>\n",
       "    </tr>\n",
       "  </thead>\n",
       "  <tbody>\n",
       "    <tr>\n",
       "      <th>0</th>\n",
       "      <td>P1</td>\n",
       "      <td>0</td>\n",
       "      <td>67</td>\n",
       "      <td>46</td>\n",
       "      <td>0</td>\n",
       "      <td>4</td>\n",
       "      <td>Low</td>\n",
       "      <td>1</td>\n",
       "    </tr>\n",
       "    <tr>\n",
       "      <th>1</th>\n",
       "      <td>P2</td>\n",
       "      <td>0</td>\n",
       "      <td>43</td>\n",
       "      <td>66</td>\n",
       "      <td>1</td>\n",
       "      <td>0</td>\n",
       "      <td>Low</td>\n",
       "      <td>1</td>\n",
       "    </tr>\n",
       "    <tr>\n",
       "      <th>2</th>\n",
       "      <td>P3</td>\n",
       "      <td>0</td>\n",
       "      <td>58</td>\n",
       "      <td>80</td>\n",
       "      <td>2</td>\n",
       "      <td>4</td>\n",
       "      <td>Low</td>\n",
       "      <td>1</td>\n",
       "    </tr>\n",
       "    <tr>\n",
       "      <th>3</th>\n",
       "      <td>P4</td>\n",
       "      <td>0</td>\n",
       "      <td>28</td>\n",
       "      <td>51</td>\n",
       "      <td>1</td>\n",
       "      <td>0</td>\n",
       "      <td>Low</td>\n",
       "      <td>0</td>\n",
       "    </tr>\n",
       "    <tr>\n",
       "      <th>4</th>\n",
       "      <td>P5</td>\n",
       "      <td>0</td>\n",
       "      <td>74</td>\n",
       "      <td>46</td>\n",
       "      <td>1</td>\n",
       "      <td>4</td>\n",
       "      <td>Low</td>\n",
       "      <td>1</td>\n",
       "    </tr>\n",
       "  </tbody>\n",
       "</table>\n",
       "</div>"
      ],
      "text/plain": [
       "  PatientID  Sex  Age  Weight  Shape  Margin Density  Target\n",
       "0        P1    0   67      46      0       4     Low       1\n",
       "1        P2    0   43      66      1       0     Low       1\n",
       "2        P3    0   58      80      2       4     Low       1\n",
       "3        P4    0   28      51      1       0     Low       0\n",
       "4        P5    0   74      46      1       4     Low       1"
      ]
     },
     "execution_count": 23,
     "metadata": {},
     "output_type": "execute_result"
    }
   ],
   "source": [
    "#Chuyển các giá trị trong Margin thành số nguyên\n",
    "#Thay thế các giá trị:\n",
    "#Circumscribed = 0, Microlobulated = 1, Obscured = 2, ill-defined = 3, Spiculated=4\n",
    "\n",
    "df_practice[\"Margin\"] = df_practice[\"Margin\"].map({'Circumscribed': 0,\n",
    "                                                  'Microlobulated':1,\n",
    "                                                  'Obscured':2,\n",
    "                                                  'ill-defined':3,\n",
    "                                                  'Spiculated':4})\n",
    "df_practice.head()"
   ]
  },
  {
   "cell_type": "code",
   "execution_count": 24,
   "metadata": {
    "scrolled": true
   },
   "outputs": [
    {
     "data": {
      "text/html": [
       "<div>\n",
       "<style scoped>\n",
       "    .dataframe tbody tr th:only-of-type {\n",
       "        vertical-align: middle;\n",
       "    }\n",
       "\n",
       "    .dataframe tbody tr th {\n",
       "        vertical-align: top;\n",
       "    }\n",
       "\n",
       "    .dataframe thead th {\n",
       "        text-align: right;\n",
       "    }\n",
       "</style>\n",
       "<table border=\"1\" class=\"dataframe\">\n",
       "  <thead>\n",
       "    <tr style=\"text-align: right;\">\n",
       "      <th></th>\n",
       "      <th>PatientID</th>\n",
       "      <th>Sex</th>\n",
       "      <th>Age</th>\n",
       "      <th>Weight</th>\n",
       "      <th>Shape</th>\n",
       "      <th>Margin</th>\n",
       "      <th>Density</th>\n",
       "      <th>Target</th>\n",
       "    </tr>\n",
       "  </thead>\n",
       "  <tbody>\n",
       "    <tr>\n",
       "      <th>0</th>\n",
       "      <td>P1</td>\n",
       "      <td>0</td>\n",
       "      <td>67</td>\n",
       "      <td>46</td>\n",
       "      <td>0</td>\n",
       "      <td>4</td>\n",
       "      <td>2.0</td>\n",
       "      <td>1</td>\n",
       "    </tr>\n",
       "    <tr>\n",
       "      <th>1</th>\n",
       "      <td>P2</td>\n",
       "      <td>0</td>\n",
       "      <td>43</td>\n",
       "      <td>66</td>\n",
       "      <td>1</td>\n",
       "      <td>0</td>\n",
       "      <td>2.0</td>\n",
       "      <td>1</td>\n",
       "    </tr>\n",
       "    <tr>\n",
       "      <th>2</th>\n",
       "      <td>P3</td>\n",
       "      <td>0</td>\n",
       "      <td>58</td>\n",
       "      <td>80</td>\n",
       "      <td>2</td>\n",
       "      <td>4</td>\n",
       "      <td>2.0</td>\n",
       "      <td>1</td>\n",
       "    </tr>\n",
       "    <tr>\n",
       "      <th>3</th>\n",
       "      <td>P4</td>\n",
       "      <td>0</td>\n",
       "      <td>28</td>\n",
       "      <td>51</td>\n",
       "      <td>1</td>\n",
       "      <td>0</td>\n",
       "      <td>2.0</td>\n",
       "      <td>0</td>\n",
       "    </tr>\n",
       "    <tr>\n",
       "      <th>4</th>\n",
       "      <td>P5</td>\n",
       "      <td>0</td>\n",
       "      <td>74</td>\n",
       "      <td>46</td>\n",
       "      <td>1</td>\n",
       "      <td>4</td>\n",
       "      <td>2.0</td>\n",
       "      <td>1</td>\n",
       "    </tr>\n",
       "  </tbody>\n",
       "</table>\n",
       "</div>"
      ],
      "text/plain": [
       "  PatientID  Sex  Age  Weight  Shape  Margin  Density  Target\n",
       "0        P1    0   67      46      0       4      2.0       1\n",
       "1        P2    0   43      66      1       0      2.0       1\n",
       "2        P3    0   58      80      2       4      2.0       1\n",
       "3        P4    0   28      51      1       0      2.0       0\n",
       "4        P5    0   74      46      1       4      2.0       1"
      ]
     },
     "execution_count": 24,
     "metadata": {},
     "output_type": "execute_result"
    }
   ],
   "source": [
    "#Thay thế các giá trị Density bằng số nguyên\n",
    "#Thay thế các giá trị:\n",
    "#High = 0, ISO = 1, Low = 2, Fat - containing =3\n",
    "\n",
    "df_practice[\"Density\"] = df_practice[\"Density\"].map({'High':0,\n",
    "                                                    'ISO':1,\n",
    "                                                    'Low':2,\n",
    "                                                    'Fat-containing':3})\n",
    "\n",
    "\n",
    "\n",
    "df_practice.head()"
   ]
  },
  {
   "cell_type": "code",
   "execution_count": 25,
   "metadata": {},
   "outputs": [],
   "source": [
    "\n",
    "#Lưu file kết quả chuẩn bị dữ liệu:\n",
    "#Excel\n",
    "df_practice.to_excel('Data_Practice_OK.xlsx',index=None)\n"
   ]
  },
  {
   "cell_type": "code",
   "execution_count": 26,
   "metadata": {},
   "outputs": [
    {
     "name": "stdout",
     "output_type": "stream",
     "text": [
      "0    515\n",
      "1    445\n",
      "Name: Target, dtype: int64\n"
     ]
    },
    {
     "data": {
      "image/png": "[encoded data removed]",
      "text/plain": [
       "<Figure size 1000x500 with 2 Axes>"
      ]
     },
     "metadata": {},
     "output_type": "display_data"
    }
   ],
   "source": [
    "#Kiểm tra cân bằng dữ liệu\n",
    "check = df_practice[\"Target\"].value_counts()\n",
    "print(check)\n",
    "\n",
    "#Trực quan hóa dữ liệu\n",
    "plt.figure(figsize=(10,5))\n",
    "plt.subplot(1,2,1) #Biểu đồ cột\n",
    "plt.bar([\"0: U lành tính\", \"1: U ác tính\"],\n",
    "       check.values)\n",
    "plt.grid(ls='--')\n",
    "\n",
    "plt.subplot(1,2,2) # Biểu đồ tròn\n",
    "plt.pie(check.values,\n",
    "       labels=[\"0: U lành tính\", \"1: U ác tính\"],\n",
    "       autopct='%.1f%%')\n",
    "plt.show()\n"
   ]
  },
  {
   "cell_type": "code",
   "execution_count": 27,
   "metadata": {},
   "outputs": [
    {
     "data": {
      "text/plain": [
       "array([[ 0., 67., 46.,  0.,  4.,  2.],\n",
       "       [ 0., 43., 66.,  1.,  0.,  2.],\n",
       "       [ 0., 58., 80.,  2.,  4.,  2.],\n",
       "       ...,\n",
       "       [ 0., 64., 75.,  2.,  4.,  2.],\n",
       "       [ 0., 66., 56.,  2.,  4.,  2.],\n",
       "       [ 0., 62., 51.,  0.,  2.,  2.]])"
      ]
     },
     "execution_count": 27,
     "metadata": {},
     "output_type": "execute_result"
    }
   ],
   "source": [
    "#Tách lấy biến độc lập đầu vào mô hình x\n",
    "x = df_practice.loc[:, ['Sex', 'Age', 'Weight', 'Shape', 'Margin', 'Density']].values\n",
    "x"
   ]
  },
  {
   "cell_type": "code",
   "execution_count": 28,
   "metadata": {},
   "outputs": [
    {
     "data": {
      "text/plain": [
       "(960, 6)"
      ]
     },
     "execution_count": 28,
     "metadata": {},
     "output_type": "execute_result"
    }
   ],
   "source": [
    "x.shape"
   ]
  },
  {
   "cell_type": "code",
   "execution_count": 29,
   "metadata": {},
   "outputs": [
    {
     "data": {
      "text/html": [
       "<div>\n",
       "<style scoped>\n",
       "    .dataframe tbody tr th:only-of-type {\n",
       "        vertical-align: middle;\n",
       "    }\n",
       "\n",
       "    .dataframe tbody tr th {\n",
       "        vertical-align: top;\n",
       "    }\n",
       "\n",
       "    .dataframe thead th {\n",
       "        text-align: right;\n",
       "    }\n",
       "</style>\n",
       "<table border=\"1\" class=\"dataframe\">\n",
       "  <thead>\n",
       "    <tr style=\"text-align: right;\">\n",
       "      <th></th>\n",
       "      <th>Target</th>\n",
       "    </tr>\n",
       "  </thead>\n",
       "  <tbody>\n",
       "    <tr>\n",
       "      <th>0</th>\n",
       "      <td>1</td>\n",
       "    </tr>\n",
       "    <tr>\n",
       "      <th>1</th>\n",
       "      <td>1</td>\n",
       "    </tr>\n",
       "    <tr>\n",
       "      <th>2</th>\n",
       "      <td>1</td>\n",
       "    </tr>\n",
       "    <tr>\n",
       "      <th>3</th>\n",
       "      <td>0</td>\n",
       "    </tr>\n",
       "    <tr>\n",
       "      <th>4</th>\n",
       "      <td>1</td>\n",
       "    </tr>\n",
       "    <tr>\n",
       "      <th>...</th>\n",
       "      <td>...</td>\n",
       "    </tr>\n",
       "    <tr>\n",
       "      <th>956</th>\n",
       "      <td>0</td>\n",
       "    </tr>\n",
       "    <tr>\n",
       "      <th>957</th>\n",
       "      <td>1</td>\n",
       "    </tr>\n",
       "    <tr>\n",
       "      <th>958</th>\n",
       "      <td>0</td>\n",
       "    </tr>\n",
       "    <tr>\n",
       "      <th>959</th>\n",
       "      <td>1</td>\n",
       "    </tr>\n",
       "    <tr>\n",
       "      <th>960</th>\n",
       "      <td>0</td>\n",
       "    </tr>\n",
       "  </tbody>\n",
       "</table>\n",
       "<p>960 rows × 1 columns</p>\n",
       "</div>"
      ],
      "text/plain": [
       "     Target\n",
       "0         1\n",
       "1         1\n",
       "2         1\n",
       "3         0\n",
       "4         1\n",
       "..      ...\n",
       "956       0\n",
       "957       1\n",
       "958       0\n",
       "959       1\n",
       "960       0\n",
       "\n",
       "[960 rows x 1 columns]"
      ]
     },
     "execution_count": 29,
     "metadata": {},
     "output_type": "execute_result"
    }
   ],
   "source": [
    "#Tách lấy biến phụ thuộc y\n",
    "\n",
    "y = df_practice.loc[:,['Target']]\n",
    "y"
   ]
  },
  {
   "cell_type": "code",
   "execution_count": 30,
   "metadata": {},
   "outputs": [
    {
     "data": {
      "text/plain": [
       "(960, 1)"
      ]
     },
     "execution_count": 30,
     "metadata": {},
     "output_type": "execute_result"
    }
   ],
   "source": [
    "y.shape"
   ]
  },
  {
   "cell_type": "code",
   "execution_count": 32,
   "metadata": {},
   "outputs": [
    {
     "ename": "NameError",
     "evalue": "name 'x_train_imputed' is not defined",
     "output_type": "error",
     "traceback": [
      "\u001b[1;31m---------------------------------------------------------------------------\u001b[0m",
      "\u001b[1;31mNameError\u001b[0m                                 Traceback (most recent call last)",
      "\u001b[1;32m~\\AppData\\Local\\Temp\\ipykernel_12552\\859965747.py\u001b[0m in \u001b[0;36m<module>\u001b[1;34m\u001b[0m\n\u001b[0;32m      1\u001b[0m \u001b[1;32mfrom\u001b[0m \u001b[0msklearn\u001b[0m\u001b[1;33m.\u001b[0m\u001b[0mmodel_selection\u001b[0m \u001b[1;32mimport\u001b[0m \u001b[0mtrain_test_split\u001b[0m\u001b[1;33m\u001b[0m\u001b[1;33m\u001b[0m\u001b[0m\n\u001b[0;32m      2\u001b[0m \u001b[1;32mimport\u001b[0m \u001b[0mnumpy\u001b[0m \u001b[1;32mas\u001b[0m \u001b[0mnp\u001b[0m\u001b[1;33m\u001b[0m\u001b[1;33m\u001b[0m\u001b[0m\n\u001b[1;32m----> 3\u001b[1;33m \u001b[0mx_train_imputed\u001b[0m \u001b[1;33m=\u001b[0m \u001b[0mnp\u001b[0m\u001b[1;33m.\u001b[0m\u001b[0mwhere\u001b[0m\u001b[1;33m(\u001b[0m\u001b[0mnp\u001b[0m\u001b[1;33m.\u001b[0m\u001b[0misinf\u001b[0m\u001b[1;33m(\u001b[0m\u001b[0mx_train_imputed\u001b[0m\u001b[1;33m)\u001b[0m\u001b[1;33m,\u001b[0m \u001b[0mnp\u001b[0m\u001b[1;33m.\u001b[0m\u001b[0mnan\u001b[0m\u001b[1;33m,\u001b[0m \u001b[0mx_train_imputed\u001b[0m\u001b[1;33m)\u001b[0m\u001b[1;33m\u001b[0m\u001b[1;33m\u001b[0m\u001b[0m\n\u001b[0m\u001b[0;32m      4\u001b[0m \u001b[1;33m\u001b[0m\u001b[0m\n\u001b[0;32m      5\u001b[0m \u001b[1;33m\u001b[0m\u001b[0m\n",
      "\u001b[1;31mNameError\u001b[0m: name 'x_train_imputed' is not defined"
     ]
    }
   ],
   "source": [
    "from sklearn.model_selection import train_test_split\n",
    "import numpy as np\n",
    "x_train_imputed = np.where(np.isinf(x_train_imputed), np.nan, x_train_imputed)\n",
    "\n",
    "\n",
    "#Thực hiện tách theo tỷ lệ 75 - 25\n",
    "x_train, x_test, y_train, y_test = train_test_split(x,y,\n",
    "                                                   train_size=0.75, #Kích thước\n",
    "                                                   shuffle=True) #Trộn dữ liệu, lấy ngẫu nhiên\n",
    "\n",
    "print(\"Tổng số mẫu dữ liệu: \", len(y))\n",
    "print(\"Số mãu trong tập Train: \", len(y_train))\n",
    "print(\"Số mẫu trong tập Test: \", len(y_test))"
   ]
  },
  {
   "cell_type": "code",
   "execution_count": 255,
   "metadata": {},
   "outputs": [
    {
     "name": "stdout",
     "output_type": "stream",
     "text": [
      "[[ 0. 59. 78.  3.  3.  2.]\n",
      " [ 0. 69. 57.  1.  4.  2.]\n",
      " [ 0. 23. 55.  1.  0.  2.]\n",
      " ...\n",
      " [ 0. 65. 57.  3.  3.  2.]\n",
      " [ 0. 52. 62.  0.  3.  2.]\n",
      " [ 0. 71. 73.  0.  2.  2.]]\n",
      "Kích thước x_train:  (720, 6)\n"
     ]
    }
   ],
   "source": [
    "#Dữ liệu X_train\n",
    "print(x_train)\n",
    "\n",
    "print(\"Kích thước x_train: \", x_train.shape)"
   ]
  },
  {
   "cell_type": "code",
   "execution_count": 256,
   "metadata": {},
   "outputs": [
    {
     "name": "stdout",
     "output_type": "stream",
     "text": [
      "     Target\n",
      "24        1\n",
      "444       1\n",
      "868       0\n",
      "244       1\n",
      "715       0\n",
      "..      ...\n",
      "162       0\n",
      "373       0\n",
      "885       1\n",
      "16        0\n",
      "184       1\n",
      "\n",
      "[720 rows x 1 columns]\n",
      "Kích thước y_train:  (720, 1)\n"
     ]
    }
   ],
   "source": [
    "#Dữ liệu y_train\n",
    "print(y_train)\n",
    "\n",
    "print(\"Kích thước y_train: \", y_train.shape)"
   ]
  },
  {
   "cell_type": "code",
   "execution_count": 257,
   "metadata": {},
   "outputs": [
    {
     "name": "stdout",
     "output_type": "stream",
     "text": [
      "     Target\n",
      "174       0\n",
      "41        0\n",
      "483       0\n",
      "248       0\n",
      "47        0\n",
      "..      ...\n",
      "357       1\n",
      "958       0\n",
      "882       0\n",
      "78        1\n",
      "340       1\n",
      "\n",
      "[240 rows x 1 columns]\n",
      "Kích thước y_test:  (240, 1)\n"
     ]
    }
   ],
   "source": [
    "#Dữ liệu y_test\n",
    "print(y_test)\n",
    "\n",
    "print(\"Kích thước y_test: \", y_test.shape)"
   ]
  },
  {
   "cell_type": "code",
   "execution_count": 258,
   "metadata": {},
   "outputs": [
    {
     "data": {
      "text/plain": [
       "{'algorithm': 'auto',\n",
       " 'leaf_size': 30,\n",
       " 'metric': 'minkowski',\n",
       " 'metric_params': None,\n",
       " 'n_jobs': None,\n",
       " 'n_neighbors': 5,\n",
       " 'p': 2,\n",
       " 'weights': 'uniform'}"
      ]
     },
     "execution_count": 258,
     "metadata": {},
     "output_type": "execute_result"
    }
   ],
   "source": [
    "from sklearn.neighbors import KNeighborsClassifier\n",
    "\n",
    "#Khai báo model KNN sử dụng các tham số mặc định\n",
    "KNN_practice1 = KNeighborsClassifier(n_neighbors=5)\n",
    "\n",
    "#Hiển thị danh sách tham số: Model.get_params()\n",
    "KNN_practice1.get_params()"
   ]
  },
  {
   "cell_type": "code",
   "execution_count": 259,
   "metadata": {},
   "outputs": [
    {
     "name": "stderr",
     "output_type": "stream",
     "text": [
      "C:\\Users\\ADMIN\\anaconda3\\lib\\site-packages\\sklearn\\neighbors\\_classification.py:198: DataConversionWarning: A column-vector y was passed when a 1d array was expected. Please change the shape of y to (n_samples,), for example using ravel().\n",
      "  return self._fit(X, y)\n"
     ]
    },
    {
     "data": {
      "text/plain": [
       "KNeighborsClassifier()"
      ]
     },
     "execution_count": 259,
     "metadata": {},
     "output_type": "execute_result"
    }
   ],
   "source": [
    "KNN_practice1 = KNeighborsClassifier()\n",
    "KNN_practice1.fit(x_train_imputed, y_train)\n"
   ]
  },
  {
   "cell_type": "code",
   "execution_count": 260,
   "metadata": {},
   "outputs": [
    {
     "name": "stdout",
     "output_type": "stream",
     "text": [
      "Độ chính xác trên tập Train (%):  68.47 %\n"
     ]
    },
    {
     "name": "stderr",
     "output_type": "stream",
     "text": [
      "C:\\Users\\ADMIN\\anaconda3\\lib\\site-packages\\sklearn\\neighbors\\_classification.py:228: FutureWarning: Unlike other reduction functions (e.g. `skew`, `kurtosis`), the default behavior of `mode` typically preserves the axis it acts along. In SciPy 1.11.0, this behavior will change: the default value of `keepdims` will become False, the `axis` over which the statistic is taken will be eliminated, and the value None will no longer be accepted. Set `keepdims` to True or False to avoid this warning.\n",
      "  mode, _ = stats.mode(_y[neigh_ind, k], axis=1)\n"
     ]
    }
   ],
   "source": [
    "# Tính độ chính xác trên tập huấn luyện\n",
    "acc1_train = KNN_practice1.score(x_train_imputed, y_train)\n",
    "print(\"Độ chính xác trên tập Train (%): \", round(acc1_train * 100, 2), '%')\n"
   ]
  },
  {
   "cell_type": "code",
   "execution_count": 261,
   "metadata": {},
   "outputs": [
    {
     "data": {
      "text/plain": [
       "{'algorithm': 'auto',\n",
       " 'leaf_size': 30,\n",
       " 'metric': 'minkowski',\n",
       " 'metric_params': None,\n",
       " 'n_jobs': None,\n",
       " 'n_neighbors': 11,\n",
       " 'p': 1,\n",
       " 'weights': 'distance'}"
      ]
     },
     "execution_count": 261,
     "metadata": {},
     "output_type": "execute_result"
    }
   ],
   "source": [
    "# Khai bảo mô hình mới bằng cách Thay đổi tham số n_neighbors, weights:\n",
    "KNN_practice2 = KNeighborsClassifier(n_neighbors=11,\n",
    "                                   weights='distance',\n",
    "                                   p=1)\n",
    "\n",
    "#Các tham số mới của Model:\n",
    "KNN_practice2.get_params()"
   ]
  },
  {
   "cell_type": "code",
   "execution_count": 274,
   "metadata": {},
   "outputs": [
    {
     "name": "stdout",
     "output_type": "stream",
     "text": [
      "Độ chính xác trên tập huấn luyện của mô hình KNN mới (%):  80\n"
     ]
    },
    {
     "name": "stderr",
     "output_type": "stream",
     "text": [
      "C:\\Users\\ADMIN\\anaconda3\\lib\\site-packages\\sklearn\\neighbors\\_classification.py:198: DataConversionWarning: A column-vector y was passed when a 1d array was expected. Please change the shape of y to (n_samples,), for example using ravel().\n",
      "  return self._fit(X, y)\n",
      "C:\\Users\\ADMIN\\anaconda3\\lib\\site-packages\\sklearn\\neighbors\\_classification.py:228: FutureWarning: Unlike other reduction functions (e.g. `skew`, `kurtosis`), the default behavior of `mode` typically preserves the axis it acts along. In SciPy 1.11.0, this behavior will change: the default value of `keepdims` will become False, the `axis` over which the statistic is taken will be eliminated, and the value None will no longer be accepted. Set `keepdims` to True or False to avoid this warning.\n",
      "  mode, _ = stats.mode(_y[neigh_ind, k], axis=1)\n"
     ]
    }
   ],
   "source": [
    "from sklearn.impute import SimpleImputer\n",
    "import numpy as np\n",
    "\n",
    "# Xử lý giá trị NaN và vô cùng trong tập dữ liệu huấn luyện\n",
    "imputer = SimpleImputer(strategy='mean')\n",
    "x_train_imputed = imputer.fit_transform(x_train)\n",
    "x_train_imputed = np.where(np.isinf(x_train_imputed), np.nan, x_train_imputed)\n",
    "\n",
    "# Kiểm tra lại xem dữ liệu có chứa giá trị NaN hoặc vô cùng không\n",
    "if np.isnan(x_train_imputed).any() or np.isinf(x_train_imputed).any():\n",
    "    print(\"Dữ liệu sau xử lý vẫn chứa giá trị NaN hoặc vô cùng.\")\n",
    "else:\n",
    "    # Đào tạo mô hình KNN\n",
    "    KNN_practice2 = KNeighborsClassifier()\n",
    "    KNN_practice2.fit(x_train_imputed, y_train)\n",
    "\n",
    "    # Đánh giá độ chính xác trên tập huấn luyện\n",
    "    acc2_train = KNN_practice2.score(x_train_imputed, y_train)\n",
    "    print(\"Độ chính xác trên tập huấn luyện của mô hình KNN mới (%): \", round(acc2_train * 100))\n"
   ]
  },
  {
   "cell_type": "code",
   "execution_count": 275,
   "metadata": {},
   "outputs": [
    {
     "name": "stdout",
     "output_type": "stream",
     "text": [
      "Kết quả dự đoán bệnh nhân bị bệnh trên tập dữ liệu TEST:\n",
      "Kết quả cho 20 bệnh nhân đầu tiên:\n",
      "Predicted labels:  [0 1 1 0 0 0 0 1 1 1 0 1 0 1 0 0 1 0 0 1]\n",
      "Ground truth    :       Target\n",
      "174       0\n",
      "41        0\n",
      "483       0\n",
      "248       0\n",
      "47        0\n",
      "352       0\n",
      "732       0\n",
      "482       0\n",
      "195       1\n",
      "100       0\n",
      "219       0\n",
      "793       0\n",
      "660       1\n",
      "543       1\n",
      "147       1\n",
      "476       0\n",
      "157       0\n",
      "706       0\n",
      "927       0\n",
      "51        1\n"
     ]
    },
    {
     "name": "stderr",
     "output_type": "stream",
     "text": [
      "C:\\Users\\ADMIN\\anaconda3\\lib\\site-packages\\sklearn\\neighbors\\_classification.py:228: FutureWarning: Unlike other reduction functions (e.g. `skew`, `kurtosis`), the default behavior of `mode` typically preserves the axis it acts along. In SciPy 1.11.0, this behavior will change: the default value of `keepdims` will become False, the `axis` over which the statistic is taken will be eliminated, and the value None will no longer be accepted. Set `keepdims` to True or False to avoid this warning.\n",
      "  mode, _ = stats.mode(_y[neigh_ind, k], axis=1)\n"
     ]
    }
   ],
   "source": [
    "# Dự đoán trên tập dữ liệu kiểm tra\n",
    "y_pred2 = KNN_practice2.predict(x_test_imputed)\n",
    "\n",
    "# In ra kết quả dự đoán\n",
    "print(\"Kết quả dự đoán bệnh nhân bị bệnh trên tập dữ liệu TEST:\")\n",
    "print(\"Kết quả cho 20 bệnh nhân đầu tiên:\")\n",
    "print(\"Predicted labels: \", y_pred2[:20])\n",
    "print(\"Ground truth    : \", y_test[:20])\n"
   ]
  },
  {
   "cell_type": "code",
   "execution_count": 276,
   "metadata": {},
   "outputs": [
    {
     "name": "stdout",
     "output_type": "stream",
     "text": [
      "Tổng số mẫu dự đoán đúng: 129  / 240\n"
     ]
    }
   ],
   "source": [
    "#1.Đếm số mẫu dự đoán đúng:\n",
    "from sklearn.metrics import accuracy_score\n",
    "acc21 = accuracy_score(y_test, y_pred2, \n",
    "                       normalize=False)\n",
    "print('Tổng số mẫu dự đoán đúng:', acc21, ' /', len(y_test))"
   ]
  },
  {
   "cell_type": "code",
   "execution_count": 277,
   "metadata": {},
   "outputs": [
    {
     "name": "stdout",
     "output_type": "stream",
     "text": [
      "Confusion matrix - Practice:\n",
      "[[67 63]\n",
      " [48 62]]\n"
     ]
    },
    {
     "data": {
      "image/png": "[encoded data removed]",
      "text/plain": [
       "<Figure size 640x480 with 2 Axes>"
      ]
     },
     "metadata": {},
     "output_type": "display_data"
    }
   ],
   "source": [
    "#3.Sử dụng ma trận confussion matrix kiểm tra kết quả:\n",
    "from sklearn.metrics import confusion_matrix, ConfusionMatrixDisplay\n",
    "#Tính toán ma trận\n",
    "cnf_matrix_titanic = confusion_matrix(y_test,y_pred2)\n",
    "\n",
    "#Hiển thị ma trân:\n",
    "print('Confusion matrix - Practice:')\n",
    "print(cnf_matrix_titanic)\n",
    "ConfusionMatrixDisplay.from_predictions(y_test, y_pred2)\n",
    "plt.show()"
   ]
  },
  {
   "cell_type": "code",
   "execution_count": 278,
   "metadata": {},
   "outputs": [
    {
     "data": {
      "text/html": [
       "<div>\n",
       "<style scoped>\n",
       "    .dataframe tbody tr th:only-of-type {\n",
       "        vertical-align: middle;\n",
       "    }\n",
       "\n",
       "    .dataframe tbody tr th {\n",
       "        vertical-align: top;\n",
       "    }\n",
       "\n",
       "    .dataframe thead th {\n",
       "        text-align: right;\n",
       "    }\n",
       "</style>\n",
       "<table border=\"1\" class=\"dataframe\">\n",
       "  <thead>\n",
       "    <tr style=\"text-align: right;\">\n",
       "      <th></th>\n",
       "      <th>PatientID</th>\n",
       "      <th>Sex</th>\n",
       "      <th>Age</th>\n",
       "      <th>Weight</th>\n",
       "      <th>Shape</th>\n",
       "      <th>Margin</th>\n",
       "      <th>Density</th>\n",
       "      <th>Target</th>\n",
       "    </tr>\n",
       "  </thead>\n",
       "  <tbody>\n",
       "    <tr>\n",
       "      <th>0</th>\n",
       "      <td>P1</td>\n",
       "      <td>0</td>\n",
       "      <td>67</td>\n",
       "      <td>46</td>\n",
       "      <td>0</td>\n",
       "      <td>4</td>\n",
       "      <td>2.0</td>\n",
       "      <td>1</td>\n",
       "    </tr>\n",
       "    <tr>\n",
       "      <th>1</th>\n",
       "      <td>P2</td>\n",
       "      <td>0</td>\n",
       "      <td>43</td>\n",
       "      <td>66</td>\n",
       "      <td>1</td>\n",
       "      <td>0</td>\n",
       "      <td>2.0</td>\n",
       "      <td>1</td>\n",
       "    </tr>\n",
       "    <tr>\n",
       "      <th>2</th>\n",
       "      <td>P3</td>\n",
       "      <td>0</td>\n",
       "      <td>58</td>\n",
       "      <td>80</td>\n",
       "      <td>2</td>\n",
       "      <td>4</td>\n",
       "      <td>2.0</td>\n",
       "      <td>1</td>\n",
       "    </tr>\n",
       "    <tr>\n",
       "      <th>3</th>\n",
       "      <td>P4</td>\n",
       "      <td>0</td>\n",
       "      <td>28</td>\n",
       "      <td>51</td>\n",
       "      <td>1</td>\n",
       "      <td>0</td>\n",
       "      <td>2.0</td>\n",
       "      <td>0</td>\n",
       "    </tr>\n",
       "    <tr>\n",
       "      <th>4</th>\n",
       "      <td>P5</td>\n",
       "      <td>0</td>\n",
       "      <td>74</td>\n",
       "      <td>46</td>\n",
       "      <td>1</td>\n",
       "      <td>4</td>\n",
       "      <td>2.0</td>\n",
       "      <td>1</td>\n",
       "    </tr>\n",
       "  </tbody>\n",
       "</table>\n",
       "</div>"
      ],
      "text/plain": [
       "  PatientID  Sex  Age  Weight  Shape  Margin  Density  Target\n",
       "0        P1    0   67      46      0       4      2.0       1\n",
       "1        P2    0   43      66      1       0      2.0       1\n",
       "2        P3    0   58      80      2       4      2.0       1\n",
       "3        P4    0   28      51      1       0      2.0       0\n",
       "4        P5    0   74      46      1       4      2.0       1"
      ]
     },
     "execution_count": 278,
     "metadata": {},
     "output_type": "execute_result"
    }
   ],
   "source": [
    "df_practice.head()"
   ]
  },
  {
   "cell_type": "code",
   "execution_count": 279,
   "metadata": {},
   "outputs": [
    {
     "name": "stdout",
     "output_type": "stream",
     "text": [
      "Thông tin bệnh nhân 1:  [[20  0 65  1  0  2]]\n"
     ]
    }
   ],
   "source": [
    "#Shape : 'Lobular' = 0 , 'Round' = 1, 'Irregular' = 2, 'Oval ' = 3\n",
    "#Margin: Circumscribed = 0, Microlobulated = 1, Obscured = 2, ill-defined = 3, Spiculated=4\n",
    "#Denstity: High = 0, ISO = 1, Low = 2, Fat - containing =3\n",
    "age = 20\n",
    "sex = 0\n",
    "weight = 65\n",
    "shape = 1\n",
    "margin = 0 \n",
    "denstity = 2\n",
    "\n",
    "patient = np.array([age, sex, weight, shape, margin, denstity]).reshape(1, -1) # Reshape the array to be a 2D array\n",
    "print(\"Thông tin bệnh nhân 1: \",patient)"
   ]
  },
  {
   "cell_type": "code",
   "execution_count": 280,
   "metadata": {},
   "outputs": [
    {
     "name": "stdout",
     "output_type": "stream",
     "text": [
      "[0]\n",
      "Bệnh nhân này mắc u lành tính\n"
     ]
    },
    {
     "name": "stderr",
     "output_type": "stream",
     "text": [
      "C:\\Users\\ADMIN\\anaconda3\\lib\\site-packages\\sklearn\\neighbors\\_classification.py:228: FutureWarning: Unlike other reduction functions (e.g. `skew`, `kurtosis`), the default behavior of `mode` typically preserves the axis it acts along. In SciPy 1.11.0, this behavior will change: the default value of `keepdims` will become False, the `axis` over which the statistic is taken will be eliminated, and the value None will no longer be accepted. Set `keepdims` to True or False to avoid this warning.\n",
      "  mode, _ = stats.mode(_y[neigh_ind, k], axis=1)\n"
     ]
    }
   ],
   "source": [
    "pred_patient = KNN_practice2.predict(patient)\n",
    "print(pred_patient)\n",
    "if (pred_patient ==0):\n",
    "    print(\"Bệnh nhân này mắc u lành tính\")\n",
    "else:\n",
    "    print(\"Bệnh nhân này mắc u ác tính\")"
   ]
  },
  {
   "cell_type": "code",
   "execution_count": 281,
   "metadata": {},
   "outputs": [
    {
     "name": "stdout",
     "output_type": "stream",
     "text": [
      "Thông tin bệnh nhân 2:  [[64  0 75  1  0  0]]\n"
     ]
    }
   ],
   "source": [
    "#Shape : 'Lobular' = 0 , 'Round' = 1, 'Irregular' = 2, 'Oval ' = 3\n",
    "#Margin: Circumscribed = 0, Microlobulated = 1, Obscured = 2, ill-defined = 3, Spiculated=4\n",
    "#Denstity: High = 0, ISO = 1, Low = 2, Fat - containing =3\n",
    "    \n",
    "age = 64\n",
    "sex = 0\n",
    "weight = 75\n",
    "shape = 1\n",
    "margin = 0 \n",
    "denstity = 0\n",
    "\n",
    "patient1 = np.array([age, sex, weight, shape, margin, denstity]).reshape(1, -1) # Reshape the array to be a 2D array\n",
    "print(\"Thông tin bệnh nhân 2: \",patient1)\n"
   ]
  },
  {
   "cell_type": "code",
   "execution_count": 282,
   "metadata": {},
   "outputs": [
    {
     "name": "stdout",
     "output_type": "stream",
     "text": [
      "___Kết quả___\n",
      "[0]\n",
      "Bệnh nhân này mắc u lành tính\n"
     ]
    },
    {
     "name": "stderr",
     "output_type": "stream",
     "text": [
      "C:\\Users\\ADMIN\\anaconda3\\lib\\site-packages\\sklearn\\neighbors\\_classification.py:228: FutureWarning: Unlike other reduction functions (e.g. `skew`, `kurtosis`), the default behavior of `mode` typically preserves the axis it acts along. In SciPy 1.11.0, this behavior will change: the default value of `keepdims` will become False, the `axis` over which the statistic is taken will be eliminated, and the value None will no longer be accepted. Set `keepdims` to True or False to avoid this warning.\n",
      "  mode, _ = stats.mode(_y[neigh_ind, k], axis=1)\n"
     ]
    }
   ],
   "source": [
    "print(\"___Kết quả___\")\n",
    "\n",
    "pred_patient1 = KNN_practice2.predict(patient1)\n",
    "print(pred_patient1)\n",
    "if (pred_patient ==0):\n",
    "    print(\"Bệnh nhân này mắc u lành tính\")\n",
    "if (pred_patient ==1):\n",
    "    print(\"Bệnh nhân này mắc u ác tính\")"
   ]
  },
  {
   "cell_type": "code",
   "execution_count": null,
   "metadata": {},
   "outputs": [],
   "source": []
  }
 ],
 "metadata": {
  "colab": {
   "collapsed_sections": [
    "tv__XfRLHtBf",
    "Wx9ciaKgyTW5",
    "M7iLGnc4WMs3",
    "Mw03rdzH9GnV",
    "Q3teCO6P_PFX",
    "xuLa3WmifOb0",
    "5dVTHDxJv5JW"
   ],
   "name": "Project2_TitanicDisaster",
   "provenance": [],
   "toc_visible": true
  },
  "kernelspec": {
   "display_name": "Python 3 (ipykernel)",
   "language": "python",
   "name": "python3"
  },
  "language_info": {
   "codemirror_mode": {
    "name": "ipython",
    "version": 3
   },
   "file_extension": ".py",
   "mimetype": "text/x-python",
   "name": "python",
   "nbconvert_exporter": "python",
   "pygments_lexer": "ipython3",
   "version": "3.9.13"
  }
 },
 "nbformat": 4,
 "nbformat_minor": 1
}
