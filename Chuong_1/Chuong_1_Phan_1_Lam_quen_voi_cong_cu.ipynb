{
 "cells": [
  {
   "cell_type": "markdown",
   "id": "1f07b0d7",
   "metadata": {},
   "source": [
    "<center>\n",
    "    <h1>Chuong 1: Tong quan ve hoc may</h1>\n",
    "    <img src=\"picture\\pci.jpg\" width=\"500px\">\n",
    "</center>\n",
    "\n",
    "**<h2>Noi dung bai hoc</h2>**\n",
    "<br>\n",
    "1.Tri tue nhan tao(AI)\n",
    "<br>\n",
    "2.Hoc may (ML)\n",
    "<br>\n",
    "3.Lich su cua ML\n",
    "<br>\n",
    "4.Cac thuat toan hoc may\n",
    "<br>\n",
    "    * Hoc co giam sat\n",
    "    <br>\n",
    "    * Hoc khong giam sat\n",
    "    <br>\n",
    "    * Hoc ban giam sat\n",
    "    <br>\n",
    "    * Hoc cung co\n",
    "    <br>\n",
    "5.Cac kien thuc va ky nang lam ve hoc may\n",
    "<br>\n",
    "6.Chuan bi cong cu va moi truong hoc tap"
   ]
  },
  {
   "cell_type": "code",
   "execution_count": 6,
   "id": "e4756bd3",
   "metadata": {},
   "outputs": [
    {
     "name": "stdout",
     "output_type": "stream",
     "text": [
      "1 . abc\n",
      "2 . abc\n",
      "3 . abc\n",
      "4 . abc\n",
      "5 . abc\n",
      "6 . abc\n",
      "7 . abc\n",
      "8 . abc\n",
      "9 . abc\n",
      "10 . abc\n"
     ]
    }
   ],
   "source": [
    "for i in range(1, 11):\n",
    "    print(i, \". abc\")"
   ]
  },
  {
   "cell_type": "code",
   "execution_count": 7,
   "id": "c2ef761e",
   "metadata": {},
   "outputs": [
    {
     "name": "stdout",
     "output_type": "stream",
     "text": [
      "Tuan\n"
     ]
    }
   ],
   "source": [
    "print(\"Tuan\")"
   ]
  },
  {
   "cell_type": "code",
   "execution_count": 12,
   "id": "1737d23f",
   "metadata": {},
   "outputs": [
    {
     "name": "stdout",
     "output_type": "stream",
     "text": [
      "Số nguyên a : 4\n",
      "Số nguyên b : 5\n",
      "Số chia hết cho 4 và không chia hết cho 5 : \n",
      "4 8 12 16 24 28 32 36 44 48 52 56 64 68 72 76 84 88 92 96 "
     ]
    }
   ],
   "source": [
    "#Bài tập kiểm tra lập trình\n",
    "\n",
    "number_a = int(input(\"Số nguyên a : \"))\n",
    "number_b = int(input(\"Số nguyên b : \"))\n",
    "\n",
    "print(\"Số chia hết cho\", number_a,\"và không chia hết cho\",number_b, \": \")\n",
    "for i in range(1, 101):\n",
    "    if i % number_a == 0 and i % number_b !=0:\n",
    "        \n",
    "        print(i, end=' ')\n",
    "    "
   ]
  },
  {
   "cell_type": "markdown",
   "id": "a7fa1864",
   "metadata": {},
   "source": [
    "<h2>6.2 Kiểm tra các thư viện Python quan trọng</h2>\n",
    "\n"
   ]
  },
  {
   "cell_type": "code",
   "execution_count": 1,
   "id": "7cafd44e",
   "metadata": {},
   "outputs": [
    {
     "name": "stdout",
     "output_type": "stream",
     "text": [
      "version Numpy :  1.21.5\n"
     ]
    }
   ],
   "source": [
    "import numpy as np\n",
    "print(\"version Numpy : \", np.__version__)"
   ]
  },
  {
   "cell_type": "code",
   "execution_count": 4,
   "id": "2351578a",
   "metadata": {},
   "outputs": [
    {
     "name": "stdout",
     "output_type": "stream",
     "text": [
      "1.4.4\n"
     ]
    }
   ],
   "source": [
    "import pandas as pd\n",
    "print(pd.__version__)"
   ]
  },
  {
   "cell_type": "code",
   "execution_count": 5,
   "id": "3afbd54e",
   "metadata": {},
   "outputs": [
    {
     "name": "stdout",
     "output_type": "stream",
     "text": [
      "3.5.2\n"
     ]
    }
   ],
   "source": [
    "import matplotlib as mpl\n",
    "print(mpl.__version__)"
   ]
  },
  {
   "cell_type": "code",
   "execution_count": 6,
   "id": "5a913cf5",
   "metadata": {},
   "outputs": [
    {
     "name": "stdout",
     "output_type": "stream",
     "text": [
      "1.0.2\n"
     ]
    }
   ],
   "source": [
    "import sklearn as sk\n",
    "print(sk.__version__)"
   ]
  },
  {
   "cell_type": "code",
   "execution_count": null,
   "id": "9606a5d5",
   "metadata": {},
   "outputs": [],
   "source": []
  }
 ],
 "metadata": {
  "kernelspec": {
   "display_name": "Python 3 (ipykernel)",
   "language": "python",
   "name": "python3"
  },
  "language_info": {
   "codemirror_mode": {
    "name": "ipython",
    "version": 3
   },
   "file_extension": ".py",
   "mimetype": "text/x-python",
   "name": "python",
   "nbconvert_exporter": "python",
   "pygments_lexer": "ipython3",
   "version": "3.9.13"
  }
 },
 "nbformat": 4,
 "nbformat_minor": 5
}
