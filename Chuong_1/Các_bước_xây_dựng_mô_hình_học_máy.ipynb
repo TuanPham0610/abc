{
 "cells": [
  {
   "cell_type": "markdown",
   "id": "26e0b13c",
   "metadata": {},
   "source": [
    "## Các bước xây dựng mô hình học máy\n",
    "* 1) Xác định bài toán và thu thập dữ liệu\n",
    "* 2) Chuẩn bị dữ liệu\n",
    "* 3) Lựa chọn mô hình phù hợp\n",
    "* 4) Huấn luyện mô hình\n",
    "* 5) Đánh giá mô hình\n",
    "* 6) nâng cao độ chính xác của mô hình \n",
    "* 7) Dự đoán với mô hình xây dựng được\n",
    "\n",
    "---------------\n"
   ]
  },
  {
   "cell_type": "markdown",
   "id": "a66b28c8",
   "metadata": {},
   "source": [
    "##  Bước 1: Xác định bài toán và thu thập dữ liệu"
   ]
  },
  {
   "cell_type": "code",
   "execution_count": null,
   "id": "bc13bbfd",
   "metadata": {},
   "outputs": [],
   "source": [
    "import pandas as pd\n",
    "\n",
    "df_heart = pd.read_csv(\"E:\\ML\\Chương_2_Phần 1\\Phan_1\\data\\Data_Patient.csv\")\n",
    "\n",
    "print(\"Thông tin dữ liệu\")\n",
    "print(\"__________________\")\n",
    "\n",
    "df_heart.info()"
   ]
  },
  {
   "cell_type": "code",
   "execution_count": null,
   "id": "3338c860",
   "metadata": {},
   "outputs": [],
   "source": [
    "print(\"Thông số\")\n",
    "print(\"_________\")\n",
    "df_heart.describe()"
   ]
  },
  {
   "cell_type": "code",
   "execution_count": null,
   "id": "ed2afe6a",
   "metadata": {},
   "outputs": [],
   "source": [
    "#Thống kê số lượng bệnh nhân bị bệnh và không bị bệnh (Đánh giá mức độ cân bằng dữ liệu)\n",
    "kq = df_heart['Result'].value_counts()\n",
    "lb = ['0 - Không bị đau tim','1-Bị đau tim']\n",
    "\n",
    "#----------------------------------------------\n",
    "#trực quan hóa số liệu\n",
    "import matplotlib.pyplot as plt\n",
    "plt.figure(figsize=(15,5))\n",
    "\n",
    "#Vẽ biểu đồ cột thể hiện số lượng hồ sơ bị bệnh - không bị bệnh\n",
    "plt.subplot(1,2,1) \n",
    "plt.bar(lb,kq.values, color=['#0099CC','#FF9900'])\n",
    "plt.grid(ls='--')\n",
    "\n",
    "#Vẽ biểu đồ tròn thể hiện tỷ lệ % hồ sơ bị bệnh - ko bị bệnh\n",
    "plt.subplot(1,2,2)\n",
    "plt.pie(kq.values, labels=lb, colors=['#0099CC','#FF9900'],\n",
    "        autopct='%.2f%%', wedgeprops=dict(width=0.6,edgecolor='w'))\n",
    "\n",
    "plt.show()"
   ]
  },
  {
   "cell_type": "code",
   "execution_count": null,
   "id": "e573bef0",
   "metadata": {},
   "outputs": [],
   "source": [
    "#Kiểm tra dữ liệu thiếu\n",
    "df_heart.loc[df_heart[['Type']].isnull().any(axis=1)]"
   ]
  },
  {
   "cell_type": "code",
   "execution_count": null,
   "id": "c5a744ee",
   "metadata": {},
   "outputs": [],
   "source": [
    "#Kiểm tra dữ liệu thiếu trong Dataset\n",
    "df_heart.isnull().sum()"
   ]
  },
  {
   "cell_type": "code",
   "execution_count": null,
   "id": "74c6cd48",
   "metadata": {},
   "outputs": [],
   "source": [
    "#Kiểm tra dữ liệu missing\n",
    "df_heart.loc[df_heart[['Thalassemia']].isnull().any(axis=1)]"
   ]
  },
  {
   "cell_type": "code",
   "execution_count": null,
   "id": "9cf9d1ca",
   "metadata": {},
   "outputs": [],
   "source": [
    "#Thống kế giá trị khác nhau trong Type\n",
    "df_heart['Type'].value_counts()\n",
    "\n"
   ]
  },
  {
   "cell_type": "code",
   "execution_count": null,
   "id": "ff255f5d",
   "metadata": {},
   "outputs": [],
   "source": [
    "#Thống kế giá trị khác nhau trong Thalassemia\n",
    "df_heart['Thalassemia'].value_counts()\n",
    "\n"
   ]
  },
  {
   "cell_type": "code",
   "execution_count": null,
   "id": "83e782f9",
   "metadata": {},
   "outputs": [],
   "source": [
    "#Thực hiện thay thế giá trị thiếu bằng giá trị xuất hiện nhiều nhất (mode)\n",
    "df_heart['Type'].fillna('Asymptomatic', inplace=True)\n",
    "df_heart['Thalassemia'].fillna(3.0, inplace=True)\n",
    "df_heart.info()"
   ]
  },
  {
   "cell_type": "code",
   "execution_count": null,
   "id": "b2a930d6",
   "metadata": {},
   "outputs": [],
   "source": [
    "#Biến phụ thuộc là biến mà kết quả của nó phụ thuộc vào các biến khác, còn được gọi là nhãn(lable/taget)\n",
    "#Tập dữ liêu có tồn tại biến phụ thuộc được gọi là tập dữ liệu có gán nhãn(Học có giám sát)"
   ]
  },
  {
   "cell_type": "code",
   "execution_count": null,
   "id": "a713e292",
   "metadata": {},
   "outputs": [],
   "source": [
    "#Dữ liệu y_train\n",
    "print('Kích thước biến phụ thuộc y_train:',y_train.shape)\n",
    "print(y_train)"
   ]
  },
  {
   "cell_type": "code",
   "execution_count": null,
   "id": "223d0c61",
   "metadata": {},
   "outputs": [],
   "source": []
  }
 ],
 "metadata": {
  "kernelspec": {
   "display_name": "Python 3 (ipykernel)",
   "language": "python",
   "name": "python3"
  },
  "language_info": {
   "codemirror_mode": {
    "name": "ipython",
    "version": 3
   },
   "file_extension": ".py",
   "mimetype": "text/x-python",
   "name": "python",
   "nbconvert_exporter": "python",
   "pygments_lexer": "ipython3",
   "version": "3.9.13"
  }
 },
 "nbformat": 4,
 "nbformat_minor": 5
}
