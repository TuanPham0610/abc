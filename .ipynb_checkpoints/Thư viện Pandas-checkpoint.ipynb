{
 "cells": [
  {
   "cell_type": "code",
   "execution_count": null,
   "id": "50f65cdf",
   "metadata": {},
   "outputs": [],
   "source": [
    "Tổng quan về thư viện Pandas\n",
    "-Pandas là một thư viện của python, được thiết kế để phân tích và thao tác dữ liệu một cách nhanh chóng\n",
    "-Pandas là viết tắt của panel data tức là bảng dữ liệu\n",
    "-Cung cấp 2 cấu trúc dữ liệu chính là Series(1) và Dataframe(2)\n",
    "(1) Là mảng một chiều có thể lưu trữ bất kỳ kiểu dữ liệu nào, hay như là 1 cột của 1 bảng\n",
    "(2) Là một bảng 2 chiều, tương tự như một bảng excel\n",
    "-Hỗ trợ nhiều phép toán thao tác dữ liệu như lọc, sắp xếp, nhóm và rashape(hình dạng) dữ liệu \n",
    "-Cho phép nhập dữ liệu từ nhiều nguồn khác nhau như CSV, SQL Database or Excel\n",
    "\n",
    "\n",
    "\n"
   ]
  },
  {
   "cell_type": "code",
   "execution_count": 2,
   "id": "cb4eb850",
   "metadata": {},
   "outputs": [
    {
     "name": "stdout",
     "output_type": "stream",
     "text": [
      "100    a\n",
      "101    b\n",
      "102    c\n",
      "103    d\n",
      "dtype: object\n"
     ]
    }
   ],
   "source": [
    "# 1-Cấu trúc dữ liệu Series\n",
    "# -Series có thể được tạo bằng cách sử dụng hàm tạo sau pandas.Series( data, index, dtype, copy)\n",
    "# (1) data : Có nhiều hình dạng khác nhau như ndarray ( mảng n chiều), list, constants\n",
    "# (2) index : Các giá trị index phải là duy nhất và có thể là hash (hàm băm) có cùng độ dài với dữ liệu mặc định np.arrand(n) nếu không có chỉ mục nào được thông qua\n",
    "# (3) dtype : Loại dữ liệu. Nếu không có, kiểu dữ liệu sẽ được suy ra\n",
    "# (4) copy : Sao chép dữ liệu, mặc định là false\n",
    "\n",
    "import pandas as pd\n",
    "import numpy as np\n",
    "data = np.array(['a','b','c','d'])\n",
    "s = pd.Series(data,index=[100,101,102,103])\n",
    "print(s)"
   ]
  },
  {
   "cell_type": "code",
   "execution_count": null,
   "id": "16580959",
   "metadata": {},
   "outputs": [],
   "source": []
  }
 ],
 "metadata": {
  "kernelspec": {
   "display_name": "Python 3 (ipykernel)",
   "language": "python",
   "name": "python3"
  },
  "language_info": {
   "codemirror_mode": {
    "name": "ipython",
    "version": 3
   },
   "file_extension": ".py",
   "mimetype": "text/x-python",
   "name": "python",
   "nbconvert_exporter": "python",
   "pygments_lexer": "ipython3",
   "version": "3.9.13"
  }
 },
 "nbformat": 4,
 "nbformat_minor": 5
}
